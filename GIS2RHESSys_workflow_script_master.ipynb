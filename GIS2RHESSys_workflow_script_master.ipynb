{
 "cells": [
  {
   "cell_type": "markdown",
   "metadata": {},
   "source": [
    "# GIS2RHESSys\n",
    "**Software / computer requirements:**\n",
    "- Max OS / LINUX (e.g., Urbantu) \n",
    "- GRASS 7.4.x installed \n",
    "- R 3.6.x or above\n",
    "- R package “rgrass7” and its dependences\n"
   ]
  },
  {
   "cell_type": "markdown",
   "metadata": {},
   "source": [
    "## Breakdowns of the workflow shell script"
   ]
  },
  {
   "cell_type": "markdown",
   "metadata": {},
   "source": [
    "<div class=\"alert alert-block alert-danger\">\n",
    "This page serves as a document embedded with code blocks for demostrations.\n",
    "This is not a JupyterNotebook for users to execute codes listed below. \n",
    "Users may copy/paste the codes to assemble a workflow bash/shell script running on local machine.\n",
    "</div>"
   ]
  },
  {
   "cell_type": "markdown",
   "metadata": {},
   "source": [
    "### 1. Initiate project directory and set up GRASS GIS dataset for RHESSys modeling  "
   ]
  },
  {
   "cell_type": "markdown",
   "metadata": {},
   "source": [
    "1.1 **Set system paths to GRASS, R, and Github libraries**"
   ]
  },
  {
   "cell_type": "markdown",
   "metadata": {},
   "source": [
    "<div class=\"alert alert-block alert-info\">\n",
    "The PATH settings below are for MAC OS. Users may need to modify some paths for the LINUX environment.\n",
    "</div>"
   ]
  },
  {
   "cell_type": "code",
   "execution_count": null,
   "metadata": {},
   "outputs": [],
   "source": [
    "# path setup below is for Mac OS\n",
    "# adding R paths\n",
    "export PATH=$PATH:/usr/local/bin\n",
    "export PATH=$PATH:/Library/Frameworks/R.framework/Resources\n",
    "# adding GRASS bin paths\n",
    "export PATH=$PATH:/Applications/GRASS-7.4.4.app/Contents/Resources/bin:/Applications/GRASS-7.4.4.app/Contents/Resources/scripts:/etc:/usr/lib\n",
    "# adding GRASS environment variables: GISBASE_USER and GISBASE_SYSTEM in Grass.sh\n",
    "export PATH=$PATH:~/Library/GRASS/7.4/Modules/bin:~/Library/GRASS/7.4/Modules/scripts\n",
    "# adding GDAL and EPSG code lookup paths (Running gdal-config --datadir shows where GDAL searches for gcs.csv)\n",
    "export GDAL_DATA=/Applications/GRASS-7.4.4.app/Contents/Resources/share/gdal\n",
    "GITHUBLIBRARIES=\"https://raw.githubusercontent.com/laurencelin/GIS2RHESSys/master/libraries\""
   ]
  },
  {
   "cell_type": "markdown",
   "metadata": {},
   "source": [
    "1.2 **User inputs for project directory, RHESSys model name, GIS projection and resolution**"
   ]
  },
  {
   "cell_type": "markdown",
   "metadata": {},
   "source": [
    "<div class=\"alert alert-block alert-info\">\n",
    "Enter the full path to the project directory (does not need to be created first; see the next step).<br>\n",
    "When search for UTM EPSG code, we recommend to use datum NAD83 for the U.S. catchments.<br>\n",
    "The spatial resolution (e.g., 3/10/30 m) of the elevation raster is often the spatial resolution of the RHESSys model.\n",
    "</div>"
   ]
  },
  {
   "cell_type": "code",
   "execution_count": null,
   "metadata": {},
   "outputs": [],
   "source": [
    "PROJDIR='/Workspace/current_projects/Delight' # full path to the project location;\n",
    "EPSGCODE='EPSG:26918' # EPSG code for NAD83 UTM ##N for the catchment\n",
    "RESOLUTION=10 #spatial resolution (meters) of the grids\n",
    "RHESSysNAME='rhessys' # e.g., rhessys\n",
    "GISDBASE=\"$PROJDIR\"/grass_dataset\n",
    "LOCATION_NAME=\"$RHESSysNAME\"\n",
    "LOCATION=\"$GISDBASE\"/$LOCATION_NAME\n",
    "MAPSET=PERMANENT"
   ]
  },
  {
   "cell_type": "markdown",
   "metadata": {},
   "source": [
    "<div class=\"alert alert-block alert-info\">\n",
    "Create project directory structures and RHESSys model directory structures. We only do this once initial although these commands do not overwrite existing directories.\n",
    "</div>"
   ]
  },
  {
   "cell_type": "code",
   "execution_count": null,
   "metadata": {},
   "outputs": [],
   "source": [
    "### ... create project folder structures\n",
    "mkdir \"$PROJDIR\"\n",
    "mkdir \"$PROJDIR\"/grass_dataset\n",
    "mkdir \"$PROJDIR\"/raw_data\n",
    "### ... create rhessys folder structures\n",
    "mkdir \"$PROJDIR\"/\"$RHESSysNAME\"\n",
    "mkdir \"$PROJDIR\"/\"$RHESSysNAME\"/defs\n",
    "mkdir \"$PROJDIR\"/\"$RHESSysNAME\"/flows\n",
    "mkdir \"$PROJDIR\"/\"$RHESSysNAME\"/worldfiles\n",
    "mkdir \"$PROJDIR\"/\"$RHESSysNAME\"/clim\n",
    "mkdir \"$PROJDIR\"/\"$RHESSysNAME\"/tecfiles\n",
    "mkdir \"$PROJDIR\"/\"$RHESSysNAME\"/output"
   ]
  },
  {
   "cell_type": "markdown",
   "metadata": {},
   "source": [
    "<div class=\"alert alert-block alert-info\">\n",
    "Create project GIS database. We only do this once initial although this command does not overwrite existing database.\n",
    "</div>"
   ]
  },
  {
   "cell_type": "code",
   "execution_count": null,
   "metadata": {},
   "outputs": [],
   "source": [
    "### ... create grass database\n",
    "grass74 -c $EPSGCODE -e \"$LOCATION\" # it spits out ERROR for location not available so that it can create new GIS dataset (just ignore this error).\n"
   ]
  },
  {
   "cell_type": "markdown",
   "metadata": {},
   "source": [
    "1.3 **Import and process of elevation data**"
   ]
  },
  {
   "cell_type": "markdown",
   "metadata": {},
   "source": [
    "<div class=\"alert alert-block alert-info\">\n",
    "set path to the elevation raster file (e.g., \"$PROJDIR\"/raw_data/DEM1m.tif)\n",
    "</div>"
   ]
  },
  {
   "cell_type": "code",
   "execution_count": null,
   "metadata": {},
   "outputs": [],
   "source": [
    "downloadedDEMfile=\"$PROJDIR\"/raw_data/DEM1m.tif"
   ]
  },
  {
   "cell_type": "markdown",
   "metadata": {},
   "source": [
    "<div class=\"alert alert-block alert-info\">\n",
    "(Option 1) Assume that we need to change the elevation raster projection and resample into desired spatial resolution.<br> a) We ask GRASS to read in the elevation raster source and then resample the spatial scale<br> b) We export the sampled elevation information into a new raster \"demXXm.tif\", where XX is the spatial resoluted defined above<br> c) We import the \"demXXm.tif\" to the project GIS database with reprojection process (based on gdal) and set the project GIS database spatial extension and resolution to match the \"demXXm.tif\".\n",
    "</div>"
   ]
  },
  {
   "cell_type": "code",
   "execution_count": null,
   "metadata": {},
   "outputs": [],
   "source": [
    "grass74 \"$LOCATION\"/$MAPSET --exec r.in.gdal -e --overwrite input=\"$downloadedDEMfile\" output=demRAW location=elevationRAW\n",
    "LOCATIONDEM=\"$GISDBASE\"/elevationRAW\n",
    "grass74 \"$LOCATIONDEM\"/$MAPSET --exec g.region raster=demRAW\n",
    "grass74 \"$LOCATIONDEM\"/$MAPSET --exec g.region res=$RESOLUTION -a -p\n",
    "grass74 \"$LOCATIONDEM\"/$MAPSET --exec r.resamp.stats -w input=demRAW output=dem$RESOLUTION'm' ### skip this if no resampling spatial scale\n",
    "grass74 \"$LOCATIONDEM\"/$MAPSET --exec r.out.gdal --overwrite input=dem$RESOLUTION'm' output=\"$PROJDIR\"/raw_data/dem$RESOLUTION'm.tif' format=GTiff\n",
    "grass74 \"$LOCATION\"/$MAPSET --exec r.in.gdal -o -e --overwrite input=\"$PROJDIR\"/raw_data/dem$RESOLUTION'm.tif' output=dem\n",
    "grass74 \"$LOCATION\"/$MAPSET --exec g.region raster=dem\n",
    "rm -rf \"$LOCATIONDEM\""
   ]
  },
  {
   "cell_type": "markdown",
   "metadata": {},
   "source": [
    "<div class=\"alert alert-block alert-info\">\n",
    "(Option 2) If the source elevation raster has the correct projection (UTM) and resolution, then we can just simply import it to the project GIS dataset and set the project GIS database spatial extension and resolution to match the elevation raster.\n",
    "</div>"
   ]
  },
  {
   "cell_type": "code",
   "execution_count": null,
   "metadata": {},
   "outputs": [],
   "source": [
    "grass74 \"$LOCATION\"/$MAPSET --exec r.in.gdal -o -e --overwrite input=\"$PROJDIR\"/raw_data/dem$RESOLUTION'm.tif' output=dem\n",
    "grass74 \"$LOCATION\"/$MAPSET --exec g.region raster=dem"
   ]
  },
  {
   "cell_type": "markdown",
   "metadata": {},
   "source": [
    "1.4 **Define catchment outlet**"
   ]
  },
  {
   "cell_type": "markdown",
   "metadata": {},
   "source": [
    "<div class=\"alert alert-block alert-info\">\n",
    "(Option 1) Use Lat/Long (WSG84 decimal degree) to define catchment outlet. Note that keep the negative sign if applied.\n",
    "</div>"
   ]
  },
  {
   "cell_type": "code",
   "execution_count": null,
   "metadata": {},
   "outputs": [],
   "source": [
    "gageLat='39.47947' # catchment outlet WSG84 Lat (decimal degree)\n",
    "gageLong='-76.67803' # catchment outlet WSG84 Long (decimal degree; includes the negative sign if applied)\n",
    "eval $(grass74 \"$LOCATION\"/$MAPSET --exec m.proj -i coordinates=$gageLong,$gageLat separator=space | awk '{print \"xyCoord=\" $1 \",\" $2}')\n",
    "echo $xyCoord | grass74 \"$LOCATION\"/$MAPSET --exec v.in.ascii in=- out=outlet x=1 y=2 separator=, --overwrite"
   ]
  },
  {
   "cell_type": "markdown",
   "metadata": {},
   "source": [
    "<div class=\"alert alert-block alert-info\">\n",
    "(Option 2) Import a catchment outlet shapefile. Note that this shapefile should contain only ONE point.\n",
    "</div>"
   ]
  },
  {
   "cell_type": "code",
   "execution_count": null,
   "metadata": {},
   "outputs": [],
   "source": [
    "gageShapefile=\"$PROJDIR\"/raw_data/USGS_Delight.shp\n",
    "grass74 \"$LOCATION\"/$MAPSET --exec v.in.ogr --overwrite input=\"$gageShapefile\" output=outlet location=outletRAW\n",
    "LOCATIONOUTLET=\"$GISDBASE\"'/outletRAW'\n",
    "grass74 \"$LOCATION\"/$MAPSET --exec v.proj --overwrite location=outletRAW mapset=PERMANENT input=outlet output=outlet\n",
    "rm -rf \"$LOCATIONOUTLET\""
   ]
  },
  {
   "cell_type": "markdown",
   "metadata": {},
   "source": [
    "1.5 **Catchment delineation**"
   ]
  },
  {
   "cell_type": "markdown",
   "metadata": {},
   "source": [
    "<div class=\"alert alert-block alert-info\">\n",
    "User needs to provide an estimation of catchment area (m^2) and threshold values to define modeling stream network. <br>\n",
    "The threshold value is an area (m^2), e.g., 620000 m^2 = 62 ha, that defines the extension of a major stream channels for RHESSys; it also affects the hillslope and subcatchment structures. <br>\n",
    "The second threshold value is also an area, e.g., 100000 m^2 = 10 ha, that defines the full extension of a stream network, including head water channels, for riparian delineation and surface water routing.\n",
    "</div>"
   ]
  },
  {
   "cell_type": "code",
   "execution_count": null,
   "metadata": {},
   "outputs": [],
   "source": [
    "expectedDrainageArea=10956000 # meter sq.\n",
    "expectedThresholdModelStr=620000 # meter sq.\n",
    "expectedThresholdStrExt=100000 # meter sq."
   ]
  },
  {
   "cell_type": "code",
   "execution_count": null,
   "metadata": {},
   "outputs": [],
   "source": [
    "GRASS_thres=$(($expectedThresholdModelStr/$RESOLUTION/$RESOLUTION)) # grid cell for stream network and hillslope configuration\n",
    "GRASS_thresII=$(($expectedThresholdStrExt/$RESOLUTION/$RESOLUTION))\n",
    "GRASS_drainarea_lowerbound=$((98*$expectedDrainageArea/$RESOLUTION/$RESOLUTION/100)) # (allow 2% error)\n",
    "GRASS_drainarea_upperbound=$((102*$expectedDrainageArea/$RESOLUTION/$RESOLUTION/100)) # (allow 2% error)\n",
    "\n",
    "grass74 \"$LOCATION\"/$MAPSET --exec bash <(curl -s \"$GITHUBLIBRARIES\"/grass_delineation_1.sh) $GRASS_thres $GRASS_drainarea_lowerbound $GRASS_drainarea_upperbound\n",
    "grass74 \"$LOCATION\"/$MAPSET --exec Rscript <(curl -s \"$GITHUBLIBRARIES\"/basin_determine.R)\n",
    "grass74 \"$LOCATION\"/$MAPSET --exec r.watershed elevation=dem threshold=$GRASS_thresII stream=strExt --overwrite # full stream extension;\n",
    "grass74 \"$LOCATION\"/$MAPSET --exec bash <(curl -s \"$GITHUBLIBRARIES\"/grass_delineation_2.sh)"
   ]
  },
  {
   "cell_type": "markdown",
   "metadata": {},
   "source": [
    "<div class=\"alert alert-block alert-info\">\n",
    "When this procedure is completed, a catchment is delineated, along with slope, aspect, wettness index (D-inf), east & west horizon sun angles, hillslope IDs, subcatchment IDs, patch IDs, streams, flow accumulation, and drainage direction (D-Inf). GIS computation region and mask are also set by the delineated catchment. \n",
    "</div>"
   ]
  },
  {
   "cell_type": "markdown",
   "metadata": {},
   "source": [
    "1.6 **Define climate zones**"
   ]
  },
  {
   "cell_type": "markdown",
   "metadata": {},
   "source": [
    "<div class=\"alert alert-block alert-info\">\n",
    "(Option 1) The coarse climate zone setting  \n",
    "</div>"
   ]
  },
  {
   "cell_type": "code",
   "execution_count": null,
   "metadata": {},
   "outputs": [],
   "source": [
    "grass74 \"$LOCATION\"/$MAPSET --exec r.mapcalc --overwrite expression=\"zone_hill = hill\""
   ]
  },
  {
   "cell_type": "markdown",
   "metadata": {},
   "source": [
    "<div class=\"alert alert-block alert-info\">\n",
    "(Option 2) Using statistical cluster analysis, we delineate the elevation bands and further partition the bands by aspect, slope, and hillslopes. The resulting climate zone is finer than the coarse setting (option 1) but not as fine as the finest setting (option 3).\n",
    "</div>"
   ]
  },
  {
   "cell_type": "code",
   "execution_count": null,
   "metadata": {},
   "outputs": [],
   "source": [
    "grass74 \"$LOCATION\"/$MAPSET --exec Rscript <(curl -s \"$GITHUBLIBRARIES\"/zone_cluster.R) dem slope aspect hill zone_cluster"
   ]
  },
  {
   "cell_type": "markdown",
   "metadata": {},
   "source": [
    "<div class=\"alert alert-block alert-info\">\n",
    "(Option 3) The finest climate zone setting, same as elevation resolution. This also increases the RHESSys computation time\n",
    "</div>"
   ]
  },
  {
   "cell_type": "code",
   "execution_count": null,
   "metadata": {},
   "outputs": [],
   "source": [
    "grass74 \"$LOCATION\"/$MAPSET --exec r.mapcalc --overwrite expression=\"zone_patch = patch\""
   ]
  },
  {
   "cell_type": "markdown",
   "metadata": {},
   "source": [
    "1.7 **Define isohyet (MUST)**"
   ]
  },
  {
   "cell_type": "markdown",
   "metadata": {},
   "source": [
    "<div class=\"alert alert-block alert-info\">\n",
    "(Option 1) import ioshyet raster\n",
    "</div>"
   ]
  },
  {
   "cell_type": "code",
   "execution_count": null,
   "metadata": {},
   "outputs": [],
   "source": [
    "grass74 \"$LOCATION\"/$MAPSET --exec r.in.gdal -o --overwrite input=\"$PROJDIR\"/raw_data/isohyet.tif output=isohyet"
   ]
  },
  {
   "cell_type": "markdown",
   "metadata": {},
   "source": [
    "<div class=\"alert alert-block alert-info\">\n",
    "(Option 2) calculate isohyet by raster calculator (the calculation below is just an example)\n",
    "</div>"
   ]
  },
  {
   "cell_type": "code",
   "execution_count": null,
   "metadata": {},
   "outputs": [],
   "source": [
    "grass74 $LOCATION/$MAPSET --exec r.mapcalc --overwrite expression=\"isohyet = (1 +(4.268e-04)*(dem-1200) +(-6.799e-05)*slope +(5.845e-03)*sin(aspect*0.01745329)*sin(slope*0.01745329) +(-1.267e-02)*cos(aspect*0.01745329)*sin(slope*0.01745329))*1.45817781\""
   ]
  },
  {
   "cell_type": "markdown",
   "metadata": {},
   "source": [
    "<div class=\"alert alert-block alert-info\">\n",
    "(Option 3) no ioshyet --> set ioshyet to one everywhere\n",
    "</div>"
   ]
  },
  {
   "cell_type": "code",
   "execution_count": null,
   "metadata": {},
   "outputs": [],
   "source": [
    "grass74 \"$LOCATION\"/$MAPSET --exec r.mapcalc --overwrite expression=\"isohyet = 1\""
   ]
  },
  {
   "cell_type": "markdown",
   "metadata": {},
   "source": [
    "1.8 **Import SSURGO soil information**"
   ]
  },
  {
   "cell_type": "markdown",
   "metadata": {},
   "source": [
    "<div class=\"alert alert-block alert-info\">\n",
    "This step requires the SSURGO spatial and tabular dataset. <br>\n",
    "Users need to set the path to the SSURGO dataset, e.g., \"$PROJDIR\"/raw_data/MD005 <br>\n",
    "The procedure below reprojects the SSURGO mukey (areal polygon) shapefile onto the project GIS database, extract soil information from the tabular dataset, and map the extracted soil information to the corresponding mukey polygons.\n",
    "</div>"
   ]
  },
  {
   "cell_type": "code",
   "execution_count": null,
   "metadata": {},
   "outputs": [],
   "source": [
    "downloadedSSURGOdirectoryPATH=\"$PROJDIR\"/raw_data/MD005\n",
    "grass74 \"$LOCATION\"/$MAPSET --exec v.in.ogr --overwrite input=\"$downloadedSSURGOdirectoryPATH\"/spatial/soilmu_a_\"$(echo ${downloadedSSURGOdirectoryPATH##*/} | tr '[A-Z]' '[a-z]')\".shp output=ssurgo location=soilRAW\n",
    "LOCATIONSOIL=\"$GISDBASE\"/soilRAW\n",
    "### ... import (reprojected) soil data to \"\"$LOCATION\"/$MAPSET\" and convert shape-polygon to raster soil (USDA) classes\n",
    "grass74 \"$LOCATION\"/$MAPSET --exec v.proj --overwrite location=soilRAW mapset=PERMANENT input=ssurgo output=ssurgo\n",
    "grass74 \"$LOCATION\"/$MAPSET --exec v.to.rast --overwrite input=ssurgo use=cat output=soil_ssurgo\n",
    "grass74 \"$LOCATION\"/$MAPSET --exec v.db.select map=ssurgo separator=comma file=\"$PROJDIR\"/\"$RHESSysNAME\"/soil_cat_mukey.csv\n",
    "Rscript <(curl -s https://raw.githubusercontent.com/laurencelin/ssurgo_extraction/master/ssurgo_extraction.R) \"$downloadedSSURGOdirectoryPATH\"\n",
    "grass74 \"$LOCATION\"/$MAPSET --exec Rscript <(curl -s https://raw.githubusercontent.com/laurencelin/ssurgo_extraction/master/ssurgo_soiltexture2gis.R) \"$PROJDIR\"/\"$RHESSysNAME\"/soil_cat_mukey.csv \"$downloadedSSURGOdirectoryPATH\"/soil_mukey_texture.csv\n",
    "rm -rf \"$LOCATIONSOIL\""
   ]
  },
  {
   "cell_type": "markdown",
   "metadata": {},
   "source": [
    "1.9 **Import high resolution LULC data and aggregate information into modeling patch (elevation grids)**"
   ]
  },
  {
   "cell_type": "markdown",
   "metadata": {},
   "source": [
    "<div class=\"alert alert-block alert-info\">\n",
    "For any LULC data, we breakdown the LULC information by the following compositions at the patch level:<br>\n",
    "- forest composition<br>\n",
    "- shrub composition<br>\n",
    "- crop composition<br>\n",
    "- grass composition<br>\n",
    "- imperviousness composition<br>\n",
    "<br>\n",
    "For imperviousness compositional fraction, we further partition this fraction into different catagories:<br>\n",
    "- impervious structure roof<br>\n",
    "- impervious parking/non-structural surface <br>\n",
    "- impervious (paved) road <br>\n",
    "<br>\n",
    "the code block below extracts the fractions of LULC classification in each modeling patch\n",
    "</div>"
   ]
  },
  {
   "cell_type": "code",
   "execution_count": null,
   "metadata": {},
   "outputs": [],
   "source": [
    "downloadedLULCfile=\"$PROJDIR\"/raw_data/'LULC1m.tif' \n",
    "grass74 \"$LOCATION\"/$MAPSET --exec r.in.gdal -e --overwrite input=\"$downloadedLULCfile\" output=lulcRAW location=lulcRAW\n",
    "LOCATIONLULC=\"$GISDBASE\"/lulcRAW\n",
    "grass74 \"$LOCATION\"/$MAPSET --exec r.to.vect input=patch output=patch type=area\n",
    "grass74 \"$LOCATIONLULC\"/$MAPSET --exec v.proj location=$LOCATION_NAME mapset=$MAPSET input=patch output=patch$RESOLUTION'm'\n",
    "grass74 \"$LOCATIONLULC\"/$MAPSET --exec v.to.rast input=patch$RESOLUTION'm' output=patch$RESOLUTION'm' use=attr attribute_column=value\n",
    "grass74 \"$LOCATIONLULC\"/$MAPSET --exec Rscript <(curl -s \"$GITHUBLIBRARIES\"/aggregate_lulcFrac.R) patch$RESOLUTION'm' lulcRAW \"$PROJDIR\"/\"$RHESSysNAME\"/lulcFrac$RESOLUTION'm.csv'"
   ]
  },
  {
   "cell_type": "markdown",
   "metadata": {},
   "source": [
    "<div class=\"alert alert-block alert-info\">\n",
    "To translate LULC classifications into the compositions above, we need to define each classification class by the the compositions.\n",
    "</div>"
   ]
  },
  {
   "cell_type": "markdown",
   "metadata": {},
   "source": [
    "For example, NLCD code 42 - deciduous forest, 22 low-density urban, and 24 high-density urban,\n",
    "\n",
    "| classification code | forestComp | shrubComp | CropComp | grassComp | impComp |\n",
    "|------|------|------|------|------|\n",
    "|   42 | 1| 0| 0| 0| 0|\n",
    "|   22 | 0.2| 0| 0| 0.3|0.5 |\n",
    "|   24 | 0| 0| 0| 0| 1|"
   ]
  },
  {
   "cell_type": "markdown",
   "metadata": {},
   "source": [
    "<div class=\"alert alert-block alert-info\">\n",
    "(Option 1) This block of code below is to create an excel table (just like the example above) for users to fill in the information when LULC classification is not one of the standard ones, e.g., NLCD, ...\n",
    "</div>"
   ]
  },
  {
   "cell_type": "code",
   "execution_count": null,
   "metadata": {},
   "outputs": [],
   "source": [
    "Rscript <(curl -s \"$GITHUBLIBRARIES\"/LULC_codeinformation.R) \"$PROJDIR\"/\"$RHESSysNAME\"/lulcFrac$RESOLUTION'm.csv' \"$PROJDIR\"/\"$RHESSysNAME\"/lulc_codeinformation.csv\n",
    "grass74 \"$LOCATION\"/$MAPSET --exec Rscript <(curl -s \"$GITHUBLIBRARIES\"/aggregate_lulcFrac_write2GIS.R) patch \"$PROJDIR\"/\"$RHESSysNAME\"/lulcFrac$RESOLUTION'm.csv' \"$PROJDIR\"/\"$RHESSysNAME\"/lulc_codeinformation.csv\n",
    "rm -rf \"$LOCATIONLULC\""
   ]
  },
  {
   "cell_type": "markdown",
   "metadata": {},
   "source": [
    "<div class=\"alert alert-block alert-info\">\n",
    "(Option 2) NLCD LULC classification\n",
    "</div>"
   ]
  },
  {
   "cell_type": "code",
   "execution_count": null,
   "metadata": {},
   "outputs": [],
   "source": [
    "grass74 \"$LOCATION\"/$MAPSET --exec Rscript <(curl -s \"$GITHUBLIBRARIES\"/aggregate_lulcFrac_write2GIS.R) patch \"$PROJDIR\"/\"$RHESSysNAME\"/lulcFrac$RESOLUTION'm.csv' <(curl -s https://raw.githubusercontent.com/laurencelin/GIS2RHESSys/master/lulc_30m_NLCD.csv)\n",
    "rm -rf \"$LOCATIONLULC\""
   ]
  },
  {
   "cell_type": "markdown",
   "metadata": {},
   "source": [
    "<div class=\"alert alert-block alert-info\">\n",
    "(Option 3) Baltimore LULC classification\n",
    "</div>"
   ]
  },
  {
   "cell_type": "code",
   "execution_count": null,
   "metadata": {},
   "outputs": [],
   "source": [
    "grass74 \"$LOCATION\"/$MAPSET --exec Rscript <(curl -s \"$GITHUBLIBRARIES\"/aggregate_lulcFrac_write2GIS.R) patch \"$PROJDIR\"/\"$RHESSysNAME\"/lulcFrac$RESOLUTION'm.csv' <(curl -s https://raw.githubusercontent.com/laurencelin/GIS2RHESSys/master/lulc_1m_Chesapeake_Conservancy.csv)\n",
    "rm -rf \"$LOCATIONLULC\""
   ]
  },
  {
   "cell_type": "markdown",
   "metadata": {},
   "source": [
    "<div class=\"alert alert-block alert-info\">\n",
    "(Option 4) Virginia LULC classification\n",
    "</div>"
   ]
  },
  {
   "cell_type": "code",
   "execution_count": null,
   "metadata": {},
   "outputs": [],
   "source": [
    "grass74 \"$LOCATION\"/$MAPSET --exec Rscript <(curl -s \"$GITHUBLIBRARIES\"/aggregate_lulcFrac_write2GIS.R) patch \"$PROJDIR\"/\"$RHESSysNAME\"/lulcFrac$RESOLUTION'm.csv' <(curl -s https://raw.githubusercontent.com/laurencelin/GIS2RHESSys/master/lulc_1m_va.csv)\n",
    "rm -rf \"$LOCATIONLULC\""
   ]
  },
  {
   "cell_type": "markdown",
   "metadata": {},
   "source": [
    "1.10 **Define vegetation for vegetated LULC areas**"
   ]
  },
  {
   "cell_type": "markdown",
   "metadata": {},
   "source": [
    "<div class=\"alert alert-block alert-info\">\n",
    "The forest/shrub/crop/grass LULC composition calculated above is a defined area for forest/shrub/crop/grass, and we have to define what vegetations should be growing in the area. Current script can support up to 15 vegetation types per patch.\n",
    "</div>"
   ]
  },
  {
   "cell_type": "markdown",
   "metadata": {},
   "source": [
    "<div class=\"alert alert-block alert-info\">\n",
    "For example, we model an oak-dominated canopy in a forested catchment. <br> <br>\n",
    "We determine the locations of oak canopy (the first line) <br>\n",
    "We simply model the full canopy as oak and maple (the second line); \"FFrac\" indicates the oak composition in the full canopy. In this example, FFrac = 0.8, i.e., we treat the full canopy as 80% oak and 20% maple.<br>\n",
    "We set the LAI for the oak canopy (the third line). In this example, LAI is a constant 5.5. One can substitude the 5.5 value by an imported remotely sensed LAI raster. \n",
    "</div>"
   ]
  },
  {
   "cell_type": "code",
   "execution_count": null,
   "metadata": {},
   "outputs": [],
   "source": [
    "grass74 \"$LOCATION\"/$MAPSET --exec r.mapcalc --overwrite expression=\"oak_canopy = if(forestFrac>0,102,null())\" # - the first line\n",
    "grass74 \"$LOCATION\"/$MAPSET --exec r.mapcalc --overwrite expression=\"oak_canopy_FFrac = if(forestFrac>0,0.8,null())\" # - the second line\n",
    "grass74 \"$LOCATION\"/$MAPSET --exec r.mapcalc --overwrite expression=\"oak_canopy_LAI = if(forestFrac>0,5.5,null())\" # - the third line"
   ]
  },
  {
   "cell_type": "code",
   "execution_count": null,
   "metadata": {},
   "outputs": [],
   "source": [
    "grass74 \"$LOCATION\"/$MAPSET --exec r.mapcalc --overwrite expression=\"maple_canopy = if(forestFrac>0,111,null())\"\n",
    "grass74 \"$LOCATION\"/$MAPSET --exec r.mapcalc --overwrite expression=\"maple_canopy_FFrac = if(forestFrac>0,0.2,null())\"\n",
    "grass74 \"$LOCATION\"/$MAPSET --exec r.mapcalc --overwrite expression=\"maple_canopy_LAI = if(forestFrac>0,5.5,null())\""
   ]
  },
  {
   "cell_type": "markdown",
   "metadata": {},
   "source": [
    "<div class=\"alert alert-block alert-info\">\n",
    "Similarly, we can model the lawn/pasture the same way.\n",
    "</div>"
   ]
  },
  {
   "cell_type": "code",
   "execution_count": null,
   "metadata": {},
   "outputs": [],
   "source": [
    "grass74 \"$LOCATION\"/$MAPSET --exec r.mapcalc --overwrite expression=\"grass1StratumID = if(lawnFrac>0,3,null())\"\n",
    "grass74 \"$LOCATION\"/$MAPSET --exec r.mapcalc --overwrite expression=\"grass1FFrac = if(lawnFrac>0,1.0,null())\"\n",
    "grass74 \"$LOCATION\"/$MAPSET --exec r.mapcalc --overwrite expression=\"grass1LAI = if(lawnFrac>0,1.5,null())\""
   ]
  },
  {
   "cell_type": "markdown",
   "metadata": {},
   "source": [
    "1.11 **Import road network (shapefile; if applied)**"
   ]
  },
  {
   "cell_type": "markdown",
   "metadata": {},
   "source": [
    "<div class=\"alert alert-block alert-info\">\n",
    "This is optional to import a vector-based road network.\n",
    "</div>"
   ]
  },
  {
   "cell_type": "code",
   "execution_count": null,
   "metadata": {},
   "outputs": [],
   "source": [
    "downloadedROADfile=\"$PROJDIR\"/raw_data/'Roads_GDT_MSA.shp'\n",
    "grass74 \"$LOCATION\"/$MAPSET --exec v.in.ogr --overwrite input=\"$downloadedROADfile\" output=roads location=roadRAW\n",
    "LOCATIONROAD=\"$GISDBASE\"/roadRAW\n",
    "grass74 \"$LOCATION\"/$MAPSET --exec v.proj --overwrite location=roadRAW mapset=$MAPSET input=roads output=roads\n",
    "grass74 \"$LOCATION\"/$MAPSET --exec v.to.rast --overwrite input=roads output=vector_roads use=cat\n",
    "rm -rf \"$LOCATIONROAD\""
   ]
  },
  {
   "cell_type": "markdown",
   "metadata": {},
   "source": [
    "1.12 **Define riparian (if applied)**"
   ]
  },
  {
   "cell_type": "markdown",
   "metadata": {},
   "source": [
    "<div class=\"alert alert-block alert-info\">\n",
    "(Option 1) import a determined riparian raster\n",
    "</div>"
   ]
  },
  {
   "cell_type": "code",
   "execution_count": null,
   "metadata": {},
   "outputs": [],
   "source": [
    "grass74 \"$LOCATION\"/\"$MAPSET\" --exec r.in.gdal -o --overwrite input=\"$PROJDIR\"/raw_data/riparian.tif output=riparian"
   ]
  },
  {
   "cell_type": "markdown",
   "metadata": {},
   "source": [
    "<div class=\"alert alert-block alert-info\">\n",
    "(Option 2) Use HANDS tool to define riparian zone. This is timely process.\n",
    "</div>"
   ]
  },
  {
   "cell_type": "code",
   "execution_count": null,
   "metadata": {},
   "outputs": [],
   "source": [
    "grass74 \"$LOCATION\"/\"$MAPSET\" --exec Rscript <(curl -s \"$GITHUBLIBRARIES\"/elevation_analysis.R) dem colmap rowmap drain hill strExt\n",
    "grass74 \"$LOCATION\"/\"$MAPSET\" --exec r.mapcalc expression=\"riparian_hands = if( handsDEM < 5, 1, null())\" --overwrite"
   ]
  },
  {
   "cell_type": "markdown",
   "metadata": {},
   "source": [
    "1.13 **Define surface drainage features for urban catchments (if applied)**"
   ]
  },
  {
   "cell_type": "markdown",
   "metadata": {},
   "source": [
    "<div class=\"alert alert-block alert-info\">\n",
    "Current RHESSys EC supports storm drinage along road network, (subsurface) sewer drinage, and surface drainage. \n",
    "</div>"
   ]
  },
  {
   "cell_type": "code",
   "execution_count": null,
   "metadata": {},
   "outputs": [],
   "source": [
    "### ... storm drinage along the paved roads\n",
    "grass74 \"$LOCATION\"/$MAPSET --exec r.mapcalc expression=\"roadDEM = if(pavedRoadFrac>0,dem,null())\"\n",
    "grass74 \"$LOCATION\"/$MAPSET --exec r.watershed -s --overwrite elevation=roadDEM drainage=roadDrain\n",
    "grass74 \"$LOCATION\"/$MAPSET --exec r.mapcalc --overwrite expression=\"roadExit = if(roadDrain<0, patch, null())\""
   ]
  },
  {
   "cell_type": "code",
   "execution_count": null,
   "metadata": {},
   "outputs": [],
   "source": [
    "### ... assume sewer lines go along major roads (imported from shapefile) and sewer lines drainge a neigbour area\n",
    "grass74 \"$LOCATION\"/$MAPSET --exec r.buffer --overwrite input=roads output=roadbuff distances=30\n",
    "grass74 \"$LOCATION\"/$MAPSET --exec r.mapcalc expression=\"sewercover = if( (lawnFrac>0.1 || impFrac >0.1) && pavedRoadFrac<0.3 && roadbuff>0, 1, null())\" --overwrite"
   ]
  },
  {
   "cell_type": "code",
   "execution_count": null,
   "metadata": {},
   "outputs": [],
   "source": [
    "### ... additional surface drainage  (other than roof, driveway, parking, and paved roads), e.g., drainage hole in playground / garden\n",
    "grass74 \"$LOCATION\"/$MAPSET --exec r.mapcalc --overwrite expression=\"addsurfdrain = if( forestFrac<0.5 && roofBuff>0, 1 , null())\""
   ]
  },
  {
   "cell_type": "code",
   "execution_count": null,
   "metadata": {},
   "outputs": [],
   "source": [
    "### ... soil compactness by construction\n",
    "grass74 \"$LOCATION\"/$MAPSET --exec r.mapcalc --overwrite expression=\"roof = if(roofFrac > 0.5, 1, null())\"\n",
    "grass74 \"$LOCATION\"/$MAPSET --exec r.buffer --overwrite input=roof output=roofBuff distances=30\n",
    "grass74 \"$LOCATION\"/$MAPSET --exec r.mapcalc --overwrite expression=\"naturalLand = if( (forestFrac>=1 || lawnFrac>=1)&& isnull(roofBuff), 1 , null())\"\n",
    "grass74 \"$LOCATION\"/$MAPSET --exec r.mapcalc --overwrite expression=\"compactedsoil = if( naturalLand>0, null(), basin)\""
   ]
  },
  {
   "cell_type": "markdown",
   "metadata": {},
   "source": [
    "2. ### Extract GRASS GIS dataset into RHESSys modeling inputs"
   ]
  },
  {
   "cell_type": "markdown",
   "metadata": {},
   "source": [
    "2.1 **Build template**"
   ]
  },
  {
   "cell_type": "code",
   "execution_count": null,
   "metadata": {},
   "outputs": [],
   "source": [
    "# path for the template file\n",
    "templateFile=\"$PROJDIR\"/\"$RHESSysNAME\"/g2w_template.txt \n",
    "#\n",
    "# set paths for RHESSys input files\n",
    "# 1 = Yes, output this file; 0 = No, do not output this file\n",
    "echo outputWorldfile \\\"\"$PROJDIR\"/\"$RHESSysNAME\"/worldfiles/worldfile.csv\\\" 1 > \"$templateFile\"\n",
    "echo outputWorldfileHDR \\\"\"$PROJDIR\"/\"$RHESSysNAME\"/worldfiles/worldfile.hdr\\\" 1 >> \"$templateFile\"\n",
    "echo outputDefs \\\"\"$PROJDIR\"/\"$RHESSysNAME\"/defs\\\" 1 >> \"$templateFile\"\n",
    "echo outputSurfFlow \\\"\"$PROJDIR\"/\"$RHESSysNAME\"/flows/surfflow.txt\\\" 1 >> \"$templateFile\"\n",
    "echo outputSubFlow \\\"\"$PROJDIR\"/\"$RHESSysNAME\"/flows/subflow.txt\\\" 1 >> \"$templateFile\"\n",
    "#\n",
    "# set climate station ID and file name\n",
    "echo stationID 101 >> \"$templateFile\"\n",
    "echo stationFile \\\"\"clim/Oregon.base\"\\\" >> \"$templateFile\"\n",
    "#\n",
    "# the following maps that must be provided with syntex:\n",
    "# echo keyword <map> >> \"$templateFile\"\n",
    "echo basinMap basin >> \"$templateFile\"\n",
    "echo hillslopeMap hill >> \"$templateFile\"\n",
    "echo zoneMAP zone_cluster >> \"$templateFile\"\n",
    "echo patchMAP patch >> \"$templateFile\"\n",
    "echo soilidMAP soil_texture_fill >> \"$templateFile\"\n",
    "echo xMAP xmap >> \"$templateFile\"\n",
    "echo yMAP ymap >> \"$templateFile\"\n",
    "echo demMAP dem >> \"$templateFile\"\n",
    "echo slopeMap slope >> \"$templateFile\"\n",
    "echo aspectMAP aspect >> \"$templateFile\"\n",
    "echo twiMAP wetness_index >> \"$templateFile\"\n",
    "echo whorizonMAP west_180 >> \"$templateFile\"\n",
    "echo ehorizonMAP east_000 >> \"$templateFile\"\n",
    "echo isohyetMAP isohyet >> \"$templateFile\"\n",
    "echo rowMap rowmap >> \"$templateFile\"\n",
    "echo colMap colmap >> \"$templateFile\"\n",
    "echo drainMap drain >> \"$templateFile\"\n",
    "# ... impervious and its breakdown\n",
    "echo impFracMAP impFrac >> \"$templateFile\"\n",
    "echo roofMAP roofFrac >> \"$templateFile\"\n",
    "echo drivewayMAP drivewayFrac >> \"$templateFile\"\n",
    "echo pavedRoadFracMAP pavedRoadFrac >> \"$templateFile\"\n",
    "# ... forest vegetations\n",
    "# ... ... vegetation 1\n",
    "echo forestFracMAP forestFrac_manipu1 >> \"$templateFile\"\n",
    "echo tree1StratumID forestStratumID >> \"$templateFile\"\n",
    "echo tree1FFrac forestFFrac_manipu1 >> \"$templateFile\"\n",
    "echo tree1LAI forestLAI >> \"$templateFile\"\n",
    "# ... ... vegetation 2\n",
    "echo tree2StratumID evergreenBGCStratumID >> \"$templateFile\"\n",
    "echo tree2FFrac smallPineFFrac >> \"$templateFile\"\n",
    "echo tree2LAI smallPineLAI >> \"$templateFile\"\n",
    "# ... shrub vegetation\n",
    "echo shrubFracMAP shrubFrac >> \"$templateFile\"\n",
    "echo shrub1StratumID shrub1StratumID >> \"$templateFile\"\n",
    "echo shrub1FFrac shrub1FFrac >> \"$templateFile\"\n",
    "echo shrub1LAI shrub1LAI >> \"$templateFile\"\n",
    "# ... crop vegetation\n",
    "echo cropFracMAP cropFrac_manipu1 >> \"$templateFile\"\n",
    "echo crop1StratumID crop1StratumID >> \"$templateFile\"\n",
    "echo crop1FFrac crop1FFrac >> \"$templateFile\"\n",
    "echo crop1LAI crop1LAI >> \"$templateFile\"\n",
    "# ... lawn/pasture vegetation\n",
    "echo grassFracMAP lawnFrac_manipu1 >> \"$templateFile\"\n",
    "echo grass1StratumID lawn1StratumID >> \"$templateFile\"\n",
    "echo grass1FFrac lawn1FFrac >> \"$templateFile\"\n",
    "echo grass1LAI lawn1LAI >> \"$templateFile\"\n",
    "# ... modeling stream-grids\n",
    "echo streamMap strExt >> \"$templateFile\"\n",
    "#\n",
    "# The following maps are optional; User can comment out the lines that do not apply using \"#\" up front.\n",
    "echo streamFullextension strExt >> \"$templateFile\"\n",
    "#echo unpavedroadMap NA >> \"$templateFile\"\n",
    "echo riparianMAP riparian_hands >> \"$templateFile\"\n",
    "#echo sewercoverMAP sewercover >> \"$templateFile\"\n",
    "#echo pipecoverMAP NA >> \"$templateFile\"\n",
    "#echo stormdrainMAP roadExit >> \"$templateFile\"\n",
    "#echo compactedsoilMAP compactedsoil >> \"$templateFile\"\n",
    "#echo additionalSurfaceDrainMAP addsurfdrain >> \"$templateFile\""
   ]
  },
  {
   "cell_type": "markdown",
   "metadata": {},
   "source": [
    "2.2 **Select extraction script for the desired RHESSys version**"
   ]
  },
  {
   "cell_type": "markdown",
   "metadata": {},
   "source": [
    "<div class=\"alert alert-block alert-info\">\n",
    "So far we only support the RHESSys EC build. Other builds will come in the near future.\n",
    "</div>"
   ]
  },
  {
   "cell_type": "code",
   "execution_count": null,
   "metadata": {},
   "outputs": [],
   "source": [
    "grass74 \"$LOCATION\"/$MAPSET --exec Rscript <(curl -s \"$GITHUBLIBRARIES\"/g2w_cf_RHESSysEC.R) \"$PROJDIR\" default default default $templateFile\n",
    "Rscript <(curl -s \"$GITHUBLIBRARIES\"/LIB_RHESSys_writeTable2World.R) na \"$PROJDIR\"/\"$RHESSysNAME\"/worldfiles/worldfile.csv \"$PROJDIR\"/\"$RHESSysNAME\"/worldfiles/worldfile"
   ]
  }
 ],
 "metadata": {
  "kernelspec": {
   "display_name": "R 3.4",
   "language": "R",
   "name": "ir34"
  },
  "language_info": {
   "codemirror_mode": "r",
   "file_extension": ".r",
   "mimetype": "text/x-r-source",
   "name": "R",
   "pygments_lexer": "r",
   "version": "3.4.1"
  }
 },
 "nbformat": 4,
 "nbformat_minor": 2
}

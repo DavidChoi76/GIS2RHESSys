{
 "cells": [
  {
   "cell_type": "markdown",
   "metadata": {},
   "source": [
    "# GIS2RHESSys\n",
    "\n"
   ]
  },
  {
   "cell_type": "markdown",
   "metadata": {},
   "source": [
    "**Introduction:**\n",
    "\n",
    "GIS2RHESSys is designed to setup RHESSysEastCoast model. There are two parts in this model setup process. First part is to setup GIS dataset from the raw data user provide. GIS processes in the first part may include create GRASS dataset, import/reproject/resample elevation data, delineate catchment, analyze drainage & flow accumulation, set climate zones, identify riparian boundary, classify soil textures, import and translate LULC data to RHESSys model, distribute forest community, and identify surface preferential flow path and transports. The guide in the first part is in a list format, listing examples of modules for certain GIS processes. This is not a JupyterNotebook for users to execute codes listed below. Users may copy/paste the codes to assemble a workflow bash/shell script running on local machine."
   ]
  },
  {
   "cell_type": "markdown",
   "metadata": {},
   "source": [
    "**Software / computer requirements for GIS2RHESSys:**\n",
    "- Max OS / LINUX (e.g., Urbantu) \n",
    "- GRASS 7.x installed and its associated libraries (see GRASS GIS website for details)\n",
    "- R 3.6.x or above\n",
    "- R package “rgrass7” and its dependences"
   ]
  },
  {
   "cell_type": "markdown",
   "metadata": {},
   "source": [
    "## Headers and paths for all scripts"
   ]
  },
  {
   "cell_type": "markdown",
   "metadata": {},
   "source": [
    "0. **Set system paths to GRASS, R, and Github libraries**"
   ]
  },
  {
   "cell_type": "markdown",
   "metadata": {},
   "source": [
    "<div class=\"alert alert-block alert-info\">\n",
    "The PATH settings below are for MAC OS. Users may need to modify some paths for the LINUX environment.\n",
    "</div>"
   ]
  },
  {
   "cell_type": "code",
   "execution_count": null,
   "metadata": {},
   "outputs": [],
   "source": [
    "# path setup below is for Mac OS\n",
    "# adding R paths\n",
    "export PATH=$PATH:/usr/local/bin\n",
    "export PATH=$PATH:/Library/Frameworks/R.framework/Resources\n",
    "# adding GRASS bin paths\n",
    "grassApp=$(ls /Applications | grep GRASS)\n",
    "grassVersion=$(ls /Applications | grep GRASS | awk -F'[.-]' '{print $2\".\"$3}')\n",
    "grassCMD=$(ls /Applications/\"$grassApp\"/Contents/Resources/bin | grep grass)\n",
    "export PATH=$PATH:/Applications/\"$grassApp\"/Contents/Resources/bin:/Applications/\"$grassApp\"/Contents/Resources/scripts:/etc:/usr/lib\n",
    "# adding GRASS environment variables: GISBASE_USER and GISBASE_SYSTEM in Grass.sh\n",
    "export PATH=$PATH:~/Library/GRASS/\"$grassVersion\"/Modules/bin:~/Library/GRASS/\"$grassVersion\"/Modules/scripts\n",
    "# adding GDAL and EPSG code lookup paths (Running gdal-config --datadir shows where GDAL searches for gcs.csv)\n",
    "export GDAL_DATA=/Applications/\"$grassApp\"/Contents/Resources/share/gdal\n",
    "GITHUBLIBRARIES=\"https://raw.githubusercontent.com/laurencelin/GIS2RHESSys/master/libraries\"\n"
   ]
  },
  {
   "cell_type": "code",
   "execution_count": null,
   "metadata": {},
   "outputs": [],
   "source": [
    "# path setup below is for UVA RIVANNA singularity rhessys_v3.img\n",
    "grassCMD='grass'\n",
    "GITHUBLIBRARIES=\"https://raw.githubusercontent.com/laurencelin/GIS2RHESSys/master/libraries\"\n"
   ]
  },
  {
   "cell_type": "markdown",
   "metadata": {},
   "source": [
    "<div class=\"alert alert-block alert-info\">\n",
    "Enter the path to the project directory.<br>\n",
    "When search for UTM EPSG code, we recommend to use datum NAD83 for the U.S. catchments.<br>\n",
    "The spatial resolution (e.g., 3/10/30 m) of the elevation raster is often the spatial resolution of the RHESSys model.\n",
    "</div>"
   ]
  },
  {
   "cell_type": "code",
   "execution_count": null,
   "metadata": {},
   "outputs": [],
   "source": [
    "PROJDIR='.' # path to the project location;\n",
    "EPSGCODE='EPSG:26918' # EPSG code for NAD83 UTM ##N for the catchment\n",
    "RESOLUTION=10 #spatial resolution (meters) of the grids\n",
    "RHESSysNAME='rhessys' # e.g., rhessys\n",
    "GISDBASE=\"$PROJDIR\"/grass_dataset\n",
    "LOCATION_NAME=\"$RHESSysNAME\"\n",
    "LOCATION=\"$GISDBASE\"/$LOCATION_NAME\n",
    "MAPSET=PERMANENT"
   ]
  },
  {
   "cell_type": "markdown",
   "metadata": {},
   "source": [
    "## Modules for GIS process"
   ]
  },
  {
   "cell_type": "markdown",
   "metadata": {},
   "source": [
    "### 1.1 Initiate project directory and set up GRASS GIS dataset for RHESSys modeling  "
   ]
  },
  {
   "cell_type": "markdown",
   "metadata": {},
   "source": [
    "<div class=\"alert alert-block alert-info\">\n",
    "Create project directory structures and RHESSys model directory structures. We only do this once initial although these commands do not overwrite existing directories.\n",
    "</div>"
   ]
  },
  {
   "cell_type": "code",
   "execution_count": null,
   "metadata": {},
   "outputs": [],
   "source": [
    "### ... create rhessys folder structures\n",
    "mkdir \"$PROJDIR\"/\"$RHESSysNAME\"\n",
    "mkdir \"$PROJDIR\"/\"$RHESSysNAME\"/defs\n",
    "mkdir \"$PROJDIR\"/\"$RHESSysNAME\"/flows\n",
    "mkdir \"$PROJDIR\"/\"$RHESSysNAME\"/worldfiles\n",
    "mkdir \"$PROJDIR\"/\"$RHESSysNAME\"/clim\n",
    "mkdir \"$PROJDIR\"/\"$RHESSysNAME\"/tecfiles\n",
    "mkdir \"$PROJDIR\"/\"$RHESSysNAME\"/output"
   ]
  },
  {
   "cell_type": "markdown",
   "metadata": {},
   "source": [
    "### 1.2 Initiate GRASS dataset"
   ]
  },
  {
   "cell_type": "markdown",
   "metadata": {},
   "source": [
    "<div class=\"alert alert-block alert-info\">\n",
    "Create project GIS database. We only do this once initial although this command does not overwrite existing database.\n",
    "</div>"
   ]
  },
  {
   "cell_type": "code",
   "execution_count": null,
   "metadata": {},
   "outputs": [],
   "source": [
    "### ... create grass database\n",
    "mkdir \"$PROJDIR\"/grass_dataset # does not overwrite\n",
    "$grassCMD -c $EPSGCODE -e \"$LOCATION\" \n"
   ]
  },
  {
   "cell_type": "markdown",
   "metadata": {},
   "source": [
    "### 1.3 **Import and process of elevation data**"
   ]
  },
  {
   "cell_type": "markdown",
   "metadata": {},
   "source": [
    "<div class=\"alert alert-block alert-info\">\n",
    "(Option 1) Assume that we need to change the elevation raster projection and resample into desired spatial resolution.<br> a) We ask GRASS to read in the elevation raster source and then resample the spatial scale<br> b) We export the sampled elevation information into a new raster \"demXXm.tif\", where XX is the spatial resoluted defined above<br> c) We import the \"demXXm.tif\" to the project GIS database with reprojection process (based on gdal) and set the project GIS database spatial extension and resolution to match the \"demXXm.tif\".\n",
    "</div>"
   ]
  },
  {
   "cell_type": "code",
   "execution_count": null,
   "metadata": {},
   "outputs": [],
   "source": [
    "$grassCMD \"$LOCATION\"/\"$MAPSET\" --exec r.in.gdal -e --overwrite input=\"$PROJDIR\"/raw_data/DEM1m.tif output=demRAW location=elevationRAW\n",
    "LOCATIONDEM=\"$GISDBASE\"/elevationRAW\n",
    "$grassCMD \"$LOCATIONDEM\"/\"$MAPSET\" --exec g.region raster=demRAW\n",
    "$grassCMD \"$LOCATIONDEM\"/\"$MAPSET\" --exec g.region res=$RESOLUTION -a -p\n",
    "$grassCMD \"$LOCATIONDEM\"/\"$MAPSET\" --exec r.resamp.stats -w input=demRAW output=dem$RESOLUTION'm' ### skip this if no resampling spatial scale\n",
    "$grassCMD \"$LOCATIONDEM\"/\"$MAPSET\" --exec r.out.gdal --overwrite input=dem$RESOLUTION'm' output=\"$PROJDIR\"/raw_data/dem$RESOLUTION'm.tif' format=GTiff\n",
    "$grassCMD \"$LOCATION\"/\"$MAPSET\" --exec r.in.gdal -o -e --overwrite input=\"$PROJDIR\"/raw_data/dem$RESOLUTION'm.tif' output=dem\n",
    "$grassCMD \"$LOCATION\"/\"$MAPSET\" --exec g.region raster=dem"
   ]
  },
  {
   "cell_type": "markdown",
   "metadata": {},
   "source": [
    "<div class=\"alert alert-block alert-info\">\n",
    "(Option 2) If the source elevation raster has the correct projection (UTM) and resolution, then we can just simply import it to the project GIS dataset and set the project GIS database spatial extension and resolution to match the elevation raster.\n",
    "</div>"
   ]
  },
  {
   "cell_type": "code",
   "execution_count": null,
   "metadata": {},
   "outputs": [],
   "source": [
    "$grassCMD \"$LOCATION\"/\"$MAPSET\" --exec r.in.gdal -o -e --overwrite input=\"$PROJDIR\"/raw_data/dem$RESOLUTION'm.tif' output=dem\n",
    "$grassCMD \"$LOCATION\"/\"$MAPSET\" --exec g.region raster=dem"
   ]
  },
  {
   "cell_type": "markdown",
   "metadata": {},
   "source": [
    "### 1.4 **Define catchment outlet**"
   ]
  },
  {
   "cell_type": "markdown",
   "metadata": {},
   "source": [
    "<div class=\"alert alert-block alert-info\">\n",
    "(Option 1) Use Lat/Long (WSG84 decimal degree) to define catchment outlet. Note that keep the negative sign if applied.\n",
    "</div>"
   ]
  },
  {
   "cell_type": "code",
   "execution_count": null,
   "metadata": {},
   "outputs": [],
   "source": [
    "gageLat='39.47947' # catchment outlet WSG84 Lat (decimal degree)\n",
    "gageLong='-76.67803' # catchment outlet WSG84 Long (decimal degree; includes the negative sign if applied)\n",
    "eval $($grassCMD \"$LOCATION\"/$MAPSET --exec m.proj -i coordinates=$gageLong,$gageLat separator=space | awk '{print \"xyCoord=\" $1 \",\" $2}')\n",
    "echo $xyCoord | $grassCMD \"$LOCATION\"/\"$MAPSET\" --exec v.in.ascii in=- out=outlet x=1 y=2 separator=, --overwrite"
   ]
  },
  {
   "cell_type": "markdown",
   "metadata": {},
   "source": [
    "<div class=\"alert alert-block alert-info\">\n",
    "(Option 2) Import a catchment outlet shapefile. Note that this shapefile should contain only ONE point.\n",
    "</div>"
   ]
  },
  {
   "cell_type": "code",
   "execution_count": null,
   "metadata": {},
   "outputs": [],
   "source": [
    "$grassCMD \"$LOCATION\"/\"$MAPSET\" --exec v.in.ogr --overwrite input=\"$PROJDIR\"/raw_data/USGS_Delight.shp output=outlet location=outletRAW\n",
    "LOCATIONOUTLET=\"$GISDBASE\"'/outletRAW'\n",
    "$grassCMD \"$LOCATION\"/\"$MAPSET\" --exec v.proj --overwrite location=outletRAW mapset=PERMANENT input=outlet output=outlet\n",
    "rm -rf \"$LOCATIONOUTLET\""
   ]
  },
  {
   "cell_type": "markdown",
   "metadata": {},
   "source": [
    "### 1.5 **Catchment delineation**"
   ]
  },
  {
   "cell_type": "markdown",
   "metadata": {},
   "source": [
    "<div class=\"alert alert-block alert-info\">\n",
    "User needs to provide an estimation of catchment area (m^2) and threshold values to define modeling stream network. <br>\n",
    "The threshold value is an area (m^2), e.g., 620000 m^2 = 62 ha, that defines the extension of a major stream channels for RHESSys; it also affects the hillslope and subcatchment structures. <br>\n",
    "The second threshold value is also an area, e.g., 100000 m^2 = 10 ha, that defines the full extension of a stream network, including head water channels, for riparian delineation and surface water routing.\n",
    "</div>"
   ]
  },
  {
   "cell_type": "code",
   "execution_count": null,
   "metadata": {},
   "outputs": [],
   "source": [
    "expectedDrainageArea=10956000 # meter sq.\n",
    "expectedThresholdModelStr=620000 # meter sq.\n",
    "expectedThresholdStrExt=100000 # meter sq."
   ]
  },
  {
   "cell_type": "code",
   "execution_count": null,
   "metadata": {},
   "outputs": [],
   "source": [
    "GRASS_thres=$(($expectedThresholdModelStr/$RESOLUTION/$RESOLUTION)) # grid cell for stream network and hillslope configuration\n",
    "GRASS_thresII=$(($expectedThresholdStrExt/$RESOLUTION/$RESOLUTION))\n",
    "GRASS_drainarea_lowerbound=$((98*$expectedDrainageArea/$RESOLUTION/$RESOLUTION/100)) # (allow 2% error)\n",
    "GRASS_drainarea_upperbound=$((102*$expectedDrainageArea/$RESOLUTION/$RESOLUTION/100)) # (allow 2% error)\n",
    "#\n",
    "curl -s \"$GITHUBLIBRARIES\"/grass_delineation_1.sh | $grassCMD \"$LOCATION\"/\"$MAPSET\" --exec bash -s $GRASS_thres $GRASS_drainarea_lowerbound $GRASS_drainarea_upperbound\n",
    "curl -s \"$GITHUBLIBRARIES\"/basin_determine.R | $grassCMD \"$LOCATION\"/\"$MAPSET\" --exec R --slave\n",
    "$grassCMD \"$LOCATION\"/\"$MAPSET\" --exec r.watershed elevation=dem threshold=$GRASS_thresII stream=strExt --overwrite # full stream extension;\n",
    "curl -s \"$GITHUBLIBRARIES\"/grass_delineation_2.sh | $grassCMD \"$LOCATION\"/\"$MAPSET\" --exec bash -s"
   ]
  },
  {
   "cell_type": "markdown",
   "metadata": {},
   "source": [
    "<div class=\"alert alert-block alert-info\">\n",
    "When this procedure is completed, a catchment is delineated, along with slope, aspect, wettness index (D-inf), east & west horizon sun angles, hillslope IDs, subcatchment IDs, patch IDs, streams, flow accumulation, and drainage direction (D-Inf). GIS computation region and mask are also set by the delineated catchment. \n",
    "</div>"
   ]
  },
  {
   "cell_type": "markdown",
   "metadata": {},
   "source": [
    "### 1.6 **Define climate zones**"
   ]
  },
  {
   "cell_type": "markdown",
   "metadata": {},
   "source": [
    "<div class=\"alert alert-block alert-info\">\n",
    "(Option 1) The coarse climate zone setting  \n",
    "</div>"
   ]
  },
  {
   "cell_type": "code",
   "execution_count": null,
   "metadata": {},
   "outputs": [],
   "source": [
    "$grassCMD \"$LOCATION\"/\"$MAPSET\" --exec r.mapcalc --overwrite expression=\"zone_hill = hill\""
   ]
  },
  {
   "cell_type": "markdown",
   "metadata": {},
   "source": [
    "<div class=\"alert alert-block alert-info\">\n",
    "(Option 2) Using statistical cluster analysis, we delineate the elevation bands and further partition the bands by aspect, slope, and hillslopes. The resulting climate zone is finer than the coarse setting (option 1) but not as fine as the finest setting (option 3).\n",
    "</div>"
   ]
  },
  {
   "cell_type": "code",
   "execution_count": null,
   "metadata": {},
   "outputs": [],
   "source": [
    "curl -s \"$GITHUBLIBRARIES\"/zone_cluster.R | $grassCMD \"$LOCATION\"/\"$MAPSET\" --exec R --slave --args dem slope aspect hill zone_cluster"
   ]
  },
  {
   "cell_type": "markdown",
   "metadata": {},
   "source": [
    "<div class=\"alert alert-block alert-info\">\n",
    "(Option 3) The finest climate zone setting, same as elevation resolution. This also increases the RHESSys computation time\n",
    "</div>"
   ]
  },
  {
   "cell_type": "code",
   "execution_count": null,
   "metadata": {},
   "outputs": [],
   "source": [
    "$grassCMD \"$LOCATION\"/\"$MAPSET\" --exec r.mapcalc --overwrite expression=\"zone_patch = patch\""
   ]
  },
  {
   "cell_type": "markdown",
   "metadata": {},
   "source": [
    "### 1.7 **Define isohyet (MUST)**"
   ]
  },
  {
   "cell_type": "markdown",
   "metadata": {},
   "source": [
    "<div class=\"alert alert-block alert-info\">\n",
    "(Option 1) import ioshyet raster\n",
    "</div>"
   ]
  },
  {
   "cell_type": "code",
   "execution_count": null,
   "metadata": {},
   "outputs": [],
   "source": [
    "$grassCMD \"$LOCATION\"/\"$MAPSET\" --exec r.in.gdal -o --overwrite input=\"$PROJDIR\"/raw_data/isohyet.tif output=isohyet"
   ]
  },
  {
   "cell_type": "markdown",
   "metadata": {},
   "source": [
    "<div class=\"alert alert-block alert-info\">\n",
    "(Option 2) calculate isohyet by raster calculator (the calculation below is just an example)\n",
    "</div>"
   ]
  },
  {
   "cell_type": "code",
   "execution_count": null,
   "metadata": {},
   "outputs": [],
   "source": [
    "$grassCMD \"$LOCATION\"/\"$MAPSET\" --exec r.mapcalc --overwrite expression=\"isohyet = (1 +(4.268e-04)*(dem-1200) +(-6.799e-05)*slope +(5.845e-03)*sin(aspect*0.01745329)*sin(slope*0.01745329) +(-1.267e-02)*cos(aspect*0.01745329)*sin(slope*0.01745329))*1.45817781\""
   ]
  },
  {
   "cell_type": "markdown",
   "metadata": {},
   "source": [
    "<div class=\"alert alert-block alert-info\">\n",
    "(Option 3) no ioshyet --> set ioshyet to one everywhere\n",
    "</div>"
   ]
  },
  {
   "cell_type": "code",
   "execution_count": null,
   "metadata": {},
   "outputs": [],
   "source": [
    "$grassCMD \"$LOCATION\"/\"$MAPSET\" --exec r.mapcalc --overwrite expression=\"isohyet = 1\""
   ]
  },
  {
   "cell_type": "markdown",
   "metadata": {},
   "source": [
    "### 1.8 **Soil texture from SSURGO**"
   ]
  },
  {
   "cell_type": "markdown",
   "metadata": {},
   "source": [
    "<div class=\"alert alert-block alert-info\">\n",
    "This step requires the SSURGO spatial and tabular dataset. <br>\n",
    "Users need to set the path to the SSURGO dataset, e.g., \"$PROJDIR\"/raw_data/MD005 <br>\n",
    "The procedure below reprojects the SSURGO mukey (areal polygon) shapefile onto the project GIS database, extract soil information from the tabular dataset, and map the extracted soil information to the corresponding mukey polygons.\n",
    "</div>"
   ]
  },
  {
   "cell_type": "markdown",
   "metadata": {},
   "source": [
    "<div class=\"alert alert-block alert-info\">\n",
    "(Option 1) Simple soil texture classification; see USDA soil classes for details\n",
    "</div>"
   ]
  },
  {
   "cell_type": "code",
   "execution_count": null,
   "metadata": {},
   "outputs": [],
   "source": [
    "downloadedSSURGOdirectoryPATH=\"$PROJDIR\"/raw_data/MD005\n",
    "$grassCMD \"$LOCATION\"/\"$MAPSET\" --exec v.in.ogr --overwrite input=\"$downloadedSSURGOdirectoryPATH\"/spatial/soilmu_a_\"$(echo ${downloadedSSURGOdirectoryPATH##*/} | tr '[A-Z]' '[a-z]')\".shp output=ssurgo location=soilRAW\n",
    "LOCATIONSOIL=\"$GISDBASE\"/soilRAW\n",
    "### ... import (reprojected) soil data to \"\"$LOCATION\"/$MAPSET\" and convert shape-polygon to raster soil (USDA) classes\n",
    "$grassCMD \"$LOCATION\"/\"$MAPSET\" --exec v.proj --overwrite location=soilRAW mapset=PERMANENT input=ssurgo output=ssurgo\n",
    "$grassCMD \"$LOCATION\"/\"$MAPSET\" --exec v.to.rast --overwrite input=ssurgo use=cat output=soil_ssurgo\n",
    "$grassCMD \"$LOCATION\"/\"$MAPSET\" --exec v.out.ascii --overwrite input=ssurgo type=centroid output=\"$PROJDIR\"/\"$RHESSysNAME\"/soil_cat_mukey.csv columns=MUKEY format=point separator=comma"
   ]
  },
  {
   "cell_type": "code",
   "execution_count": null,
   "metadata": {},
   "outputs": [],
   "source": [
    "curl -s https://raw.githubusercontent.com/laurencelin/ssurgo_extraction/master/ssurgo_extraction.R | R --slave --args \"$downloadedSSURGOdirectoryPATH\"\n",
    "curl -s https://raw.githubusercontent.com/laurencelin/ssurgo_extraction/master/ssurgo_soiltexture2gis.R | $grassCMD \"$LOCATION\"/\"$MAPSET\" --exec R --slave --args \"$PROJDIR\"/\"$RHESSysNAME\"/soil_cat_mukey.csv \"$downloadedSSURGOdirectoryPATH\"/soil_mukey_texture.csv\n",
    "rm -rf \"$LOCATIONSOIL\""
   ]
  },
  {
   "cell_type": "markdown",
   "metadata": {},
   "source": [
    "<div class=\"alert alert-block alert-info\">\n",
    "If filling missing data or gaps is needed, below is a command for the job. Please read documentations of \"r.fill.stats\", a build-in GRASS function, to know how to use it correct.\n",
    "</div>"
   ]
  },
  {
   "cell_type": "code",
   "execution_count": null,
   "metadata": {},
   "outputs": [],
   "source": [
    "$grassCMD \"$LOCATION\"/\"$MAPSET\" --exec r.fill.stats -k --overwrite input=soil_texture output=soil_texture_fill distance=30 mode=mode power=2.0"
   ]
  },
  {
   "cell_type": "markdown",
   "metadata": {},
   "source": [
    "<div class=\"alert alert-block alert-info\">\n",
    "(Option 2) Explicit soil information for local catchment, exacted from SSURGO database\n",
    "</div>"
   ]
  },
  {
   "cell_type": "code",
   "execution_count": null,
   "metadata": {},
   "outputs": [],
   "source": [
    "downloadedSSURGOdirectoryPATH=\"$PROJDIR\"/raw_data/MD005\n",
    "$grassCMD \"$LOCATION\"/\"$MAPSET\" --exec v.in.ogr --overwrite input=\"$downloadedSSURGOdirectoryPATH\"/spatial/soilmu_a_\"$(echo ${downloadedSSURGOdirectoryPATH##*/} | tr '[A-Z]' '[a-z]')\".shp output=ssurgo location=soilRAW\n",
    "LOCATIONSOIL=\"$GISDBASE\"/soilRAW\n",
    "### ... import (reprojected) soil data to \"\"$LOCATION\"/$MAPSET\" and convert shape-polygon to raster soil (USDA) classes\n",
    "$grassCMD \"$LOCATION\"/\"$MAPSET\" --exec v.proj --overwrite location=soilRAW mapset=PERMANENT input=ssurgo output=ssurgo\n",
    "$grassCMD \"$LOCATION\"/\"$MAPSET\" --exec v.to.rast --overwrite input=ssurgo use=cat output=soil_ssurgo\n",
    "$grassCMD \"$LOCATION\"/\"$MAPSET\" --exec v.out.ascii --overwrite input=ssurgo type=centroid output=\"$PROJDIR\"/\"$RHESSysNAME\"/soil_cat_mukey.csv columns=MUKEY format=point separator=comma"
   ]
  },
  {
   "cell_type": "code",
   "execution_count": null,
   "metadata": {},
   "outputs": [],
   "source": [
    "curl -s https://raw.githubusercontent.com/laurencelin/ssurgo_extraction/master/ssurgo_fullextraction_step1.R | R --slave --args \"$downloadedSSURGOdirectoryPATH\"\n",
    "curl -s https://raw.githubusercontent.com/laurencelin/ssurgo_extraction/master/ssurgo_fullextraction_step2.R | R --slave --args \"$downloadedSSURGOdirectoryPATH\" \"$PROJDIR\"/\"$RHESSysNAME\"/soil_cat_mukey.csv \"$PROJDIR\"/\"$RHESSysNAME\"/soil_mukey_rhessys.csv\n",
    "curl -s https://raw.githubusercontent.com/laurencelin/ssurgo_extraction/master/ssurgo_fullextraction_step3.R | $grassCMD \"$LOCATION\"/\"$MAPSET\" --exec R --slave --args soil_ssurgo \"$PROJDIR\"/\"$RHESSysNAME\"/soil_mukey_rhessys.csv\n",
    "rm -rf \"$LOCATIONSOIL\""
   ]
  },
  {
   "cell_type": "markdown",
   "metadata": {},
   "source": [
    "<div class=\"alert alert-block alert-info\">\n",
    "If filling missing data or gaps is needed, below is a command for the job. Please read documentations of \"r.fill.stats\", a build-in GRASS function, to know how to use it correct.\n",
    "</div>"
   ]
  },
  {
   "cell_type": "markdown",
   "metadata": {},
   "source": [
    "### 1.9 **Processing Landuse & landcover data**"
   ]
  },
  {
   "cell_type": "markdown",
   "metadata": {},
   "source": [
    "![title](https://raw.githubusercontent.com/laurencelin/GIS2RHESSys/master/LULC.png)"
   ]
  },
  {
   "cell_type": "markdown",
   "metadata": {},
   "source": [
    "<div class=\"alert alert-block alert-info\">\n",
    "An important concept: Landuse & landcover (LULC) data provide % coverages of pre-defined classes on each grid (30, 10, 5, 3, 1 meters). These pre-defined classes could be very general. For stances, deciduous forest class (code 41 in NLCD) does not specifically define which decidous species or their composition to form that forest, nor provide the forest density / LAI value. All we learned from the 30-m coded 41 grid is that it's largely covered by deciduous forest. This is the reason why we need to specifically define the forest for the model in the next step. Another example, urban class 23 provides two pieces of information: urbanized landscape and median density of urbanization. These information about urban are imprecise for the model. To describe urbanization to the model, we need to let the model know how much rooftop covered area, how much imprevious surfaces, how much paved road covered, how storm drainage connect to different parts of landscape, and how much urban canopy still remained within the urbanized area. This motivates us to use high-resolution LULC dataset (e.g., EPA EnviroAtlas and Chesapeake Conservancy) with great detailed and specific LULC classes. To make use of these great detailed LULC information at the modeling scale (3, 10, or 30 m), we need to aggregate and lump information into the following compositions for each modeling patch:<br>\n",
    "- forest composition (forestFrac) <br>\n",
    "- shrub composition (shurbFrac) <br>\n",
    "- crop composition (cropFrac) <br>\n",
    "- grass composition (lawnFrac) <br>\n",
    "- imperviousness composition (impFrac) <br>\n",
    "<br>\n",
    "For imperviousness compositional fraction, we further partition this fraction into different catagories:<br>\n",
    "- impervious structure roof (roofFrac) <br>\n",
    "- impervious parking/non-structural surface (drivewayFrac) <br>\n",
    "- impervious (paved) road (pavedroadFrac) <br>\n",
    "<br>\n",
    "</div>"
   ]
  },
  {
   "cell_type": "markdown",
   "metadata": {},
   "source": [
    "<div class=\"alert alert-block alert-info\">\n",
    "To translate LULC classifications into the compositions above, we developed an approach to define each pre-defined LULC class in the dataset by the compositions. We illustrated that with an example below.\n",
    "</div>"
   ]
  },
  {
   "cell_type": "markdown",
   "metadata": {},
   "source": [
    "For example, NLCD code 42 - deciduous forest, 22 low-density urban, and 24 high-density urban,\n",
    "\n",
    "![title](https://raw.githubusercontent.com/laurencelin/GIS2RHESSys/master/lulcTable.png)"
   ]
  },
  {
   "cell_type": "markdown",
   "metadata": {},
   "source": [
    "<div class=\"alert alert-block alert-info\">\n",
    "Above is the concept, and below lists different modules to accommodate different LULC sources\n",
    "</div>"
   ]
  },
  {
   "cell_type": "markdown",
   "metadata": {},
   "source": [
    "<div class=\"alert alert-block alert-info\">\n",
    "(Option 1) NLCD LULC classification for remotely forested landscape\n",
    "</div>"
   ]
  },
  {
   "cell_type": "code",
   "execution_count": null,
   "metadata": {},
   "outputs": [],
   "source": [
    "$grassCMD \"$LOCATION\"/\"$MAPSET\" --exec r.in.gdal -e --overwrite input=\"$PROJDIR\"/raw_data/'LULC1m.tif' output=lulcRAW location=lulcRAW\n",
    "LOCATIONLULC=\"$GISDBASE\"/lulcRAW\n",
    "$grassCMD \"$LOCATION\"/\"$MAPSET\" --exec r.to.vect input=patch output=patch type=area\n",
    "$grassCMD \"$LOCATIONLULC\"/\"$MAPSET\" --exec v.proj location=$LOCATION_NAME mapset=$MAPSET input=patch output=patch$RESOLUTION'm'\n",
    "$grassCMD \"$LOCATIONLULC\"/\"$MAPSET\" --exec v.to.rast input=patch$RESOLUTION'm' output=patch$RESOLUTION'm' use=attr attribute_column=value\n",
    "#\n",
    "$grassCMD \"$LOCATIONLULC\"/\"$MAPSET\" --exec g.region zoom=patch$RESOLUTION'm'\n",
    "curl -s \"$GITHUBLIBRARIES\"/aggregate_lulcFrac.R | $grassCMD \"$LOCATIONLULC\"/\"$MAPSET\" --exec R --slave --args patch$RESOLUTION'm' lulcRAW \"$PROJDIR\"/\"$RHESSysNAME\"/lulcFrac$RESOLUTION'm.csv'\n",
    "curl -s \"$GITHUBLIBRARIES\"/aggregate_lulcFrac_write2GIS.R | $grassCMD \"$LOCATION\"/\"$MAPSET\" --exec R --slave --args patch \"$PROJDIR\"/\"$RHESSysNAME\"/lulcFrac$RESOLUTION'm.csv' 'https://raw.githubusercontent.com/laurencelin/GIS2RHESSys/master/lulc_30m_NLCD_remote_forest_catchment.csv'\n"
   ]
  },
  {
   "cell_type": "markdown",
   "metadata": {},
   "source": [
    "<div class=\"alert alert-block alert-info\">\n",
    "(Option 2) NLCD LULC classification for urbanized landscape\n",
    "</div>"
   ]
  },
  {
   "cell_type": "code",
   "execution_count": null,
   "metadata": {},
   "outputs": [],
   "source": [
    "$grassCMD \"$LOCATION\"/\"$MAPSET\" --exec r.in.gdal -e --overwrite input=\"$PROJDIR\"/raw_data/'LULC1m.tif' output=lulcRAW location=lulcRAW\n",
    "LOCATIONLULC=\"$GISDBASE\"/lulcRAW\n",
    "$grassCMD \"$LOCATION\"/\"$MAPSET\" --exec r.to.vect input=patch output=patch type=area\n",
    "$grassCMD \"$LOCATIONLULC\"/\"$MAPSET\" --exec v.proj location=$LOCATION_NAME mapset=$MAPSET input=patch output=patch$RESOLUTION'm'\n",
    "$grassCMD \"$LOCATIONLULC\"/\"$MAPSET\" --exec v.to.rast input=patch$RESOLUTION'm' output=patch$RESOLUTION'm' use=attr attribute_column=value\n",
    "#\n",
    "$grassCMD \"$LOCATIONLULC\"/\"$MAPSET\" --exec g.region zoom=patch$RESOLUTION'm'\n",
    "curl -s \"$GITHUBLIBRARIES\"/aggregate_lulcFrac.R | $grassCMD \"$LOCATIONLULC\"/\"$MAPSET\" --exec R --slave --args patch$RESOLUTION'm' lulcRAW \"$PROJDIR\"/\"$RHESSysNAME\"/lulcFrac$RESOLUTION'm.csv'\n",
    "curl -s \"$GITHUBLIBRARIES\"/aggregate_lulcFrac_write2GIS.R | $grassCMD \"$LOCATION\"/\"$MAPSET\" --exec R --slave --args patch \"$PROJDIR\"/\"$RHESSysNAME\"/lulcFrac$RESOLUTION'm.csv' 'https://raw.githubusercontent.com/laurencelin/GIS2RHESSys/master/lulc_30m_NLCD_urban_catchment.csv'\n"
   ]
  },
  {
   "cell_type": "markdown",
   "metadata": {},
   "source": [
    "<div class=\"alert alert-block alert-info\">\n",
    "(Option 3) Baltimore LULC classification\n",
    "</div>"
   ]
  },
  {
   "cell_type": "code",
   "execution_count": null,
   "metadata": {},
   "outputs": [],
   "source": [
    "$grassCMD \"$LOCATION\"/\"$MAPSET\" --exec r.in.gdal -e --overwrite input=\"$PROJDIR\"/raw_data/'LULC1m.tif' output=lulcRAW location=lulcRAW\n",
    "LOCATIONLULC=\"$GISDBASE\"/lulcRAW\n",
    "$grassCMD \"$LOCATION\"/\"$MAPSET\" --exec r.to.vect input=patch output=patch type=area\n",
    "$grassCMD \"$LOCATIONLULC\"/\"$MAPSET\" --exec v.proj location=$LOCATION_NAME mapset=$MAPSET input=patch output=patch$RESOLUTION'm'\n",
    "$grassCMD \"$LOCATIONLULC\"/\"$MAPSET\" --exec v.to.rast input=patch$RESOLUTION'm' output=patch$RESOLUTION'm' use=attr attribute_column=value\n",
    "#\n",
    "$grassCMD \"$LOCATIONLULC\"/\"$MAPSET\" --exec g.region zoom=patch$RESOLUTION'm'\n",
    "curl -s \"$GITHUBLIBRARIES\"/aggregate_lulcFrac.R | $grassCMD \"$LOCATIONLULC\"/\"$MAPSET\" --exec R --slave --args patch$RESOLUTION'm' lulcRAW \"$PROJDIR\"/\"$RHESSysNAME\"/lulcFrac$RESOLUTION'm.csv'\n",
    "curl -s \"$GITHUBLIBRARIES\"/aggregate_lulcFrac_write2GIS.R | $grassCMD \"$LOCATION\"/\"$MAPSET\" --exec R --slave --args patch \"$PROJDIR\"/\"$RHESSysNAME\"/lulcFrac$RESOLUTION'm.csv' 'https://raw.githubusercontent.com/laurencelin/GIS2RHESSys/master/lulc_1m_Chesapeake_Conservancy.csv'\n"
   ]
  },
  {
   "cell_type": "markdown",
   "metadata": {},
   "source": [
    "<div class=\"alert alert-block alert-info\">\n",
    "(Option 4) Virginia LULC classification\n",
    "</div>"
   ]
  },
  {
   "cell_type": "code",
   "execution_count": null,
   "metadata": {},
   "outputs": [],
   "source": [
    "$grassCMD \"$LOCATION\"/\"$MAPSET\" --exec r.in.gdal -e --overwrite input=\"$PROJDIR\"/raw_data/'LULC1m.tif' output=lulcRAW location=lulcRAW\n",
    "LOCATIONLULC=\"$GISDBASE\"/lulcRAW\n",
    "$grassCMD \"$LOCATION\"/\"$MAPSET\" --exec r.to.vect input=patch output=patch type=area\n",
    "$grassCMD \"$LOCATIONLULC\"/\"$MAPSET\" --exec v.proj location=$LOCATION_NAME mapset=$MAPSET input=patch output=patch$RESOLUTION'm'\n",
    "$grassCMD \"$LOCATIONLULC\"/\"$MAPSET\" --exec v.to.rast input=patch$RESOLUTION'm' output=patch$RESOLUTION'm' use=attr attribute_column=value\n",
    "#\n",
    "$grassCMD \"$LOCATIONLULC\"/\"$MAPSET\" --exec g.region zoom=patch$RESOLUTION'm'\n",
    "curl -s \"$GITHUBLIBRARIES\"/aggregate_lulcFrac.R | $grassCMD \"$LOCATIONLULC\"/\"$MAPSET\" --exec R --slave --args patch$RESOLUTION'm' lulcRAW \"$PROJDIR\"/\"$RHESSysNAME\"/lulcFrac$RESOLUTION'm.csv'\n",
    "curl -s \"$GITHUBLIBRARIES\"/aggregate_lulcFrac_write2GIS.R | $grassCMD \"$LOCATION\"/\"$MAPSET\" --exec R --slave --args patch \"$PROJDIR\"/\"$RHESSysNAME\"/lulcFrac$RESOLUTION'm.csv' 'https://raw.githubusercontent.com/laurencelin/GIS2RHESSys/master/lulc_1m_va.csv'\n"
   ]
  },
  {
   "cell_type": "markdown",
   "metadata": {},
   "source": [
    "<div class=\"alert alert-block alert-info\">\n",
    "(Option 5) For other customized LULC data, \n",
    "this block of code below is to create an csv table for users to fill in the composition information for each LULC class\n",
    "</div>"
   ]
  },
  {
   "cell_type": "code",
   "execution_count": null,
   "metadata": {},
   "outputs": [],
   "source": [
    "$grassCMD \"$LOCATION\"/\"$MAPSET\" --exec r.in.gdal -e --overwrite input=\"$PROJDIR\"/raw_data/'LULC1m.tif' output=lulcRAW location=lulcRAW\n",
    "LOCATIONLULC=\"$GISDBASE\"/lulcRAW\n",
    "$grassCMD \"$LOCATION\"/\"$MAPSET\" --exec r.to.vect input=patch output=patch type=area\n",
    "$grassCMD \"$LOCATIONLULC\"/\"$MAPSET\" --exec v.proj location=$LOCATION_NAME mapset=$MAPSET input=patch output=patch$RESOLUTION'm'\n",
    "$grassCMD \"$LOCATIONLULC\"/\"$MAPSET\" --exec v.to.rast input=patch$RESOLUTION'm' output=patch$RESOLUTION'm' use=attr attribute_column=value\n",
    "#\n",
    "$grassCMD \"$LOCATIONLULC\"/\"$MAPSET\" --exec g.region zoom=patch$RESOLUTION'm'\n",
    "curl -s \"$GITHUBLIBRARIES\"/aggregate_lulcFrac.R | $grassCMD \"$LOCATIONLULC\"/\"$MAPSET\" --exec R --slave --args patch$RESOLUTION'm' lulcRAW \"$PROJDIR\"/\"$RHESSysNAME\"/lulcFrac$RESOLUTION'm.csv'\n",
    "curl -s \"$GITHUBLIBRARIES\"/LULC_codeinformation.R | R --slave --args \"$PROJDIR\"/\"$RHESSysNAME\"/lulcFrac$RESOLUTION'm.csv' \"$PROJDIR\"/\"$RHESSysNAME\"/lulc_codeinformation.csv\n"
   ]
  },
  {
   "cell_type": "markdown",
   "metadata": {},
   "source": [
    "<div class=\"alert alert-block alert-info\">\n",
    "Fill the csv table $PROJDIR / $RHESSysNAME/lulc_codeinformation.csv\n",
    "</div>"
   ]
  },
  {
   "cell_type": "code",
   "execution_count": null,
   "metadata": {},
   "outputs": [],
   "source": [
    "curl -s \"$GITHUBLIBRARIES\"/aggregate_lulcFrac_write2GIS.R | $grassCMD \"$LOCATION\"/\"$MAPSET\" --exec R --slave --args patch \"$PROJDIR\"/\"$RHESSysNAME\"/lulcFrac$RESOLUTION'm.csv' \"$PROJDIR\"/\"$RHESSysNAME\"/lulc_codeinformation.csv"
   ]
  },
  {
   "cell_type": "markdown",
   "metadata": {},
   "source": [
    "### 1.10 **Define forest vegetation**"
   ]
  },
  {
   "cell_type": "markdown",
   "metadata": {},
   "source": [
    "<div class=\"alert alert-block alert-info\">\n",
    "The forest/shrub/crop/grass LULC composition calculated above is a defined area for forest/shrub/crop/grass, and we have to define what vegetations should be growing in the area. Current script can support up to 15 vegetation types per patch.\n",
    "</div>"
   ]
  },
  {
   "cell_type": "markdown",
   "metadata": {},
   "source": [
    "<div class=\"alert alert-block alert-info\">\n",
    "(Option 1)\n",
    "    \n",
    "For example, we model an oak-dominated canopy in a forested catchment. <br>\n",
    "We determine the locations of oak canopy (the first line) <br>\n",
    "We simply model the full canopy as oak and maple (the second line); \"FFrac\" indicates the oak composition in the full canopy. In this example, FFrac = 0.8, i.e., we treat the full canopy as 80% oak and 20% maple.<br>\n",
    "We set the LAI for the oak canopy (the third line). In this example, LAI is a constant 5.5. One can substitude the 5.5 value by an imported remotely sensed LAI raster. \n",
    "</div>"
   ]
  },
  {
   "cell_type": "code",
   "execution_count": null,
   "metadata": {},
   "outputs": [],
   "source": [
    "$grassCMD \"$LOCATION\"/\"$MAPSET\" --exec r.mapcalc --overwrite expression=\"oak_canopy = if(forestFrac>0,102,null())\" # - the first line\n",
    "$grassCMD \"$LOCATION\"/\"$MAPSET\" --exec r.mapcalc --overwrite expression=\"oak_canopy_FFrac = if(forestFrac>0,0.8,null())\" # - the second line\n",
    "$grassCMD \"$LOCATION\"/\"$MAPSET\" --exec r.mapcalc --overwrite expression=\"oak_canopy_LAI = if(forestFrac>0,5.5,null())\" # - the third line"
   ]
  },
  {
   "cell_type": "code",
   "execution_count": null,
   "metadata": {},
   "outputs": [],
   "source": [
    "$grassCMD \"$LOCATION\"/\"$MAPSET\" --exec r.mapcalc --overwrite expression=\"maple_canopy = if(forestFrac>0,111,null())\"\n",
    "$grassCMD \"$LOCATION\"/\"$MAPSET\" --exec r.mapcalc --overwrite expression=\"maple_canopy_FFrac = if(forestFrac>0,0.2,null())\"\n",
    "$grassCMD \"$LOCATION\"/\"$MAPSET\" --exec r.mapcalc --overwrite expression=\"maple_canopy_LAI = if(forestFrac>0,5.5,null())\""
   ]
  },
  {
   "cell_type": "markdown",
   "metadata": {},
   "source": [
    "<div class=\"alert alert-block alert-info\">\n",
    "Similarly, we can model the lawn/pasture the same way.\n",
    "</div>"
   ]
  },
  {
   "cell_type": "code",
   "execution_count": null,
   "metadata": {},
   "outputs": [],
   "source": [
    "$grassCMD \"$LOCATION\"/\"$MAPSET\" --exec r.mapcalc --overwrite expression=\"grass1StratumID = if(lawnFrac>0,3,null())\"\n",
    "$grassCMD \"$LOCATION\"/\"$MAPSET\" --exec r.mapcalc --overwrite expression=\"grass1FFrac = if(lawnFrac>0,1.0,null())\"\n",
    "$grassCMD \"$LOCATION\"/\"$MAPSET\" --exec r.mapcalc --overwrite expression=\"grass1LAI = if(lawnFrac>0,1.5,null())\""
   ]
  },
  {
   "cell_type": "markdown",
   "metadata": {},
   "source": [
    "<div class=\"alert alert-block alert-info\">\n",
    "(Option 2) lazy way of defining forest community from LULC. This method is also applied when forest community information is largely absent.\n",
    "</div>"
   ]
  },
  {
   "cell_type": "markdown",
   "metadata": {},
   "source": [
    "### 1.11 **Import road network (shapefile; if applied)**"
   ]
  },
  {
   "cell_type": "markdown",
   "metadata": {},
   "source": [
    "<div class=\"alert alert-block alert-info\">\n",
    "This is optional to import a vector-based road network.\n",
    "</div>"
   ]
  },
  {
   "cell_type": "code",
   "execution_count": null,
   "metadata": {},
   "outputs": [],
   "source": [
    "$grassCMD \"$LOCATION\"/\"$MAPSET\" --exec v.in.ogr --overwrite input=\"$PROJDIR\"/raw_data/'Roads_GDT_MSA.shp' output=roads location=roadRAW\n",
    "LOCATIONROAD=\"$GISDBASE\"/roadRAW\n",
    "$grassCMD \"$LOCATION\"/\"$MAPSET\" --exec v.proj --overwrite location=roadRAW mapset=$MAPSET input=roads output=roads\n",
    "$grassCMD \"$LOCATION\"/\"$MAPSET\" --exec v.to.rast --overwrite input=roads output=vector_roads use=cat\n",
    "rm -rf \"$LOCATIONROAD\""
   ]
  },
  {
   "cell_type": "markdown",
   "metadata": {},
   "source": [
    "### 1.12 **Define riparian (if applied)**"
   ]
  },
  {
   "cell_type": "markdown",
   "metadata": {},
   "source": [
    "<div class=\"alert alert-block alert-info\">\n",
    "(Option 1) import a determined riparian raster\n",
    "</div>"
   ]
  },
  {
   "cell_type": "code",
   "execution_count": null,
   "metadata": {},
   "outputs": [],
   "source": [
    "$grassCMD \"$LOCATION\"/\"$MAPSET\" --exec r.in.gdal -o --overwrite input=\"$PROJDIR\"/raw_data/riparian.tif output=riparian"
   ]
  },
  {
   "cell_type": "markdown",
   "metadata": {},
   "source": [
    "<div class=\"alert alert-block alert-info\">\n",
    "(Option 2) Use HANDS tool to define riparian zone. This is timely process.\n",
    "</div>"
   ]
  },
  {
   "cell_type": "code",
   "execution_count": null,
   "metadata": {},
   "outputs": [],
   "source": [
    "curl -s \"$GITHUBLIBRARIES\"/elevation_analysis.R | $grassCMD \"$LOCATION\"/$MAPSET --exec R --slave --args dem colmap rowmap drain hill strExt\n",
    "$grassCMD \"$LOCATION\"/\"$MAPSET\" --exec r.mapcalc expression=\"riparian_hands = if( handsDEM < 5, 1, null())\" --overwrite"
   ]
  },
  {
   "cell_type": "markdown",
   "metadata": {},
   "source": [
    "### 1.13 **Define surface drainage features for urban catchments (if applied)**"
   ]
  },
  {
   "cell_type": "markdown",
   "metadata": {},
   "source": [
    "<div class=\"alert alert-block alert-info\">\n",
    "Current RHESSys EC supports storm drinage along road network, (subsurface) sewer drinage, and surface drainage. \n",
    "</div>"
   ]
  },
  {
   "cell_type": "code",
   "execution_count": null,
   "metadata": {},
   "outputs": [],
   "source": [
    "### ... storm drinage along the paved roads\n",
    "$grassCMD \"$LOCATION\"/\"$MAPSET\" --exec r.mapcalc --overwrite expression=\"roadDEM = if(pavedroadFrac>0,dem,null())\"\n",
    "$grassCMD \"$LOCATION\"/\"$MAPSET\" --exec r.watershed -s --overwrite elevation=roadDEM drainage=roadDrain\n",
    "$grassCMD \"$LOCATION\"/\"$MAPSET\" --exec r.mapcalc --overwrite expression=\"roadExit = if(roadDrain<0, patch, null())\"\n",
    "$grassCMD \"$LOCATION\"/\"$MAPSET\" --exec r.mapcalc --overwrite expression=\"roadExitDEM = if(isnull(roadExit),null(),dem)\"\n",
    "$grassCMD \"$LOCATION\"/\"$MAPSET\" --exec r.to.vect --overwrite input=roadExit output=roadExit type=point column=inPatch\n",
    "#\n",
    "$grassCMD \"$LOCATION\"/\"$MAPSET\" --exec r.buffer --overwrite input=roadExit output=roadExit_buffer distances=120\n",
    "$grassCMD \"$LOCATION\"/\"$MAPSET\" --exec r.buffer --overwrite input=roadDEM output=road_buffer distances=30\n",
    "$grassCMD \"$LOCATION\"/\"$MAPSET\" --exec r.mapcalc --overwrite expression=\"roadExit_neighbor_area = if(roadExit_buffer>1 & isnull(road_buffer),  if(isnull(strExt) & impFrac==0,1, null()), null())\"\n",
    "$grassCMD \"$LOCATION\"/\"$MAPSET\" --exec r.clump --overwrite -d input=roadExit_neighbor_area output=roadExit_neighbor_id\n",
    "$grassCMD \"$LOCATION\"/\"$MAPSET\" --exec r.mapcalc --overwrite expression=\"roadExit_neighbor_usdDEM = if(roadExit_buffer>1 & isnull(road_buffer),  if(isnull(strExt) & impFrac==0,usdDEM, null()), null())\"\n",
    "curl -s \"$GITHUBLIBRARIES\"/roadstormdriangeOutlet.R | $grassCMD \"$LOCATION\"/$MAPSET --exec R --slave --args basin roadExitDEM roadExit_neighbor_id roadExit_neighbor_usdDEM dem xmap ymap patch roadExit_neighbor_usdDEMmed roadExitOutletPatchID roadExitOutlet 120\n",
    "$grassCMD \"$LOCATION\"/\"$MAPSET\" --exec r.to.vect --overwrite input=roadExitOutlet output=roadExitOutlet type=point column=inPatch"
   ]
  },
  {
   "cell_type": "code",
   "execution_count": null,
   "metadata": {},
   "outputs": [],
   "source": [
    "### ... rooftop surface routing\n",
    "$grassCMD \"$LOCATION\"/\"$MAPSET\" --exec r.mapcalc --overwrite expression=\"roofQ = if(roofFrac>0,1,null())\"\n",
    "$grassCMD \"$LOCATION\"/\"$MAPSET\" --exec r.grow --overwrite input=roofQ output=roofQgrow radius=1.51\n",
    "$grassCMD \"$LOCATION\"/\"$MAPSET\" --exec r.mapcalc --overwrite expression=\"roofDEM = if(isnull(roofQgrow),null(),if(isnull(roofQ),dem,dem+6))\"\n",
    "$grassCMD \"$LOCATION\"/\"$MAPSET\" --exec r.watershed -s --overwrite elevation=roofDEM drainage=roofDrain_\n",
    "$grassCMD \"$LOCATION\"/\"$MAPSET\" --exec r.mapcalc --overwrite expression=\"roofDrain = if(isnull(roofQ),null(),roofDrain_)\"\n",
    "### ... driveway surface routing\n",
    "$grassCMD \"$LOCATION\"/\"$MAPSET\" --exec r.mapcalc --overwrite expression=\"roaddrivewayDEM = if(pavedroadFrac_va1mFilled>0,if(drivewayFrac_va1mFilled>0, dem, null()),null())\"\n",
    "$grassCMD \"$LOCATION\"/\"$MAPSET\" --exec r.watershed -s --overwrite elevation=roaddrivewayDEM drainage=roaddrivewayDrain"
   ]
  },
  {
   "cell_type": "code",
   "execution_count": null,
   "metadata": {},
   "outputs": [],
   "source": [
    "### ... assume sewer lines go along major roads (imported from shapefile) and sewer lines drainge a neigbour area\n",
    "$grassCMD \"$LOCATION\"/\"$MAPSET\" --exec r.buffer --overwrite input=roads output=roadbuff distances=30\n",
    "$grassCMD \"$LOCATION\"/\"$MAPSET\" --exec r.mapcalc expression=\"sewercover = if( (lawnFrac>0.1 || impFrac >0.1) && pavedRoadFrac<0.3 && roadbuff>0, 1, null())\" --overwrite"
   ]
  },
  {
   "cell_type": "code",
   "execution_count": null,
   "metadata": {},
   "outputs": [],
   "source": [
    "### ... additional rapid surface drainage  (other than roof top, driveway, parking, and paved roads), e.g., drainage hole in playground / garden\n",
    "$grassCMD \"$LOCATION\"/\"$MAPSET\" --exec r.mapcalc --overwrite expression=\"addsurfdrain = if( forestFrac<0.5 && roofBuff>0, 1 , null())\""
   ]
  },
  {
   "cell_type": "code",
   "execution_count": null,
   "metadata": {},
   "outputs": [],
   "source": [
    "### ... soil compactness by construction\n",
    "$grassCMD \"$LOCATION\"/\"$MAPSET\" --exec r.mapcalc --overwrite expression=\"roof = if(roofFrac > 0.5, 1, null())\"\n",
    "$grassCMD \"$LOCATION\"/\"$MAPSET\" --exec r.buffer --overwrite input=roof output=roofBuff distances=30\n",
    "$grassCMD \"$LOCATION\"/\"$MAPSET\" --exec r.mapcalc --overwrite expression=\"naturalLand = if( (forestFrac>=1 || lawnFrac>=1)&& isnull(roofBuff), 1 , null())\"\n",
    "$grassCMD \"$LOCATION\"/\"$MAPSET\" --exec r.mapcalc --overwrite expression=\"compactedsoil = if( naturalLand>0, null(), basin)\""
   ]
  },
  {
   "cell_type": "code",
   "execution_count": null,
   "metadata": {},
   "outputs": [],
   "source": [
    "### ... well water supply, lawn irrigation, and septic (calculations here require 1-m high resolution elevation and LULC dataset)\n",
    "#\n",
    "# first identify rooftops and lawns from the 1-m LULC dataset\n",
    "# code 7 & 10 are rooftops\n",
    "$grassCMD \"$LOCATIONLULC\"/$MAPSET --exec r.mapcalc expression=\"rooftops = if(lulcRAW==7 || lulcRAW==10,1,null())\"\n",
    "$grassCMD \"$LOCATIONLULC\"/$MAPSET --exec r.clump -d --overwrite input=rooftops output=rooftopIDs\n",
    "$grassCMD \"$LOCATIONLULC\"/$MAPSET --exec r.to.vect input=rooftopIDs output=rooftopIDs type=area\n",
    "# code 5 is lawn & garden\n",
    "$grassCMD \"$LOCATIONLULC\"/$MAPSET --exec r.mapcalc expression=\"lawnfields = if(lulcRAW==5,1,null())\"\n",
    "$grassCMD \"$LOCATIONLULC\"/$MAPSET --exec r.clump -d --overwrite input=lawnfields output=lawnfieldIDs\n",
    "$grassCMD \"$LOCATIONLULC\"/$MAPSET --exec r.to.vect input=lawnfieldIDs output=lawnfieldIDs type=area\n",
    "# import back to project gis\n",
    "$grassCMD \"$LOCATION\"/$MAPSET --exec v.proj location=lulcRAW mapset=$MAPSET input=rooftopIDs output=rooftopIDs\n",
    "$grassCMD \"$LOCATION\"/$MAPSET --exec v.proj location=lulcRAW mapset=$MAPSET input=lawnfieldIDs output=lawnfieldIDs\n",
    "$grassCMD \"$LOCATION\"/$MAPSET --exec v.extract --overwrite input=rooftopIDs type=boundary,centroid output=rooftopIDsCentroid\n",
    "#\n",
    "# second import rooftops, lawns, and model patch IDs to elevation gis\n",
    "$grassCMD \"$LOCATIONDEM\"/$MAPSET --exec v.proj location=lulcRAW mapset=$MAPSET input=rooftopIDs output=rooftopIDs\n",
    "$grassCMD \"$LOCATIONDEM\"/$MAPSET --exec v.proj location=lulcRAW mapset=$MAPSET input=lawnfieldIDs output=lawnfieldIDs\n",
    "$grassCMD \"$LOCATIONDEM\"/$MAPSET --exec v.proj location=$LOCATION_NAME mapset=$MAPSET input=patch output=patch$RESOLUTION'm'\n",
    "$grassCMD \"$LOCATIONDEM\"/$MAPSET --exec v.to.rast input=patch$RESOLUTION'm' output=patch$RESOLUTION'm' use=attr attribute_column=value\n",
    "$grassCMD \"$LOCATIONDEM\"/$MAPSET --exec v.to.rast input=rooftopIDs output=rooftopIDs use=attr attribute_column=value\n",
    "$grassCMD \"$LOCATIONDEM\"/$MAPSET --exec v.to.rast input=lawnfieldIDs output=lawnfieldIDs use=attr attribute_column=value\n",
    "$grassCMD \"$LOCATIONDEM\"/$MAPSET --exec v.db.addcolumn map=rooftopIDs columns=\"lawnID integer\" \n",
    "$grassCMD \"$LOCATIONDEM\"/$MAPSET --exec v.distance from=rooftopIDs from_type=point,line,boundary,area to=lawnfieldIDs upload=to_attr column=lawnID to_column=value\n",
    "$grassCMD \"$LOCATIONDEM\"/$MAPSET --exec v.to.rast input=rooftopIDs output=rooftopIDlawnIDs use=attr attribute_column=lawnID\n",
    "$grassCMD \"$LOCATIONDEM\"/$MAPSET --exec r.mapcalc expression=\"xmap = x()\"\n",
    "$grassCMD \"$LOCATIONDEM\"/$MAPSET --exec r.mapcalc expression=\"ymap = y()\"\n",
    "# read in R for processing (this outputs the csv tables to document the potential well location in patchID and the potential septic drainage field locations at the possible downslope of the houses)\n",
    "curl -s \"$GITHUBLIBRARIES\"/well_septicDrainField_IrrigrationLawn_around_rooftops.R | $grassCMD \"$LOCATIONDEM\"/$MAPSET --exec R --slave --args patch30m demRAW lawnfieldIDs rooftopIDs rooftopIDlawnIDs xmap ymap \"$PROJDIR\"/\"$RHESSysNAME\"/septic_IN_OUT.csv \"$PROJDIR\"/\"$RHESSysNAME\"/lawnIrrigration_IN_OUT.csv"
   ]
  }
 ],
 "metadata": {
  "kernelspec": {
   "display_name": "R 3.4",
   "language": "R",
   "name": "ir34"
  },
  "language_info": {
   "codemirror_mode": "r",
   "file_extension": ".r",
   "mimetype": "text/x-r-source",
   "name": "R",
   "pygments_lexer": "r",
   "version": "3.4.1"
  }
 },
 "nbformat": 4,
 "nbformat_minor": 4
}

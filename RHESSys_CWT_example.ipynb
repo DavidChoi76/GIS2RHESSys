{
 "cells": [
  {
   "cell_type": "markdown",
   "metadata": {},
   "source": [
    "# RHESSys model setup script"
   ]
  },
  {
   "cell_type": "markdown",
   "metadata": {},
   "source": [
    "![alt text](https://raw.githubusercontent.com/laurencelin/GIS2RHESSys/master/rhessys_filesystem.png \"Logo Title Text 1\")\n",
    "\n",
    "https://github.com/laurencelin/GIS2RHESSys"
   ]
  },
  {
   "cell_type": "markdown",
   "metadata": {},
   "source": [
    "***\n",
    "## 1) RHESSys project directory & upload files"
   ]
  },
  {
   "cell_type": "markdown",
   "metadata": {},
   "source": [
    "### 1.A define directory names"
   ]
  },
  {
   "cell_type": "markdown",
   "metadata": {},
   "source": [
    "<div class=\"alert alert-block alert-danger\">\n",
    "<b>Cuction:</b> Please reload the blocks of codes below for each session.\n",
    "These two cells below setup the directory structures.\n",
    "</div>"
   ]
  },
  {
   "cell_type": "code",
   "execution_count": null,
   "metadata": {},
   "outputs": [],
   "source": [
    "%%bash --out SCRATCH \n",
    "printf \"/scratch/$USER\""
   ]
  },
  {
   "cell_type": "code",
   "execution_count": null,
   "metadata": {},
   "outputs": [],
   "source": [
    "# -------------------------- project and RHESSys\n",
    "PROJDIR='jupyter_ws18' #***\n",
    "RHESSysMODEL='ws18_local' #***\n",
    "# -------------------------- Other variables and paths (do not modify)\n",
    "RAWGISDIR=SCRATCH+'/'+PROJDIR+'/raw_data'\n",
    "RHESSysDIR=SCRATCH+'/'+PROJDIR+'/'+RHESSysMODEL\n",
    "GISDBASE=SCRATCH+'/'+PROJDIR+'/grass_dataset'\n",
    "RBASE=SCRATCH+'/'+PROJDIR+'/RLIB'\n",
    "# -------------------------- GIS spatial resolution and projection (UTM)\n",
    "# look up from http://spatialreference.org/ref/epsg/?page=1\n",
    "# EPSG:26917 = NAD83 UTM 17N\n",
    "# EPSG:26918 = NAD83 UTM 18N\n",
    "EPSGCODE='EPSG:26917' # NAD83 UTM 17N ***\n",
    "RESOLUTION=10 #***\n",
    "MAPSET='PERMANENT'\n",
    "# -----------------------------------------\n",
    "LOCATION=GISDBASE+'/'+RHESSysMODEL\n",
    "LOCATIONDEM=GISDBASE+'/'+'elevationRAW'\n",
    "LOCATIONSOIL=GISDBASE+'/'+'soilRAW'\n",
    "LOCATIONLULC=GISDBASE+'/'+'lulcRAW'"
   ]
  },
  {
   "cell_type": "markdown",
   "metadata": {},
   "source": [
    "<div class=\"alert alert-block alert-success\">\n",
    "<b>Optional:</b> create directories if directories are previously setup\n",
    "</div>"
   ]
  },
  {
   "cell_type": "code",
   "execution_count": null,
   "metadata": {},
   "outputs": [],
   "source": [
    "!mkdir {SCRATCH}/{PROJDIR}\n",
    "!mkdir {RAWGISDIR}\n",
    "!mkdir {RHESSysDIR}\n",
    "!mkdir {GISDBASE}\n",
    "!mkdir {RHESSysDIR}/flows\n",
    "!mkdir {RHESSysDIR}/worldfiles\n",
    "!mkdir {RHESSysDIR}/defs\n",
    "!mkdir {RHESSysDIR}/tecfiles\n",
    "!mkdir {RBASE}"
   ]
  },
  {
   "cell_type": "markdown",
   "metadata": {},
   "source": [
    "<div class=\"alert alert-block alert-success\">\n",
    "<b>Optional:</b>  create GRASS database for the project if it is not previously setup.\n",
    "</div>"
   ]
  },
  {
   "cell_type": "code",
   "execution_count": null,
   "metadata": {},
   "outputs": [],
   "source": [
    "!grass74 -c {EPSGCODE} -e {LOCATION}"
   ]
  },
  {
   "cell_type": "markdown",
   "metadata": {},
   "source": [
    "<div class=\"alert alert-block alert-success\">\n",
    "<b>Optional:</b> install R packages to work with GRASS if packages are not yet installed. (how to know)\n",
    "</div>"
   ]
  },
  {
   "cell_type": "code",
   "execution_count": null,
   "metadata": {},
   "outputs": [],
   "source": [
    "#-----------------------  make directory to hold scource codes from CRAN and download them\n",
    "!wget -O {RBASE}/sp_1.3-1.tar.gz https://cran.r-project.org/src/contrib/sp_1.3-1.tar.gz\n",
    "!wget -O {RBASE}/XML_3.98-1.16.tar.gz https://cran.r-project.org/src/contrib/XML_3.98-1.16.tar.gz\n",
    "!wget -O {RBASE}/rgdal_1.3-6.tar.gz https://cran.r-project.org/src/contrib/rgdal_1.3-6.tar.gz\n",
    "!wget -O {RBASE}/rgrass7_0.1-12.tar.gz https://cran.r-project.org/src/contrib/rgrass7_0.1-12.tar.gz\n",
    "#----------------------- install the downloaded packages into R 3.5.x\n",
    "!R CMD INSTALL {RBASE}/sp_1.3-1.tar.gz\n",
    "!R CMD INSTALL {RBASE}/XML_3.98-1.16.tar.gz\n",
    "!R CMD INSTALL {RBASE}/rgdal_1.3-6.tar.gz\n",
    "!grass74 {LOCATION}/{MAPSET} --exec R CMD INSTALL {RBASE}/rgrass7_0.1-12.tar.gz"
   ]
  },
  {
   "cell_type": "markdown",
   "metadata": {},
   "source": [
    "### 1.B upload data"
   ]
  },
  {
   "cell_type": "markdown",
   "metadata": {},
   "source": [
    "<div class=\"alert alert-block alert-info\">\n",
    "Upload files to the <project/raw_data>. You may use linux command for upload/download files on UVA Rivanna, which is the host cluster for this Jupyter Notebook.\n",
    "\n",
    "For example, scp -r <folder/files> [USER]@rivanna.hpc.virginia.edu:/scratch/[USER]/[Project]/raw_data\n",
    "</div>"
   ]
  },
  {
   "cell_type": "markdown",
   "metadata": {},
   "source": [
    "<div class=\"alert alert-block alert-success\">\n",
    "<b>Option 1:</b> Download GIS information from HydroShare\n",
    "</div>"
   ]
  },
  {
   "cell_type": "code",
   "execution_count": null,
   "metadata": {},
   "outputs": [],
   "source": [
    "HydroShareDownloadZip = '6a304067fba34f0c9890d6295e549bbc.zip'"
   ]
  },
  {
   "cell_type": "code",
   "execution_count": null,
   "metadata": {},
   "outputs": [],
   "source": [
    "from os import listdir\n",
    "import zipfile\n",
    "\n",
    "# how to detect already exist unzipped file?\n",
    "with zipfile.ZipFile(RAWGISDIR+'/'+HydroShareDownloadZip, 'r') as zip_ref:\n",
    "    zip_ref.extractall(RAWGISDIR)\n",
    "\n",
    "unzippedpath = RAWGISDIR+'/'+HydroShareDownloadZip.split('.')[0]+\"/data/contents/\"\n",
    "onlyfiles = [f for f in listdir(unzippedpath) if f.endswith(\".zip\")]\n",
    "with zipfile.ZipFile((unzippedpath+onlyfiles[0]), 'r') as zip_ref:\n",
    "    zip_ref.extractall(unzippedpath)\n",
    "    \n",
    "HydroShareDownloadDIR = unzippedpath+onlyfiles[0].split('.')[0]    \n",
    "listdir(unzippedpath+onlyfiles[0].split('.')[0])"
   ]
  },
  {
   "cell_type": "code",
   "execution_count": null,
   "metadata": {},
   "outputs": [],
   "source": [
    "HydroShareDownloadDIR = unzippedpath+onlyfiles[0].split('.')[0]    \n",
    "listdir(HydroShareDownloadDIR)"
   ]
  },
  {
   "cell_type": "code",
   "execution_count": null,
   "metadata": {},
   "outputs": [],
   "source": [
    "# do this mannually now until the problem is solved above.\n",
    "from os import listdir\n",
    "HydroShareDownloadDIR = '/scratch/hl8vq/jupyter_ws18/raw_data/6a304067fba34f0c9890d6295e549bbc/data/contents/Coweeta_EJRV'\n",
    "listdir(HydroShareDownloadDIR)"
   ]
  },
  {
   "cell_type": "code",
   "execution_count": null,
   "metadata": {},
   "outputs": [],
   "source": [
    "downloadedDEMfile = HydroShareDownloadDIR + '/' + 'dem.tif'\n",
    "#downloadedDEMfile = RAWGISDIR + '/' + \"dem.tif\"\n",
    "downloadedLULCfile = HydroShareDownloadDIR + '/' + 'NLCD.tif'\n",
    "gageShapefile = HydroShareDownloadDIR + '/' + 'coweeta_weirs_shp.shp' # (optional)"
   ]
  },
  {
   "cell_type": "markdown",
   "metadata": {},
   "source": [
    "<div class=\"alert alert-block alert-success\">\n",
    "<b>Option 2:</b> Upload files to Rivanna by yourself \n",
    "</div>"
   ]
  },
  {
   "cell_type": "code",
   "execution_count": null,
   "metadata": {},
   "outputs": [],
   "source": [
    "downloadedDEMfile = RAWGISDIR + '/' + 'dem.tif'\n",
    "downloadedLULCfile = RAWGISDIR + '/' + 'NLCD.tif'\n",
    "downloadedSSURGOdirectory = = RAWGISDIR + '/' + 'MC005'\n",
    "gageShapefile = RAWGISDIR + '/' + 'usgs.shp' # (optional)"
   ]
  },
  {
   "cell_type": "markdown",
   "metadata": {},
   "source": [
    "***\n",
    "## 3) setup GRASS 7.4.x database"
   ]
  },
  {
   "cell_type": "markdown",
   "metadata": {},
   "source": [
    "### 3.a import elevation from uploaded source"
   ]
  },
  {
   "cell_type": "code",
   "execution_count": null,
   "metadata": {},
   "outputs": [],
   "source": [
    "!grass74 {LOCATION}/{MAPSET} --exec r.in.gdal -e --overwrite input={downloadedDEMfile} output=demRAW location=elevationRAW"
   ]
  },
  {
   "cell_type": "markdown",
   "metadata": {},
   "source": [
    "<div class=\"alert alert-block alert-success\">\n",
    "<b>Option 1:</b> re-projection\n",
    "</div>"
   ]
  },
  {
   "cell_type": "code",
   "execution_count": null,
   "metadata": {},
   "outputs": [],
   "source": [
    "!grass74 {LOCATIONDEM}/{MAPSET} --exec g.region raster=demRAW\n",
    "!grass74 {LOCATIONDEM}/{MAPSET} --exec r.out.gdal --overwrite input=demRAW output={SCRATCH}/{PROJDIR}/raw_data/dem{RESOLUTION}m.tif format=GTiff\n",
    "!grass74 {LOCATION}/{MAPSET} --exec r.in.gdal -o -e --overwrite input={SCRATCH}/{PROJDIR}/raw_data/dem{RESOLUTION}m.tif output=dem\n",
    "!grass74 {LOCATION}/{MAPSET} --exec g.region raster=dem"
   ]
  },
  {
   "cell_type": "markdown",
   "metadata": {},
   "source": [
    "<div class=\"alert alert-block alert-success\">\n",
    "<b>Option 2:</b> re-projection and re-cast spatial resolution\n",
    "</div>"
   ]
  },
  {
   "cell_type": "code",
   "execution_count": null,
   "metadata": {},
   "outputs": [],
   "source": [
    "!grass74 {LOCATIONDEM}/{MAPSET} --exec g.region raster=demRAW\n",
    "!grass74 {LOCATIONDEM}/{MAPSET} --exec g.region res={RESOLUTION} -a -p\n",
    "!grass74 {LOCATIONDEM}/{MAPSET} --exec r.resamp.stats -w input=demRAW output=dem{RESOLUTION}m\n",
    "!grass74 {LOCATIONDEM}/{MAPSET} --exec r.out.gdal --overwrite input=dem$RESOLUTION'm' output={SCRATCH}/{PROJDIR}/raw_data/dem{RESOLUTION}m.tif format=GTiff\n",
    "!grass74 {LOCATION}/{MAPSET} --exec r.in.gdal -o -e --overwrite input={SCRATCH}/{PROJDIR}/raw_data/dem{RESOLUTION}m.tif output=dem\n",
    "!grass74 {LOCATION}/{MAPSET} --exec g.region raster=dem"
   ]
  },
  {
   "cell_type": "markdown",
   "metadata": {},
   "source": [
    "### 3.c import soil from uploaded source"
   ]
  },
  {
   "cell_type": "markdown",
   "metadata": {},
   "source": [
    "<div class=\"alert alert-block alert-success\">\n",
    "<b>Option 1:</b> import from the downloaded SSURGO\n",
    "</div>"
   ]
  },
  {
   "cell_type": "code",
   "execution_count": null,
   "metadata": {},
   "outputs": [],
   "source": [
    "!grass74 {LOCATION}/{MAPSET} --exec v.in.ogr --overwrite input={downloadedSSURGOdirectory}/spatial/soilmu_a_\"$(echo $downloadedSSURGOdirectory | tr '[A-Z]' '[a-z]')\".shp output=ssurgo location=soilRAW\n",
    "!grass74 {LOCATION}/{MAPSET} --exec v.proj --overwrite location=soilRAW mapset=PERMANENT input=ssurgo output=ssurgo\n",
    "!grass74 {LOCATION}/{MAPSET} --exec v.to.rast --overwrite input=ssurgo use=cat output=soil_ssurgo\n",
    "!grass74 {LOCATION}/{MAPSET} --exec v.db.select --overwrite map=ssurgo separator=comma file={SCRATCH}/{PROJDIR}/raw_data/soil_cat_mukey.csv\n",
    "## download R scripts to calculation soil types\n",
    "!wget -O {RBASE}/ssurgo_extraction.R https://raw.githubusercontent.com/laurencelin/ssurgo_extraction/master/ssurgo_extraction.R\n",
    "!wget -O {RBASE}/ssurgo_soiltexture2gis.R https://raw.githubusercontent.com/laurencelin/ssurgo_extraction/master/ssurgo_soiltexture2gis.R\n",
    "!Rscript {RBASE}/ssurgo_extraction.R {SCRATCH}/{PROJDIR}/raw_data/{downloadedSSURGOdirectory}\n",
    "!grass74 {LOCATION}/{MAPSET} --exec Rscript {RBASE}/ssurgo_soiltexture2gis.R {SCRATCH}/{PROJDIR}/raw_data/soil_cat_mukey.csv {SCRATCH}/{PROJDIR}/raw_data/{downloadedSSURGOdirectory}/soil_mukey_texture.csv"
   ]
  },
  {
   "cell_type": "markdown",
   "metadata": {},
   "source": [
    "<div class=\"alert alert-block alert-success\">\n",
    "<b>Option 2:</b> manually define by raster calculator\n",
    "</div>"
   ]
  },
  {
   "cell_type": "code",
   "execution_count": null,
   "metadata": {},
   "outputs": [],
   "source": [
    "!grass74 {LOCATION}/{MAPSET} --exec r.mapcalc --overwrite expression=\"soil_texture = 8\""
   ]
  },
  {
   "cell_type": "markdown",
   "metadata": {},
   "source": [
    "### 3.d delinearate study catchment, construct drainage structures, and define some RHESSys variables"
   ]
  },
  {
   "cell_type": "markdown",
   "metadata": {},
   "source": [
    "<div class=\"alert alert-block alert-info\">\n",
    "<b>Note:</b> We need to define an outlet for a catchment\n",
    "</div>"
   ]
  },
  {
   "cell_type": "markdown",
   "metadata": {},
   "source": [
    "<div class=\"alert alert-block alert-success\">\n",
    "<b>Option 1:</b> use Lat/Long (WSG84)\n",
    "</div>"
   ]
  },
  {
   "cell_type": "code",
   "execution_count": null,
   "metadata": {},
   "outputs": [],
   "source": [
    "### ... if input is Lat/Long (translate Lat/Long to UTM coordinate and then make a outlet.shp in LOCATION)\n",
    "%%bash\n",
    "gageLat='39.47947' # catchment outlet WSG84 Lat (decimal degree)\n",
    "gageLong='-76.67803' # catchment outlet WSG84 Long (decimal degree; includes the negative sign if applied)\n",
    "declare $(grass74 $LOCATION/$MAPSET --exec m.proj -i coordinates=$gageLong,$gageLat separator=space | awk '{print \"xyCoord=\" $1 \",\" $2}')\n",
    "echo $xyCoord | grass74 $LOCATION/$MAPSET --exec v.in.ascii in=- out=test x=1 y=2 separator=, --overwrite"
   ]
  },
  {
   "cell_type": "markdown",
   "metadata": {},
   "source": [
    "<div class=\"alert alert-block alert-success\">\n",
    "<b>Option 2:</b> upload outlet.shp (we use this option in this example)\n",
    "</div>"
   ]
  },
  {
   "cell_type": "code",
   "execution_count": null,
   "metadata": {},
   "outputs": [],
   "source": [
    "### ... if input is a shapefile point (import to LOCATIONOUTLET and the reproject to LOCATION as \"outlet\")\n",
    "!grass74 {LOCATION}/{MAPSET} --exec v.in.ogr --overwrite input={gageShapefile} output=outlet location=outletRAW\n",
    "LOCATIONOUTLET = GISDBASE+'/'+\"outletRAW\""
   ]
  },
  {
   "cell_type": "code",
   "execution_count": null,
   "metadata": {},
   "outputs": [],
   "source": [
    "!grass74 {LOCATIONOUTLET}/{MAPSET} --exec v.extract --overwrite input=outlet type=point where=\"COMMENT = 'Weir 18'\" output=gage"
   ]
  },
  {
   "cell_type": "code",
   "execution_count": null,
   "metadata": {},
   "outputs": [],
   "source": [
    "!grass74 {LOCATION}/{MAPSET} --exec v.proj --overwrite location=outletRAW mapset=PERMANENT input=gage output=outlet"
   ]
  },
  {
   "cell_type": "markdown",
   "metadata": {},
   "source": [
    "<div class=\"alert alert-block alert-info\">\n",
    "<b>Tip:</b> Use blue boxes (alert-info) for tips and notes. \n",
    "If it’s a note, you don’t have to include the word “Note”.\n",
    "</div>"
   ]
  },
  {
   "cell_type": "code",
   "execution_count": null,
   "metadata": {},
   "outputs": [],
   "source": [
    "expectedDrainageArea=125700 # meter squre \n",
    "\n",
    "GRASS_thres = 1000 # grid cell\n",
    "GRASS_drainarea_lowerbound = 0.98*expectedDrainageArea/RESOLUTION/RESOLUTION # (allow 2% error)\n",
    "GRASS_drainarea_upperbound = 1.02*expectedDrainageArea/RESOLUTION/RESOLUTION # (allow 2% error)\n",
    "!wget -O {RBASE}/grass_delineation.sh https://raw.githubusercontent.com/laurencelin/GIS2RHESSys/master/grass_delineation.sh\n",
    "!grass74 {LOCATION}/{MAPSET} --exec bash {RBASE}/grass_delineation.sh {GRASS_thres} {GRASS_drainarea_lowerbound} {GRASS_drainarea_upperbound}\n",
    "\n"
   ]
  },
  {
   "cell_type": "markdown",
   "metadata": {},
   "source": [
    "### 3.e define zones"
   ]
  },
  {
   "cell_type": "markdown",
   "metadata": {},
   "source": [
    "<div class=\"alert alert-block alert-info\">\n",
    "<b>Note:</b> Zone is for the climate"
   ]
  },
  {
   "cell_type": "markdown",
   "metadata": {},
   "source": [
    "<div class=\"alert alert-block alert-success\">\n",
    "<b>Option 1:</b> One zone for the entire catchment\n",
    "</div>"
   ]
  },
  {
   "cell_type": "code",
   "execution_count": null,
   "metadata": {},
   "outputs": [],
   "source": [
    "!grass74 {LOCATION}/{MAPSET} --exec r.mapcalc --overwrite expression=\"zone = hill\""
   ]
  },
  {
   "cell_type": "markdown",
   "metadata": {},
   "source": [
    "</div>\n",
    "<div class=\"alert alert-block alert-success\">\n",
    "<b>Option 2:</b> define zone by cluster analysis\n",
    "</div>"
   ]
  },
  {
   "cell_type": "code",
   "execution_count": null,
   "metadata": {},
   "outputs": [],
   "source": [
    "!wget -O {RBASE}/zone_cluster.R https://raw.githubusercontent.com/laurencelin/GIS2RHESSys/master/zone_cluster.R\n",
    "!grass74 {LOCATION}/{MAPSET} --exec Rscript {RBASE}/zone_cluster.R dem slope aspect hill"
   ]
  },
  {
   "cell_type": "markdown",
   "metadata": {},
   "source": [
    "</div>\n",
    "<div class=\"alert alert-block alert-success\">\n",
    "<b>Option 3:</b> define zone by patch\n",
    "</div>"
   ]
  },
  {
   "cell_type": "code",
   "execution_count": null,
   "metadata": {},
   "outputs": [],
   "source": [
    "!grass74 {LOCATION}/{MAPSET} --exec r.mapcalc --overwrite expression=\"zone = patch\""
   ]
  },
  {
   "cell_type": "markdown",
   "metadata": {},
   "source": [
    "### 3.f import LULC from uploaded scource"
   ]
  },
  {
   "cell_type": "code",
   "execution_count": null,
   "metadata": {},
   "outputs": [],
   "source": [
    "!grass74 {LOCATION}/{MAPSET} --exec r.in.gdal -e --overwrite input={downloadedLULCfile} output=lulcRAW location=lulcRAW\n",
    "!grass74 {LOCATIONLULC}/{MAPSET} --exec r.out.gdal --overwrite input=lulcRAW output={SCRATCH}/{PROJDIR}/raw_data/LULC{RESOLUTION}m.tif format=GTiff\n",
    "!grass74 {LOCATION}/{MAPSET} --exec r.in.gdal -o --overwrite input={SCRATCH}/{PROJDIR}/raw_data/LULC{RESOLUTION}m.tif output=NLCD"
   ]
  },
  {
   "cell_type": "code",
   "execution_count": null,
   "metadata": {
    "scrolled": true
   },
   "outputs": [],
   "source": [
    "!grass74 {LOCATION}/{MAPSET} --exec r.stats input=NLCD -c"
   ]
  },
  {
   "cell_type": "markdown",
   "metadata": {},
   "source": [
    "<div class=\"alert alert-block alert-success\">\n",
    "<b>Optional:</b> define landuse/vegetation/lai/imprevious/cover fraction from NLCD code\n",
    "</div>"
   ]
  },
  {
   "cell_type": "code",
   "execution_count": null,
   "metadata": {},
   "outputs": [],
   "source": [
    "!wget -O {RBASE}/NLCD2RHESSys.R https://raw.githubusercontent.com/laurencelin/GIS2RHESSys/master/NLCD2RHESSys.R\n",
    "!grass74 {LOCATION}/{MAPSET} --exec Rscript {RBASE}/NLCD2RHESSys.R"
   ]
  },
  {
   "cell_type": "code",
   "execution_count": null,
   "metadata": {},
   "outputs": [],
   "source": [
    "!grass74 {LOCATION}/{MAPSET} --exec g.list -p type='rast' | cat"
   ]
  },
  {
   "cell_type": "code",
   "execution_count": null,
   "metadata": {},
   "outputs": [],
   "source": [
    "!grass74 {LOCATION}/{MAPSET} --exec r.stats input=impervious -c"
   ]
  },
  {
   "cell_type": "markdown",
   "metadata": {},
   "source": [
    "### 3.h additional customizations"
   ]
  },
  {
   "cell_type": "markdown",
   "metadata": {},
   "source": [
    "define roads"
   ]
  },
  {
   "cell_type": "markdown",
   "metadata": {},
   "source": [
    "<div class=\"alert alert-block alert-success\">\n",
    "<b>Option 1:</b> upload road.shp and the rasterize it\n",
    "</div>"
   ]
  },
  {
   "cell_type": "code",
   "execution_count": null,
   "metadata": {},
   "outputs": [],
   "source": [
    "!grass74 {LOCATION}/{MAPSET} --exec v.in.ogr --overwrite input={SCRATCH}/{PROJDIR}/raw_data/{downloadedROADfile} output=roads location=roadRAW\n",
    "!grass74 {LOCATION}/{MAPSET} --exec v.proj --overwrite location=roadRAW mapset=PERMANENT input=roads output=roads\n",
    "!grass74 {LOCATION}/{MAPSET} --exec v.to.rast --overwrite input=roads@PERMANENT output=roads use=cat"
   ]
  },
  {
   "cell_type": "markdown",
   "metadata": {},
   "source": [
    "<div class=\"alert alert-block alert-success\">\n",
    "<b>Option 2:</b> upload road raster\n",
    "</div>"
   ]
  },
  {
   "cell_type": "code",
   "execution_count": null,
   "metadata": {},
   "outputs": [],
   "source": [
    "downloadedROADfile = HydroShareDownloadDIR + '/' + 'roads.tif'\n",
    "LOCATIONROAD = GISDBASE+'/'+'roadRAW'\n",
    "!grass74 {LOCATION}/{MAPSET} --exec r.in.gdal -e --overwrite input={downloadedROADfile} output=roadRAW location=roadRAW\n",
    "!grass74 {LOCATIONROAD}/{MAPSET} --exec r.out.gdal --overwrite input=roadRAW output={SCRATCH}/{PROJDIR}/raw_data/ROAD{RESOLUTION}m.tif format=GTiff\n",
    "!grass74 {LOCATION}/{MAPSET} --exec r.in.gdal -o --overwrite input={SCRATCH}/{PROJDIR}/raw_data/ROAD{RESOLUTION}m.tif output=roads"
   ]
  },
  {
   "cell_type": "markdown",
   "metadata": {},
   "source": [
    "define isohyet "
   ]
  },
  {
   "cell_type": "markdown",
   "metadata": {},
   "source": [
    "<div class=\"alert alert-block alert-success\">\n",
    "<b>Option 1:</b> no isohyet\n",
    "</div>"
   ]
  },
  {
   "cell_type": "code",
   "execution_count": null,
   "metadata": {},
   "outputs": [],
   "source": [
    "!grass74 {LOCATION}/{MAPSET} --exec r.mapcalc --overwrite expression=\"isohyet = 1\""
   ]
  },
  {
   "cell_type": "markdown",
   "metadata": {},
   "source": [
    "<div class=\"alert alert-block alert-success\">\n",
    "<b>Option 2:</b> upload road raster\n",
    "</div>"
   ]
  },
  {
   "cell_type": "code",
   "execution_count": null,
   "metadata": {},
   "outputs": [],
   "source": [
    "downloadedISOHYETfile = HydroShareDownloadDIR + '/' + 'isohyet.tif'\n",
    "LOCATIONISOHYET = GISDBASE+'/'+'isohyetRAW'\n",
    "!grass74 {LOCATION}/{MAPSET} --exec r.in.gdal -e --overwrite input={downloadedISOHYETfile} output=isohyetRAW location=isohyetRAW\n",
    "!grass74 {LOCATIONISOHYET}/{MAPSET} --exec r.out.gdal --overwrite input=roadRAW output={SCRATCH}/{PROJDIR}/raw_data/ISOHYET{RESOLUTION}m.tif format=GTiff\n",
    "!grass74 {LOCATION}/{MAPSET} --exec r.in.gdal -o --overwrite input={SCRATCH}/{PROJDIR}/raw_data/ISOHYET{RESOLUTION}m.tif output=isohyet"
   ]
  },
  {
   "cell_type": "markdown",
   "metadata": {},
   "source": [
    "***\n",
    "## 4) constructing worldfile and flowtable to RHESSys"
   ]
  },
  {
   "cell_type": "markdown",
   "metadata": {},
   "source": [
    "<div class=\"alert alert-block alert-info\">\n",
    "<b>Note:</b> This is the most important part"
   ]
  },
  {
   "cell_type": "markdown",
   "metadata": {},
   "source": [
    "<div class=\"alert alert-block alert-success\">\n",
    "<b>Option1:</b> copy climate series data from HydroShare download\n",
    "</div>"
   ]
  },
  {
   "cell_type": "code",
   "execution_count": null,
   "metadata": {},
   "outputs": [],
   "source": [
    "from os import listdir \n",
    "#!cp -r {HydroShareDownloadDIR}/rhessys/clim {SCRATCH}/{PROJDIR}/{RHESSysMODEL}\n",
    "onlyfiles = [f for f in listdir(SCRATCH+'/'+PROJDIR+'/'+RHESSysMODEL+'/clim') if f.endswith(\".base\")]\n",
    "tmp = !head -n1 {SCRATCH}/{PROJDIR}/{RHESSysMODEL}/clim/{onlyfiles[0]}\n",
    "climateBaseFile = 'clim/'+onlyfiles[0]\n",
    "climateBaseID = tmp.fields(0)[0]\n",
    "\n",
    "#!wget -O {RBASE}/g2w.R https://raw.githubusercontent.com/laurencelin/GIS2RHESSys/master/g2w.R\n",
    "#!wget -O {RBASE}/vegCollection.csv https://raw.githubusercontent.com/laurencelin/GIS2RHESSys/master/vegCollection.csv\n",
    "#!wget -O {RBASE}/soilCollection.csv https://raw.githubusercontent.com/laurencelin/GIS2RHESSys/master/soilCollection.csv\n",
    "#!wget -O {RBASE}/lulcCollection.csv https://raw.githubusercontent.com/laurencelin/GIS2RHESSys/master/lulcCollection.csv\n",
    "!grass74 {LOCATION}/{MAPSET} --exec Rscript {RBASE}/g2w.R {SCRATCH}/{PROJDIR} {climateBaseID} {climateBaseFile} {RBASE}/vegCollection.csv {RBASE}/soilCollection.csv {RBASE}/lulcCollection.csv {SCRATCH}/{PROJDIR}/{RHESSysMODEL}/worldfiles/worldfile.csv {SCRATCH}/{PROJDIR}/{RHESSysMODEL}/worldfiles/worldfile.hdr {SCRATCH}/{PROJDIR}/{RHESSysMODEL}/defs"
   ]
  },
  {
   "cell_type": "markdown",
   "metadata": {},
   "source": [
    "<div class=\"alert alert-block alert-success\">\n",
    "<b>Option2:</b> define climate info by user\n",
    "</div>"
   ]
  },
  {
   "cell_type": "code",
   "execution_count": null,
   "metadata": {},
   "outputs": [],
   "source": [
    "climateBaseFile = 'clim/SLB.base'\n",
    "climateBaseID = 101    \n",
    "\n",
    "!wget -O {RBASE}/g2w.R https://raw.githubusercontent.com/laurencelin/GIS2RHESSys/master/g2w.R\n",
    "!wget -O {RBASE}/vegCollection.csv https://raw.githubusercontent.com/laurencelin/GIS2RHESSys/1mUrban/vegCollection.csv\n",
    "!wget -O {RBASE}/soilCollection.csv https://raw.githubusercontent.com/laurencelin/GIS2RHESSys/1mUrban/soilCollection.csv\n",
    "!wget -O {RBASE}/lulcCollection.csv https://raw.githubusercontent.com/laurencelin/GIS2RHESSys/1mUrban/lulcCollection.csv\n",
    "!grass74 {LOCATION}/{MAPSET} --exec Rscript {RBASE}/g2w.R {SCRATCH}/{PROJDIR} {climateBaseID} {climateBaseFile} {RBASE}/vegCollection.csv {RBASE}/soilCollection.csv {RBASE}/lulcCollection.csv {SCRATCH}/{PROJDIR}/{RHESSysMODEL}/worldfiles/worldfile.csv {SCRATCH}/{PROJDIR}/{RHESSysMODEL}/worldfiles/worldfile.hdr {SCRATCH}/{PROJDIR}/{RHESSysMODEL}/defs"
   ]
  },
  {
   "cell_type": "code",
   "execution_count": null,
   "metadata": {},
   "outputs": [],
   "source": [
    "!wget -O {RBASE}/LIB_RHESSys_writeTable2World.R https://raw.githubusercontent.com/laurencelin/GIS2RHESSys/master/LIB_RHESSys_writeTable2World.R\n",
    "!Rscript {RBASE}/LIB_RHESSys_writeTable2World.R na {SCRATCH}/{PROJDIR}/{RHESSysMODEL}/worldfiles/worldfile.csv {SCRATCH}/{PROJDIR}/{RHESSysMODEL}/worldfiles/worldfile\n"
   ]
  },
  {
   "cell_type": "code",
   "execution_count": null,
   "metadata": {},
   "outputs": [],
   "source": [
    "!wget -O {RBASE}/createFlowRouting.R https://raw.githubusercontent.com/laurencelin/GIS2RHESSys/master/createFlowRouting.R\n",
    "!grass74 {LOCATION}/{MAPSET} --exec Rscript {RBASE}/createFlowRouting.R {SCRATCH}/{PROJDIR}/{RHESSysMODEL}/flows/flowtable.txt\n",
    "\n"
   ]
  },
  {
   "cell_type": "code",
   "execution_count": null,
   "metadata": {},
   "outputs": [],
   "source": []
  },
  {
   "cell_type": "markdown",
   "metadata": {},
   "source": [
    "****\n",
    "***\n",
    "***\n",
    "# testing section"
   ]
  },
  {
   "cell_type": "code",
   "execution_count": null,
   "metadata": {},
   "outputs": [],
   "source": [
    "pwd"
   ]
  },
  {
   "cell_type": "code",
   "execution_count": null,
   "metadata": {},
   "outputs": [],
   "source": [
    "!grass74 {LOCATIONDEM}/{MAPSET} --exec Rscript install.R"
   ]
  },
  {
   "cell_type": "code",
   "execution_count": null,
   "metadata": {},
   "outputs": [],
   "source": [
    "print(RBASE)"
   ]
  },
  {
   "cell_type": "code",
   "execution_count": null,
   "metadata": {},
   "outputs": [],
   "source": [
    "!echo {LOCATIONDEM}"
   ]
  },
  {
   "cell_type": "code",
   "execution_count": null,
   "metadata": {},
   "outputs": [],
   "source": [
    "!grass74 /scratch/hl8vq/jupyter_ws18/grass_dataset/outletRAW/{MAPSET} --exec v.to.db map=outlet type=point -p option=coor\n"
   ]
  },
  {
   "cell_type": "code",
   "execution_count": null,
   "metadata": {},
   "outputs": [],
   "source": [
    "!grass74 /scratch/hl8vq/jupyter_ws18/grass_dataset/outletRAW/{MAPSET} --exec db.describe -c outlet\n",
    "\n"
   ]
  },
  {
   "cell_type": "markdown",
   "metadata": {},
   "source": [
    "# comments below"
   ]
  },
  {
   "cell_type": "code",
   "execution_count": null,
   "metadata": {},
   "outputs": [],
   "source": [
    "%env"
   ]
  },
  {
   "cell_type": "code",
   "execution_count": null,
   "metadata": {},
   "outputs": [],
   "source": [
    "%R\n",
    "library(sp,lib='~/rlib')"
   ]
  },
  {
   "cell_type": "code",
   "execution_count": null,
   "metadata": {},
   "outputs": [],
   "source": [
    "!grass74 --version"
   ]
  },
  {
   "cell_type": "code",
   "execution_count": null,
   "metadata": {},
   "outputs": [],
   "source": [
    "!R --version"
   ]
  },
  {
   "cell_type": "code",
   "execution_count": null,
   "metadata": {},
   "outputs": [],
   "source": [
    "!Rscript"
   ]
  },
  {
   "cell_type": "code",
   "execution_count": null,
   "metadata": {},
   "outputs": [],
   "source": [
    "PROJDIR = 'test1'\n",
    "!mkdir {PROJDIR}\n",
    "!mkdir {PROJDIR}/raw_data\n",
    "\n",
    "!ls -l {PROJDIR}"
   ]
  },
  {
   "cell_type": "code",
   "execution_count": null,
   "metadata": {},
   "outputs": [],
   "source": [
    "contents = !ls\n",
    "print(contents)"
   ]
  },
  {
   "cell_type": "code",
   "execution_count": null,
   "metadata": {},
   "outputs": [],
   "source": [
    "%load https://raw.githubusercontent.com/dib-lab/khmer/master/scripts/fastq-to-fasta.py\n",
    "!curl -O https://raw.githubusercontent.com/dib-lab/khmer/master/scripts/fastq-to-fasta.py\n"
   ]
  },
  {
   "cell_type": "code",
   "execution_count": null,
   "metadata": {},
   "outputs": [],
   "source": [
    "m = Map(center=[35.049120, -83.433894], zoom=15)\n",
    "with open('coweeta_18.geojson') as f:\n",
    "    data = json.load(f)\n",
    "g = GeoJSON(data=data)\n",
    "m.add_layer(g)\n",
    "m"
   ]
  },
  {
   "cell_type": "markdown",
   "metadata": {},
   "source": [
    "## 2) Description of Sensitivity parameter"
   ]
  },
  {
   "cell_type": "markdown",
   "metadata": {},
   "source": [
    "### 1) -s"
   ]
  },
  {
   "cell_type": "markdown",
   "metadata": {},
   "source": [
    "-s : value1, value2, value3 \n",
    "  * the m, K, and soil depth parameter value initialized for each patch in the worldfile are multiplied by 1) value1 2) value2 and 3) value3 respectively during a simulation.)\n",
    "\n",
    " - value1 : m (the decay of hydraulic conductivity with depth)\n",
    " \n",
    " - value2 : K (hydraulic conductivity at the surface)\n",
    " \n",
    " - value3 : soil depth (hydraulic conductivity at the surface)"
   ]
  },
  {
   "cell_type": "markdown",
   "metadata": {},
   "source": [
    "### 2) -sv"
   ]
  },
  {
   "cell_type": "markdown",
   "metadata": {},
   "source": [
    "-sv : value1, value2 \n",
    "* (the m, K are multipliers to scale the vertical decay of hydraulic conductivity with depth (m), and vertical hydraulic conductivity at the surface (K)."
   ]
  },
  {
   "cell_type": "markdown",
   "metadata": {},
   "source": [
    "### 3) -gw"
   ]
  },
  {
   "cell_type": "markdown",
   "metadata": {},
   "source": [
    "-gw : value1, value2 \n",
    " * value1 : The first value is a multiplier on the sat_to_gw_coeff parameter set in the soil definition file (representing the amount of water moving from the saturated store to the groundwater store).\n",
    "  - sat_to_gw_coeff(%) : the amount of water moving from the saturated store to the groundwater store; bypasses roots\n",
    " * value2 : The second value is a multiplier on the gw_loss_coeff parameter in the hillslope default file (representing the amount of water moving from the groundwater store to the stream).\n",
    "  - gw_loss_coeff(%) : Percent of groundwater store lost to stream"
   ]
  },
  {
   "cell_type": "markdown",
   "metadata": {},
   "source": [
    "### 4) Parameter & typical range : m (0.01~20), Ksat0 (1~600), gw1 (0.001~0.3), gw2 (0.01~0.9)"
   ]
  },
  {
   "cell_type": "markdown",
   "metadata": {},
   "source": [
    "## 3) Set sensitivity parameters of RHESSys Model"
   ]
  },
  {
   "cell_type": "code",
   "execution_count": null,
   "metadata": {},
   "outputs": [],
   "source": [
    "executable_file = \"./RHESSys5.20.source/rhessys/rhessys5.20.0\""
   ]
  },
  {
   "cell_type": "code",
   "execution_count": null,
   "metadata": {},
   "outputs": [],
   "source": [
    "start_date = '2000 1 1 1'"
   ]
  },
  {
   "cell_type": "code",
   "execution_count": null,
   "metadata": {},
   "outputs": [],
   "source": [
    "end_date = '2008 10 1 1'"
   ]
  },
  {
   "cell_type": "code",
   "execution_count": null,
   "metadata": {},
   "outputs": [],
   "source": [
    "# -b only basin output; -gwtoriparian receiving groundwater and put in stream\n",
    "unknown_cmd = \"-b -newcaprise -capr 0.001 -gwtoriparian -capMax 0.01 -slowDrain -leafDarkRespScalar 0.5 -frootRespScalar 0.25 -StemWoodRespScalar 0.05 -t tecfiles/tec_daily.txt -w worldfiles/world -whdr worldfiles/world.hdr -r flows/flow.txt -rtz 2.7\""
   ]
  },
  {
   "cell_type": "code",
   "execution_count": null,
   "metadata": {},
   "outputs": [],
   "source": [
    "ratio = 0.1 # 0, -0.1"
   ]
  },
  {
   "cell_type": "code",
   "execution_count": null,
   "metadata": {},
   "outputs": [],
   "source": [
    "s_value1 = str(2.9 + 2.9*ratio)\n",
    "s_value2 = str(1.4 + 1.4*ratio)\n",
    "s_value3 = str(20.0 + 20.0*ratio)"
   ]
  },
  {
   "cell_type": "code",
   "execution_count": null,
   "metadata": {},
   "outputs": [],
   "source": [
    "sv_value1 = str(4.5 + 4.5*ratio)  \n",
    "sv_value2 = str(55.6 + 55.6*ratio)  "
   ]
  },
  {
   "cell_type": "code",
   "execution_count": null,
   "metadata": {},
   "outputs": [],
   "source": [
    "gw_value1 = str(0.05)   \n",
    "gw_value2 = str(0.1)  #calibrated values  "
   ]
  },
  {
   "cell_type": "code",
   "execution_count": null,
   "metadata": {},
   "outputs": [],
   "source": [
    "output_prefix = \"rhessys08\""
   ]
  },
  {
   "cell_type": "code",
   "execution_count": null,
   "metadata": {},
   "outputs": [],
   "source": [
    "cmd = \"{} -st {} -ed {} {} -pre output/{} -s {} {} {} -sv {} {} -gw {} {}\".format(executable_file, start_date, \n",
    "                                                                                  end_date, unknown_cmd, output_prefix, \n",
    "                                                                                  s_value1, s_value2, s_value3, \n",
    "                                                                                  sv_value1, sv_value2, \n",
    "                                                                                  gw_value1, gw_value2)"
   ]
  },
  {
   "cell_type": "markdown",
   "metadata": {},
   "source": [
    "## 4) run RHESSys Model"
   ]
  },
  {
   "cell_type": "code",
   "execution_count": null,
   "metadata": {},
   "outputs": [],
   "source": [
    "import subprocess\n",
    "import shlex"
   ]
  },
  {
   "cell_type": "code",
   "execution_count": null,
   "metadata": {},
   "outputs": [],
   "source": [
    "cmd = shlex.split(cmd)\n",
    "p = subprocess.Popen(cmd, stdout=subprocess.PIPE)\n",
    "output = p.communicate()[0].decode('utf-8')\n",
    "print(output)"
   ]
  },
  {
   "cell_type": "code",
   "execution_count": null,
   "metadata": {},
   "outputs": [],
   "source": [
    "cmd = shlex.split(cmd)\n",
    "p = subprocess.Popen(cmd, stdout=subprocess.PIPE)"
   ]
  },
  {
   "cell_type": "code",
   "execution_count": null,
   "metadata": {},
   "outputs": [],
   "source": [
    "p.communicate()[0].decode('utf-8')"
   ]
  },
  {
   "cell_type": "code",
   "execution_count": null,
   "metadata": {},
   "outputs": [],
   "source": [
    "!./RHESSys5.20.source/rhessys/rhessys5.20.0 -st 2000 1 1 1 -ed 2003 10 1 1 \\\n",
    "  -b -newcaprise -capr 0.001 -gwtoriparian -capMax 0.01 -slowDrain -leafDarkRespScalar 0.5 \\\n",
    "  -frootRespScalar 0.25 -StemWoodRespScalar 0.05 \\\n",
    "  -t tecfiles/tec_daily.txt -w worldfiles/world -whdr worldfiles/world.hdr -r flows/flow.txt -rtz 2.7 \\\n",
    "  -pre output/rhessys_m6K3 -s 6 3 20.0 -sv 4.5 55.6 -gw 0.05 0.1"
   ]
  },
  {
   "cell_type": "markdown",
   "metadata": {},
   "source": [
    "## 5) Plotting of RHESSys Model Output"
   ]
  },
  {
   "cell_type": "code",
   "execution_count": null,
   "metadata": {},
   "outputs": [],
   "source": [
    "%matplotlib inline\n",
    "import pandas as pd\n",
    "import matplotlib.pyplot as plt"
   ]
  },
  {
   "cell_type": "markdown",
   "metadata": {},
   "source": [
    " ## Basin Daily Output\n",
    " |                    RHESSys Output Abbreviation                   | Description |   Units |   \n",
    " |---------------------------------------------|-------------|-------------------|\n",
    " |         pot_surface_infil| Rain Throughfall    | mm          | \n",
    " |       snow_thr        | Snow Throughfall    | mm         | \n",
    " |sat_def_z  | Saturation Deficit with depth    | mm of depth          | \n",
    " |sat_def | Saturation Deficit - volume  | mm of water       | \n",
    " |rz_storage\t|Rooting Zone Storage\t|mm of water\n",
    " |unsat_stor|\tUnsaturated Storage\t|mm\n",
    " |rz_drainage|\tRooting Zone Drainage|\tmm\n",
    " |unsat_drain|\tUnsaturated| Storage\tmm\n",
    " |cap\t|Capillary Rise|\tmm\n",
    " |evap\t|Evaporation|\tmm\n",
    " |snowpack\t|Snow Water Equivalent (SWE)|\tmm\n",
    " |trans\t|Transpiration|\tmm\n",
    " |baseflow\t|Baseflow\t|mm\n",
    " |return\t|Return flow|\tmm\n",
    " |streamflow\t|Total Stream Outflow|\tmm (normalized by basin area)\n",
    " | psn\t|Net Photosynthesis\t|kgC/m2\n",
    "|lai\t|Leaf Area Index\t|m2/m2\n",
    "|gw.Qout\t|Groundwater Output\t|mm\n",
    "|gw.storage\t|Groundwater Store\t|mm\n",
    "|detention_store|\tDetention Store\t|mm\n",
    "|%sat_area|\tPercent Saturated Area\t|m2/m2\n",
    "|litter_store|\tLitter intercepted water Store\t|m2/m2\n",
    "|canopy_store|\tCanopy Intercepted water Store\t|m2/m2\n",
    "|%snow_cover|\tPercent Snow Cover\t|m2/m2\n",
    "|snow_subl|\tSnow Sublimation\t|\n",
    "|trans_var|\tSpatial variation in transpiration\t|\n",
    "|acc_trans\t\t||\n",
    "|acctransv_var\t\t||\n",
    "|pet\t|Potential Evapotranspiration|\tmm\n",
    "|dC13\t\t||\n",
    "|precip\t|Precipitation|\tmm\n",
    "|pcp_assim||\t\t\n",
    "|mortf\t|Fraction of Basin that have tree mortality\t|\n",
    "|tmax\t|Maximum Temperature\t|°C\n",
    "|tmin\t|Minimum Temperature\t|°C\n",
    "|tavg\t|Average Temperature\t|°C\n",
    "|vpd\t|Vapor Pressure Deficit\t|Pa\n",
    "|snowfall\t|Snowfall\t|\n",
    "|recharge\t|_Recharge of water to soil\t|\n",
    "|gpsn\t|Gross Photosynthesis\t|kgC/m2\n",
    "|resp\t|_ Respiration_\t|kgC/m2\n",
    "|gs\t|Canopy Conductance\t|mm/s?\n",
    "|rootdepth\t|Rooting depth\t|\n",
    "|plantc\t|Plant Carbon\t|kgC/m2\n",
    "|snowmelt\t|Snow Melt\t|\n",
    "|canopysubl\t|Canopy Sublimation\t|\n",
    "|routedstreamflow\t||\t\n",
    "|canopy_snow\t|Snow Intercepted on Canopy\t|\n",
    "|height\t|Canopy height\t|\n",
    "|evap_can\t|Canopy Evaporation?\t|\n",
    "|evap_lit\t|Litter Evaporation_\t|\n",
    "|evap_soil\t|Soil Evaporation_\t|\n",
    "|litrc\t|Litter Carbon_\t|\n",
    "|Kdown\t|Downward (from atmosphere) Direct Shortwave Radiation_\t|\n",
    "|Ldown\t|Downward (from atmosphere) Longwave Radiation_\t|\n",
    "|Kup\t|Reflected (upward) Shortwave Radiation_\t|\n",
    "|Lup\t|Reflected (upward) Longwave Radiation_\t|\n",
    "|Kstar_can\t|Absorbed shortwave by canopy\t|\n",
    "|Kstar_soil\t|Absorbed shortwave by soil\t|\n",
    "|Kstar_snow\t|Absorbed shortwave bysnow\t|\n",
    "|Lstar_can\t|Absorbed longwave by canopy\t|\n",
    "|Lstar_soil\t|Absorbed longwave by soil\t|\n",
    "|Lstar_snow\t|Absorbed longwave by snow\t|\n",
    "|LE_canopy\t|Latent heat evaporated by canopy\t|\n",
    "|LE_soil\tLa\t||\n",
    "|LE_snow\t\t||\n",
    "|Lstar_strat\t\t||\n",
    "|canopydrip\t\t||\n",
    "|ga\t|Aerodynamic Conductance\t|mm/s"
   ]
  },
  {
   "cell_type": "code",
   "execution_count": null,
   "metadata": {},
   "outputs": [],
   "source": [
    "path = \"output/\"\n",
    "#basin_daily_output = pd.read_csv(path + output_prefix +\"_basin.daily\", delimiter=\" \")\n",
    "basin_daily_output = pd.read_csv(path + \"rhessys_m6K3_basin.daily\", delimiter=\" \")"
   ]
  },
  {
   "cell_type": "code",
   "execution_count": null,
   "metadata": {},
   "outputs": [],
   "source": [
    "start_date = \"2000-01-01\"\n",
    "end_date = \"2001-09-30\"\n",
    "#end_date = \"2008-09-30\""
   ]
  },
  {
   "cell_type": "code",
   "execution_count": null,
   "metadata": {},
   "outputs": [],
   "source": [
    "date_index = pd.date_range(start_date, end_date, freq='1D')\n",
    "basin_daily_output_date = basin_daily_output.insert(loc=0, column='Date', value=date_index.values)\n",
    "#basin_daily_output_date1 = basin_daily_output.insert1(loc=0, column='Date', value=date_index.values)\n",
    "basin_daily_output_date_index = basin_daily_output.set_index('Date')\n",
    "#basin_daily_output_date1_index = basin_daily_output1.set_index('Date')"
   ]
  },
  {
   "cell_type": "code",
   "execution_count": null,
   "metadata": {},
   "outputs": [],
   "source": [
    "basin_daily_output_date_index.head()"
   ]
  },
  {
   "cell_type": "code",
   "execution_count": null,
   "metadata": {},
   "outputs": [],
   "source": [
    "plt_start_date = '2001-01-01'\n",
    "plt_end_date = '2001-09-30'"
   ]
  },
  {
   "cell_type": "code",
   "execution_count": null,
   "metadata": {},
   "outputs": [],
   "source": [
    "basin_daily_output_f = basin_daily_output_date_index.loc[plt_start_date:plt_end_date]\n",
    "basin_daily_output1_f = basin_daily_output_date1_index.loc[plt_start_date:plt_end_date]"
   ]
  },
  {
   "cell_type": "code",
   "execution_count": null,
   "metadata": {},
   "outputs": [],
   "source": [
    "# Rain Throughfall (mm)\n",
    "basin_daily_output_f['pot_surface_infil'].plot(figsize=(17,5))"
   ]
  },
  {
   "cell_type": "code",
   "execution_count": null,
   "metadata": {},
   "outputs": [],
   "source": [
    "# Saturation Deficit with depth (mm of depth)\n",
    "basin_daily_output_f['sat_def_z'].plot(figsize=(17,5))\n",
    "basin_daily_output1_f['sat_def_z'].plot(figsize=(17,5))"
   ]
  },
  {
   "cell_type": "code",
   "execution_count": null,
   "metadata": {},
   "outputs": [],
   "source": [
    "# Saturation Deficit - volume (mm of water)\n",
    "basin_daily_output_f['sat_def'].plot(figsize=(17,5))"
   ]
  },
  {
   "cell_type": "code",
   "execution_count": null,
   "metadata": {},
   "outputs": [],
   "source": [
    "# Rooting Zone Storage  (mm of water)\n",
    "basin_daily_output_f['rz_storage'].plot(figsize=(17,5))"
   ]
  },
  {
   "cell_type": "code",
   "execution_count": null,
   "metadata": {},
   "outputs": [],
   "source": [
    "# Unsaturated Storage (mm)\n",
    "basin_daily_output_f['unsat_stor'].plot(figsize=(17,5))"
   ]
  },
  {
   "cell_type": "code",
   "execution_count": null,
   "metadata": {},
   "outputs": [],
   "source": [
    "# Rooting Zone Drainage (mm)\n",
    "basin_daily_output_f['rz_drainage'].plot(figsize=(17,5))"
   ]
  },
  {
   "cell_type": "code",
   "execution_count": null,
   "metadata": {},
   "outputs": [],
   "source": [
    "# Unsaturated Drainage (mm)\n",
    "basin_daily_output_f['unsat_drain'].plot(figsize=(17,5))"
   ]
  },
  {
   "cell_type": "code",
   "execution_count": null,
   "metadata": {},
   "outputs": [],
   "source": [
    "# Capillary Rise (mm)\n",
    "basin_daily_output_f['cap'].plot(figsize=(17,5))"
   ]
  },
  {
   "cell_type": "code",
   "execution_count": null,
   "metadata": {},
   "outputs": [],
   "source": [
    "# Evaporation (mm)\n",
    "basin_daily_output_f['evap'].plot(figsize=(17,5))"
   ]
  },
  {
   "cell_type": "code",
   "execution_count": null,
   "metadata": {},
   "outputs": [],
   "source": [
    "# Snow Water Equivalent (SWE) (mm)\n",
    "basin_daily_output_f['snowpack'].plot(figsize=(17,5))"
   ]
  },
  {
   "cell_type": "code",
   "execution_count": null,
   "metadata": {},
   "outputs": [],
   "source": [
    "# Transpiration (mm)\n",
    "basin_daily_output_f['trans'].plot(figsize=(17,5))"
   ]
  },
  {
   "cell_type": "code",
   "execution_count": null,
   "metadata": {},
   "outputs": [],
   "source": [
    "# Baseflow (mm)\n",
    "basin_daily_output_f['baseflow'].plot(figsize=(17,5))"
   ]
  },
  {
   "cell_type": "code",
   "execution_count": null,
   "metadata": {},
   "outputs": [],
   "source": [
    "# Return flow (mm)\n",
    "basin_daily_output_f['return'].plot(figsize=(17,5))"
   ]
  },
  {
   "cell_type": "code",
   "execution_count": null,
   "metadata": {},
   "outputs": [],
   "source": [
    "# Total Stream Outflow (mm (normalized by basin area))\n",
    "basin_daily_output_f['streamflow'].plot(figsize=(17,5))"
   ]
  },
  {
   "cell_type": "code",
   "execution_count": null,
   "metadata": {},
   "outputs": [],
   "source": [
    "# Net Photosynthesis (kgC/m2)\n",
    "basin_daily_output_f['psn'].plot(figsize=(17,5))"
   ]
  },
  {
   "cell_type": "code",
   "execution_count": null,
   "metadata": {},
   "outputs": [],
   "source": [
    "# Leaf Area Index (m2/m2)\n",
    "basin_daily_output_f['lai'].plot(figsize=(17,5))"
   ]
  },
  {
   "cell_type": "code",
   "execution_count": null,
   "metadata": {},
   "outputs": [],
   "source": [
    "# Groundwater Output (mm)\n",
    "basin_daily_output_f['gw.Qout'].plot(figsize=(17,5))"
   ]
  },
  {
   "cell_type": "code",
   "execution_count": null,
   "metadata": {},
   "outputs": [],
   "source": [
    "# Groundwater Store (mm)\n",
    "basin_daily_output_f['gw.storage'].plot(figsize=(17,5))"
   ]
  },
  {
   "cell_type": "code",
   "execution_count": null,
   "metadata": {},
   "outputs": [],
   "source": [
    "# Detention Store (mm)\n",
    "basin_daily_output_f['detention_store'].plot(figsize=(17,5))"
   ]
  },
  {
   "cell_type": "code",
   "execution_count": null,
   "metadata": {},
   "outputs": [],
   "source": [
    "# Percent Saturated Area (m2/m2)\n",
    "basin_daily_output_f['%sat_area'].plot(figsize=(17,5))"
   ]
  },
  {
   "cell_type": "code",
   "execution_count": null,
   "metadata": {},
   "outputs": [],
   "source": [
    "# Litter intercepted water Store (m2/m2)\n",
    "basin_daily_output_f['litter_store'].plot(figsize=(17,5))"
   ]
  },
  {
   "cell_type": "code",
   "execution_count": null,
   "metadata": {},
   "outputs": [],
   "source": [
    "# Canopy Intercepted water Store (m2/m2)\n",
    "basin_daily_output_f['canopy_store'].plot(figsize=(17,5))"
   ]
  },
  {
   "cell_type": "code",
   "execution_count": null,
   "metadata": {},
   "outputs": [],
   "source": [
    "# Percent Snow Cover (m2/m2)\n",
    "basin_daily_output_f['%snow_cover'].plot(figsize=(17,5))"
   ]
  },
  {
   "cell_type": "code",
   "execution_count": null,
   "metadata": {},
   "outputs": [],
   "source": [
    "# Snow Sublimation\n",
    "basin_daily_output_f['snow_subl'].plot(figsize=(17,5))"
   ]
  },
  {
   "cell_type": "code",
   "execution_count": null,
   "metadata": {},
   "outputs": [],
   "source": [
    "# Spatial variation in transpiration\n",
    "basin_daily_output_f['trans_var'].plot(figsize=(17,5))"
   ]
  },
  {
   "cell_type": "code",
   "execution_count": null,
   "metadata": {},
   "outputs": [],
   "source": [
    "# \n",
    "basin_daily_output_f['acc_trans'].plot(figsize=(17,5))"
   ]
  },
  {
   "cell_type": "code",
   "execution_count": null,
   "metadata": {},
   "outputs": [],
   "source": [
    "# Potential Evapotranspiration\n",
    "basin_daily_output_f['pet'].plot(figsize=(17,5))"
   ]
  },
  {
   "cell_type": "code",
   "execution_count": null,
   "metadata": {},
   "outputs": [],
   "source": [
    "# \n",
    "basin_daily_output_f['dC13'].plot(figsize=(17,5))"
   ]
  },
  {
   "cell_type": "code",
   "execution_count": null,
   "metadata": {},
   "outputs": [],
   "source": [
    "# Precipitation (mm)\n",
    "basin_daily_output_f['precip'].plot(figsize=(17,5))"
   ]
  },
  {
   "cell_type": "code",
   "execution_count": null,
   "metadata": {},
   "outputs": [],
   "source": [
    "# \n",
    "basin_daily_output_f['pcp_assim'].plot(figsize=(17,5))"
   ]
  },
  {
   "cell_type": "code",
   "execution_count": null,
   "metadata": {},
   "outputs": [],
   "source": [
    "# Fraction of Basin that have tree mortality\n",
    "basin_daily_output_f['mortf'].plot(figsize=(17,5))"
   ]
  },
  {
   "cell_type": "code",
   "execution_count": null,
   "metadata": {},
   "outputs": [],
   "source": [
    "# Maximum Temperature (°C)\n",
    "basin_daily_output_f['tmax'].plot(figsize=(17,5))"
   ]
  },
  {
   "cell_type": "code",
   "execution_count": null,
   "metadata": {},
   "outputs": [],
   "source": [
    "# Minimum Temperature (°C)\n",
    "basin_daily_output_f['tmin'].plot(figsize=(17,5))"
   ]
  },
  {
   "cell_type": "code",
   "execution_count": null,
   "metadata": {},
   "outputs": [],
   "source": [
    "# Average Temperature (°C)\n",
    "basin_daily_output_f['tavg'].plot(figsize=(17,5))"
   ]
  },
  {
   "cell_type": "code",
   "execution_count": null,
   "metadata": {},
   "outputs": [],
   "source": [
    "# Vapor Pressure Deficit (°C)\n",
    "basin_daily_output_f['vpd'].plot(figsize=(17,5))"
   ]
  },
  {
   "cell_type": "code",
   "execution_count": null,
   "metadata": {},
   "outputs": [],
   "source": [
    "# Snowfall\n",
    "basin_daily_output_f['snowfall'].plot(figsize=(17,5))"
   ]
  },
  {
   "cell_type": "code",
   "execution_count": null,
   "metadata": {},
   "outputs": [],
   "source": [
    "# _Recharge of water to soil\n",
    "basin_daily_output_f['recharge'].plot(figsize=(17,5))"
   ]
  },
  {
   "cell_type": "code",
   "execution_count": null,
   "metadata": {},
   "outputs": [],
   "source": [
    "# _Gross Photosynthesis (kgC/m2)\n",
    "basin_daily_output_f['gpsn'].plot(figsize=(17,5))"
   ]
  },
  {
   "cell_type": "code",
   "execution_count": null,
   "metadata": {},
   "outputs": [],
   "source": [
    "# _ Respiration_ (kgC/m2)\n",
    "basin_daily_output_f['resp'].plot(figsize=(17,5))"
   ]
  },
  {
   "cell_type": "code",
   "execution_count": null,
   "metadata": {},
   "outputs": [],
   "source": [
    "# Canopy Conductance (mm/s?)\n",
    "basin_daily_output_f['gs'].plot(figsize=(17,5))"
   ]
  },
  {
   "cell_type": "code",
   "execution_count": null,
   "metadata": {},
   "outputs": [],
   "source": [
    "# Rooting depth\n",
    "basin_daily_output_f['rootdepth'].plot(figsize=(17,5))"
   ]
  },
  {
   "cell_type": "code",
   "execution_count": null,
   "metadata": {},
   "outputs": [],
   "source": [
    "# Plant Carbon (kgC/m2)\n",
    "basin_daily_output_f['plantc'].plot(figsize=(17,5))"
   ]
  },
  {
   "cell_type": "code",
   "execution_count": null,
   "metadata": {},
   "outputs": [],
   "source": [
    "# Snow Melt\n",
    "basin_daily_output_f['snowmelt'].plot(figsize=(17,5))"
   ]
  },
  {
   "cell_type": "code",
   "execution_count": null,
   "metadata": {},
   "outputs": [],
   "source": [
    "# Canopy Sublimation\n",
    "basin_daily_output_f['canopysubl'].plot(figsize=(17,5))"
   ]
  },
  {
   "cell_type": "code",
   "execution_count": null,
   "metadata": {},
   "outputs": [],
   "source": [
    "# \n",
    "basin_daily_output_f['routedstreamflow'].plot(figsize=(17,5))"
   ]
  },
  {
   "cell_type": "code",
   "execution_count": null,
   "metadata": {},
   "outputs": [],
   "source": [
    "# Snow Intercepted on Canopy\n",
    "basin_daily_output_f['canopy_snow'].plot(figsize=(17,5))"
   ]
  },
  {
   "cell_type": "code",
   "execution_count": null,
   "metadata": {},
   "outputs": [],
   "source": [
    "# Canopy height\n",
    "basin_daily_output_f['height'].plot(figsize=(17,5))"
   ]
  },
  {
   "cell_type": "code",
   "execution_count": null,
   "metadata": {},
   "outputs": [],
   "source": [
    "# Canopy Evaporation?\n",
    "basin_daily_output_f['evap_can'].plot(figsize=(17,5))"
   ]
  },
  {
   "cell_type": "code",
   "execution_count": null,
   "metadata": {},
   "outputs": [],
   "source": [
    "# Litter Evaporation_\n",
    "basin_daily_output_f['evap_lit'].plot(figsize=(17,5))"
   ]
  },
  {
   "cell_type": "code",
   "execution_count": null,
   "metadata": {},
   "outputs": [],
   "source": [
    "# Soil Evaporation_\n",
    "basin_daily_output_f['evap_soil'].plot(figsize=(17,5))"
   ]
  },
  {
   "cell_type": "code",
   "execution_count": null,
   "metadata": {},
   "outputs": [],
   "source": [
    "# Litter Carbon_\n",
    "basin_daily_output_f['litrc'].plot(figsize=(17,5))"
   ]
  },
  {
   "cell_type": "code",
   "execution_count": null,
   "metadata": {},
   "outputs": [],
   "source": [
    "# Downward (from atmosphere) Direct Shortwave Radiation_\n",
    "basin_daily_output_f['Kdown'].plot(figsize=(17,5))"
   ]
  },
  {
   "cell_type": "code",
   "execution_count": null,
   "metadata": {},
   "outputs": [],
   "source": [
    "# Downward (from atmosphere) Longwave Radiation_\n",
    "basin_daily_output_f['Ldown'].plot(figsize=(17,5))"
   ]
  },
  {
   "cell_type": "code",
   "execution_count": null,
   "metadata": {},
   "outputs": [],
   "source": [
    "# Reflected (upward) Shortwave Radiation_\n",
    "basin_daily_output_f['Kup'].plot(figsize=(17,5))"
   ]
  },
  {
   "cell_type": "code",
   "execution_count": null,
   "metadata": {},
   "outputs": [],
   "source": [
    "# Reflected (upward) Longwave Radiation_\n",
    "basin_daily_output_f['Lup'].plot(figsize=(17,5))"
   ]
  },
  {
   "cell_type": "code",
   "execution_count": null,
   "metadata": {},
   "outputs": [],
   "source": [
    "# Absorbed shortwave by canopy\n",
    "basin_daily_output_f['Kstar_can'].plot(figsize=(17,5))"
   ]
  },
  {
   "cell_type": "code",
   "execution_count": null,
   "metadata": {},
   "outputs": [],
   "source": [
    "# Absorbed shortwave by soil\n",
    "basin_daily_output_f['Kstar_soil'].plot(figsize=(17,5))"
   ]
  },
  {
   "cell_type": "code",
   "execution_count": null,
   "metadata": {},
   "outputs": [],
   "source": [
    "# Absorbed shortwave bysnow\n",
    "basin_daily_output_f['Kstar_snow'].plot(figsize=(17,5))"
   ]
  },
  {
   "cell_type": "code",
   "execution_count": null,
   "metadata": {},
   "outputs": [],
   "source": [
    "# Absorbed longwave by canopy\n",
    "basin_daily_output_f['Lstar_can'].plot(figsize=(17,5))"
   ]
  },
  {
   "cell_type": "code",
   "execution_count": null,
   "metadata": {},
   "outputs": [],
   "source": [
    "# Absorbed longwave by soil\n",
    "basin_daily_output_f['Lstar_soil'].plot(figsize=(17,5))"
   ]
  },
  {
   "cell_type": "code",
   "execution_count": null,
   "metadata": {},
   "outputs": [],
   "source": [
    "# Absorbed longwave by snow\n",
    "basin_daily_output_f['Lstar_snow'].plot(figsize=(17,5))"
   ]
  },
  {
   "cell_type": "code",
   "execution_count": null,
   "metadata": {},
   "outputs": [],
   "source": [
    "# Latent heat evaporated by canopy\n",
    "basin_daily_output_f['LE_canopy'].plot(figsize=(17,5))"
   ]
  },
  {
   "cell_type": "code",
   "execution_count": null,
   "metadata": {},
   "outputs": [],
   "source": [
    "# \n",
    "basin_daily_output_f['LE_soil'].plot(figsize=(17,5))"
   ]
  },
  {
   "cell_type": "code",
   "execution_count": null,
   "metadata": {},
   "outputs": [],
   "source": [
    "# LE_snow\n",
    "basin_daily_output_f['LE_snow'].plot(figsize=(17,5))"
   ]
  },
  {
   "cell_type": "code",
   "execution_count": null,
   "metadata": {},
   "outputs": [],
   "source": [
    "# \n",
    "basin_daily_output_f['Lstar_strat'].plot(figsize=(17,5))"
   ]
  },
  {
   "cell_type": "code",
   "execution_count": null,
   "metadata": {},
   "outputs": [],
   "source": [
    "# \n",
    "basin_daily_output_f['canopydrip'].plot(figsize=(17,5))"
   ]
  },
  {
   "cell_type": "code",
   "execution_count": null,
   "metadata": {},
   "outputs": [],
   "source": [
    "# Aerodynamic Conductance\n",
    "basin_daily_output_f['ga'].plot(figsize=(17,5))"
   ]
  },
  {
   "cell_type": "code",
   "execution_count": null,
   "metadata": {},
   "outputs": [],
   "source": [
    "plt.figure(1)\n",
    "plt.subplot(2,3,1)"
   ]
  },
  {
   "cell_type": "code",
   "execution_count": null,
   "metadata": {},
   "outputs": [],
   "source": [
    "fig = plt.figure(figsize=(18, 8))\n",
    "ax = fig.add_subplot(331)\n",
    "plt.plot(basin_daily_output_f.index,basin_daily_output_f['precip'])\n",
    "plt.legend()\n",
    "ax = fig.add_subplot(332)\n",
    "plt.plot(basin_daily_output_f.index,basin_daily_output_f['pet'])\n",
    "plt.legend()\n",
    "ax = fig.add_subplot(333)\n",
    "plt.plot(basin_daily_output_f.index,basin_daily_output_f['evap'])\n",
    "plt.legend()\n",
    "ax = fig.add_subplot(334)\n",
    "plt.plot(basin_daily_output_f.index,basin_daily_output_f['evap_can'])\n",
    "plt.legend()\n",
    "ax = fig.add_subplot(335)\n",
    "plt.plot(basin_daily_output_f.index,basin_daily_output_f['evap_lit'])\n",
    "plt.legend()\n",
    "ax = fig.add_subplot(336)\n",
    "plt.plot(basin_daily_output_f.index,basin_daily_output_f['evap_soil'])\n",
    "plt.legend()\n",
    "ax = fig.add_subplot(337)\n",
    "plt.plot(basin_daily_output_f.index,basin_daily_output_f['trans'])\n",
    "plt.legend()\n",
    "ax = fig.add_subplot(338)\n",
    "plt.plot(basin_daily_output_f.index,basin_daily_output_f['psn'])\n",
    "plt.legend()\n",
    "ax = fig.add_subplot(339)\n",
    "plt.plot(basin_daily_output_f.index,basin_daily_output_f['lai'])\n",
    "plt.legend()"
   ]
  },
  {
   "cell_type": "code",
   "execution_count": null,
   "metadata": {
    "scrolled": false
   },
   "outputs": [],
   "source": [
    "fig = plt.figure(figsize=(18, 8))\n",
    "ax = fig.add_subplot(331)\n",
    "plt.plot(basin_daily_output_f.index,basin_daily_output_f['precip'])\n",
    "plt.legend()\n",
    "ax = fig.add_subplot(332)\n",
    "plt.plot(basin_daily_output_f.index,basin_daily_output_f['streamflow'])\n",
    "plt.legend()\n",
    "ax = fig.add_subplot(333)\n",
    "plt.plot(basin_daily_output_f.index,basin_daily_output_f['return'])\n",
    "plt.legend()\n",
    "ax = fig.add_subplot(334)\n",
    "plt.plot(basin_daily_output_f.index,basin_daily_output_f['baseflow'])\n",
    "plt.legend()\n",
    "ax = fig.add_subplot(335)\n",
    "plt.plot(basin_daily_output_f.index,basin_daily_output_f['unsat_drain'])\n",
    "plt.legend()\n",
    "ax = fig.add_subplot(336)\n",
    "plt.plot(basin_daily_output_f.index,basin_daily_output_f['rz_drainage'])\n",
    "plt.legend()\n",
    "ax = fig.add_subplot(337)\n",
    "plt.plot(basin_daily_output_f.index,basin_daily_output_f['gw.Qout'])\n",
    "plt.legend()\n",
    "ax = fig.add_subplot(338)\n",
    "plt.plot(basin_daily_output_f.index,basin_daily_output_f['%sat_area'])\n",
    "plt.legend()\n",
    "ax = fig.add_subplot(339)\n",
    "plt.plot(basin_daily_output_f.index,basin_daily_output_f['tavg'])\n",
    "plt.legend()"
   ]
  },
  {
   "cell_type": "code",
   "execution_count": null,
   "metadata": {},
   "outputs": [],
   "source": [
    "fig = plt.figure(figsize=(18, 8))\n",
    "ax = fig.add_subplot(331)\n",
    "plt.plot(basin_daily_output_f.index,basin_daily_output_f['sat_def_z'])\n",
    "plt.legend()\n",
    "ax = fig.add_subplot(332)\n",
    "plt.plot(basin_daily_output_f.index,basin_daily_output_f['sat_def'])\n",
    "plt.legend()\n",
    "ax = fig.add_subplot(333)\n",
    "plt.plot(basin_daily_output_f.index,basin_daily_output_f['cap'])\n",
    "plt.legend()\n",
    "ax = fig.add_subplot(334)\n",
    "plt.plot(basin_daily_output_f.index,basin_daily_output_f['gw.storage'])\n",
    "plt.legend()\n",
    "ax = fig.add_subplot(335)\n",
    "plt.plot(basin_daily_output_f.index,basin_daily_output_f['detention_store'])\n",
    "plt.legend()\n",
    "ax = fig.add_subplot(336)\n",
    "plt.plot(basin_daily_output_f.index,basin_daily_output_f['litter_store'])\n",
    "plt.legend()\n",
    "ax = fig.add_subplot(337)\n",
    "plt.plot(basin_daily_output_f.index,basin_daily_output_f['canopy_store'])\n",
    "plt.legend()\n",
    "ax = fig.add_subplot(338)\n",
    "plt.plot(basin_daily_output_f.index,basin_daily_output_f['vpd'])\n",
    "plt.legend()\n",
    "ax = fig.add_subplot(339)\n",
    "plt.plot(basin_daily_output_f.index,basin_daily_output_f['recharge'])\n",
    "plt.legend()"
   ]
  },
  {
   "cell_type": "markdown",
   "metadata": {},
   "source": [
    "## 6) Validation between the observation and simulation data."
   ]
  },
  {
   "cell_type": "code",
   "execution_count": null,
   "metadata": {},
   "outputs": [],
   "source": [
    "path = \"obs/\"\n",
    "obs_streamflow = pd.read_csv(path + \"Qobs_18_r.csv\") #, header=3\n",
    "obs_streamflow.head()"
   ]
  },
  {
   "cell_type": "code",
   "execution_count": null,
   "metadata": {},
   "outputs": [],
   "source": [
    "start_date = \"1936-11-01\"\n",
    "date_index1 = pd.date_range(start_date, periods=len(obs_streamflow), freq='1D')\n",
    "obs_streamflow_date = obs_streamflow.insert(loc=0, column='Date', value=date_index1.values)\n",
    "obs_streamflow_date_index = obs_streamflow.set_index('Date')\n",
    "obs_streamflow_date_index.head()"
   ]
  },
  {
   "cell_type": "code",
   "execution_count": null,
   "metadata": {},
   "outputs": [],
   "source": [
    "obs_streamflow_filt = obs_streamflow_date_index.loc[plt_start_date:plt_end_date]"
   ]
  },
  {
   "cell_type": "code",
   "execution_count": null,
   "metadata": {},
   "outputs": [],
   "source": [
    "# create the plot figure \n",
    "plt.figure(figsize=(15,5))\n",
    "# get the current axis of the plot\n",
    "ax = plt.gca()\n",
    "# plot and set label, marker, and markersize\n",
    "ax.plot(obs_streamflow_filt['discharge (mm)'], label='Observation(mm)', marker=\"^\", markersize=3)\n",
    "ax.plot(basin_daily_output_f['streamflow'], label='Model Output(mm)', marker=\"*\", markersize=3)\n",
    "ax.grid(True)\n",
    "# set the y-axis labels\n",
    "ax.set_ylabel('Streaflow(m)', fontsize=15)\n",
    "# setting legend, xticks and yticks fontsizes\n",
    "plt.legend(fontsize=12)\n",
    "plt.xticks(rotation=90, fontsize=12)\n",
    "plt.yticks(fontsize=12)\n",
    "plt.show()"
   ]
  },
  {
   "cell_type": "markdown",
   "metadata": {},
   "source": [
    "#### Application of validation method"
   ]
  },
  {
   "cell_type": "code",
   "execution_count": null,
   "metadata": {},
   "outputs": [],
   "source": [
    "from sklearn.metrics import mean_absolute_error, mean_squared_error, r2_score\n",
    "from math import sqrt\n",
    "from pysumma.Validation import validation"
   ]
  },
  {
   "cell_type": "code",
   "execution_count": null,
   "metadata": {},
   "outputs": [],
   "source": [
    "# defind simulation & observation data\n",
    "lumped_simulation_streamflow = basin_daily_output_f['streamflow'].fillna(0)\n",
    "observation_streamflow = obs_streamflow_filt['discharge (mm)'].fillna(0)"
   ]
  },
  {
   "cell_type": "code",
   "execution_count": null,
   "metadata": {},
   "outputs": [],
   "source": [
    "# analyze validtation between 1d richards' runoff simulation and observation data.\n",
    "validation.analysis(observation_streamflow, lumped_simulation_streamflow)"
   ]
  },
  {
   "cell_type": "code",
   "execution_count": null,
   "metadata": {},
   "outputs": [],
   "source": [
    "r2_score(observation_streamflow, lumped_simulation_streamflow)"
   ]
  },
  {
   "cell_type": "code",
   "execution_count": null,
   "metadata": {},
   "outputs": [],
   "source": [
    "#bias NSE log.Q\n",
    "#monthly, daily, weekly"
   ]
  }
 ],
 "metadata": {
  "kernelspec": {
   "display_name": "RHESsys_v3",
   "language": "python",
   "name": "rhessys_python"
  },
  "language_info": {
   "codemirror_mode": {
    "name": "ipython",
    "version": 2
   },
   "file_extension": ".py",
   "mimetype": "text/x-python",
   "name": "python",
   "nbconvert_exporter": "python",
   "pygments_lexer": "ipython2",
   "version": "2.7.13"
  }
 },
 "nbformat": 4,
 "nbformat_minor": 2
}

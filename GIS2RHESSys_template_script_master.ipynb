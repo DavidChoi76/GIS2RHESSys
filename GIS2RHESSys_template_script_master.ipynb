{
 "cells": [
  {
   "cell_type": "markdown",
   "metadata": {},
   "source": [
    "# GIS2RHESSys - Template\n",
    "\n"
   ]
  },
  {
   "cell_type": "markdown",
   "metadata": {},
   "source": [
    "**Introduction:**\n",
    "The second part of model setup process, assumed GIS is well setup, is a template listing library files/parameter datasets and GIS maps/layers to build RHESSysEastCoast input files, include, def files, flow tables, worldfiles, and worldfile headers. Users need to provide climate data, obtain and complied the code of RHESSysEastCoast, and set \"tecfile\" to control the model output format. Model calibration is a seperated process (https://github.com/laurencelin/R-coded-scripts-for-RHESSys-calibration). "
   ]
  },
  {
   "cell_type": "markdown",
   "metadata": {},
   "source": [
    "**Software / computer requirements for GIS2RHESSys:**\n",
    "- Max OS / LINUX (e.g., Urbantu) \n",
    "- GRASS 7.x installed and its associated libraries (see GRASS GIS website for details)\n",
    "- R 3.6.x or above\n",
    "- R package “rgrass7” and its dependences"
   ]
  },
  {
   "cell_type": "markdown",
   "metadata": {},
   "source": [
    "## Headers and paths for all scripts"
   ]
  },
  {
   "cell_type": "markdown",
   "metadata": {},
   "source": [
    "<div class=\"alert alert-block alert-info\">\n",
    "The PATH settings below are for MAC OS. Users may need to modify some paths for the LINUX environment.\n",
    "</div>"
   ]
  },
  {
   "cell_type": "code",
   "execution_count": null,
   "metadata": {},
   "outputs": [],
   "source": [
    "# path setup below is for Mac OS\n",
    "# adding R paths\n",
    "export PATH=$PATH:/usr/local/bin\n",
    "export PATH=$PATH:/Library/Frameworks/R.framework/Resources\n",
    "# adding GRASS bin paths\n",
    "grassApp=$(ls /Applications | grep GRASS)\n",
    "grassVersion=$(ls /Applications | grep GRASS | awk -F'[.-]' '{print $2\".\"$3}')\n",
    "grassCMD=$(ls /Applications/\"$grassApp\"/Contents/Resources/bin | grep grass)\n",
    "export PATH=$PATH:/Applications/\"$grassApp\"/Contents/Resources/bin:/Applications/\"$grassApp\"/Contents/Resources/scripts:/etc:/usr/lib\n",
    "# adding GRASS environment variables: GISBASE_USER and GISBASE_SYSTEM in Grass.sh\n",
    "export PATH=$PATH:~/Library/GRASS/\"$grassVersion\"/Modules/bin:~/Library/GRASS/\"$grassVersion\"/Modules/scripts\n",
    "# adding GDAL and EPSG code lookup paths (Running gdal-config --datadir shows where GDAL searches for gcs.csv)\n",
    "export GDAL_DATA=/Applications/\"$grassApp\"/Contents/Resources/share/gdal\n",
    "GITHUBLIBRARIES=\"https://raw.githubusercontent.com/laurencelin/GIS2RHESSys/master/libraries\"\n"
   ]
  },
  {
   "cell_type": "code",
   "execution_count": null,
   "metadata": {},
   "outputs": [],
   "source": [
    "# path setup below is for UVA RIVANNA singularity rhessys_v3.img\n",
    "grassCMD='grass'\n",
    "GITHUBLIBRARIES=\"https://raw.githubusercontent.com/laurencelin/GIS2RHESSys/master/libraries\"\n"
   ]
  },
  {
   "cell_type": "markdown",
   "metadata": {},
   "source": [
    "<div class=\"alert alert-block alert-info\">\n",
    "set the project directory path and GRASS GIS databases path, ... \n",
    "</div>"
   ]
  },
  {
   "cell_type": "code",
   "execution_count": null,
   "metadata": {},
   "outputs": [],
   "source": [
    "PROJDIR='.' # path to the project location;\n",
    "EPSGCODE='EPSG:26918' # EPSG code for NAD83 UTM ##N for the catchment\n",
    "RESOLUTION=10 #spatial resolution (meters) of the grids\n",
    "RHESSysNAME='rhessys' # e.g., rhessys\n",
    "GISDBASE=\"$PROJDIR\"/grass_dataset\n",
    "LOCATION_NAME=\"$RHESSysNAME\"\n",
    "LOCATION=\"$GISDBASE\"/$LOCATION_NAME\n",
    "MAPSET=PERMANENT"
   ]
  },
  {
   "cell_type": "markdown",
   "metadata": {},
   "source": [
    "## template of listing maps/layers to build RHESSysEC model"
   ]
  },
  {
   "cell_type": "markdown",
   "metadata": {},
   "source": [
    "<div class=\"alert alert-block alert-info\">\n",
    "Below lists keywords in the template. Each keyword should follow by a space and the name of a map in GIS\n",
    "</div>"
   ]
  },
  {
   "cell_type": "code",
   "execution_count": null,
   "metadata": {},
   "outputs": [],
   "source": [
    "# ... paths to ouputs \n",
    "projdir [path to the project directory]\n",
    "outputWorldfile [path to the output] 1 \n",
    "outputWorldfileHDR [path to the output] 1\n",
    "outputDefs [path to the output] 1\n",
    "outputSurfFlow [path to the output] 1\n",
    "outputSubFlow [path to the output] 1"
   ]
  },
  {
   "cell_type": "code",
   "execution_count": null,
   "metadata": {},
   "outputs": [],
   "source": [
    "stationFile [path to the RHESSys climate station base file]\n",
    "stationID [ID in the base file]"
   ]
  },
  {
   "cell_type": "code",
   "execution_count": null,
   "metadata": {},
   "outputs": [],
   "source": [
    "# ... paths to parameter libraries\n",
    "vegCollection [path to the parameter library or online http://]\n",
    "soilCollection [path to the parameter library or online http://]\n",
    "lulcCollection [path to the parameter library or online http://]"
   ]
  },
  {
   "cell_type": "code",
   "execution_count": null,
   "metadata": {},
   "outputs": [],
   "source": [
    "# ... spatial hierarchical structure (must-have)\n",
    "basinMap [name of a map in GIS]\n",
    "hillslopeMap [name of a map in GIS]\n",
    "zoneMAP [name of a map in GIS]\n",
    "patchMAP [name of a map in GIS]"
   ]
  },
  {
   "cell_type": "code",
   "execution_count": null,
   "metadata": {},
   "outputs": [],
   "source": [
    "# ... soil characters (must-have) ... simple soil texture model\n",
    "soiltexture [name of a map in GIS]"
   ]
  },
  {
   "cell_type": "code",
   "execution_count": null,
   "metadata": {},
   "outputs": [],
   "source": [
    "# ... soil characters (must-have) ... detailed explicit soil model\n",
    "soiltexture [name of a map in GIS] \n",
    "soilidMAP [name of a map in GIS]\n",
    "soilksat0 [name of a map in GIS]\n",
    "soilksatdecay [name of a map in GIS]\n",
    "soilpor0 [name of a map in GIS]\n",
    "soilpordecay [name of a map in GIS]\n",
    "soilsand [name of a map in GIS]\n",
    "soilsilt [name of a map in GIS]\n",
    "soilclay [name of a map in GIS]\n",
    "soilbulkdensity [name of a map in GIS]\n",
    "soilparticledensity [name of a map in GIS]\n",
    "soilsoildepth [name of a map in GIS]\n",
    "soilactivedepth [name of a map in GIS]\n",
    "soilmaxrootdepth [name of a map in GIS]\n",
    "soilalbedo [name of a map in GIS]\n",
    "soilpor_size_index [name of a map in GIS]\n",
    "soilpsi_air_entry [name of a map in GIS]\n",
    "soilsoilc [name of a map in GIS]\n",
    "soilomdecay [name of a map in GIS]"
   ]
  },
  {
   "cell_type": "code",
   "execution_count": null,
   "metadata": {},
   "outputs": [],
   "source": [
    "# ... topographic variables (must-have)\n",
    "xMAP [name of a map in GIS]\n",
    "yMAP [name of a map in GIS]\n",
    "demMAP [name of a map in GIS]\n",
    "slopeMap [name of a map in GIS]\n",
    "aspectMAP [name of a map in GIS]\n",
    "twiMAP [name of a map in GIS] \n",
    "whorizonMAP [name of a map in GIS]\n",
    "ehorizonMAP [name of a map in GIS]\n",
    "isohyetMAP [name of a map in GIS]\n",
    "rowMap [name of a map in GIS]\n",
    "colMap [name of a map in GIS]\n",
    "drainMap [name of a map in GIS]"
   ]
  },
  {
   "cell_type": "code",
   "execution_count": null,
   "metadata": {},
   "outputs": [],
   "source": [
    "# ... patch total impervious (prevent infiltration & returnflow; change detention storage capacity)\n",
    "impFracMAP [name of a map in GIS] \n",
    "# ... forest vegetations [1...N]\n",
    "forestFracMAP [name of a map in GIS] \n",
    "tree1StratumID [name of a map in GIS]\n",
    "tree1FFrac [name of a map in GIS]\n",
    "tree1LAI [name of a map in GIS]\n",
    "tree2StratumID [name of a map in GIS]\n",
    "tree2FFrac [name of a map in GIS]\n",
    "tree2LAI [name of a map in GIS]\n",
    "# ... shrub vegetation [1...N]\n",
    "shrubFracMAP [name of a map in GIS]\n",
    "shrub1StratumID [name of a map in GIS]\n",
    "shrub1FFrac [name of a map in GIS]\n",
    "shrub1LAI [name of a map in GIS]\n",
    "shrub2StratumID [name of a map in GIS]\n",
    "shrub2FFrac [name of a map in GIS]\n",
    "shrub2LAI [name of a map in GIS]\n",
    "# ... crop vegetation [1...N]\n",
    "cropFracMAP [name of a map in GIS]\n",
    "crop1StratumID [name of a map in GIS]\n",
    "crop1FFrac [name of a map in GIS]\n",
    "crop1LAI [name of a map in GIS]\n",
    "crop2StratumID [name of a map in GIS]\n",
    "crop2FFrac [name of a map in GIS]\n",
    "crop2LAI [name of a map in GIS]\n",
    "# ... lawn/pasture vegetation [1...N]\n",
    "grassFracMAP [name of a map in GIS]\n",
    "grass1StratumID [name of a map in GIS]\n",
    "grass1FFrac [name of a map in GIS]\n",
    "grass1LAI [name of a map in GIS]\n",
    "grass2StratumID [name of a map in GIS]\n",
    "grass2FFrac [name of a map in GIS]\n",
    "grass2LAI [name of a map in GIS]"
   ]
  },
  {
   "cell_type": "code",
   "execution_count": null,
   "metadata": {},
   "outputs": [],
   "source": [
    "# ------------ The following maps are routing related ------------- #\n",
    "#\n",
    "# ... surface routing -- stream \n",
    "streamMap [name of a map in GIS]  # <-  (must-have) modeling stream-grids\n",
    "streamFullExtension [name of a map in GIS] # <- non-modeled surface drain in the channel (i.e., very small streams)\n",
    "#\n",
    "# ... surface routing -- road/driveway storm drainage\n",
    "otherImpMAP [name of a map in GIS] # <- e.g., driveway, parking space, private roads, sidewalks, ... etc\n",
    "pavedRoadFracMAP [name of a map in GIS] # <- major paved road network\n",
    "roadStormDrainInlet [name of a map in GIS] # <- inlet patchID at the inlet location; !isnull() triggers actionSTORMDRAIN;\n",
    "roadStormDrainOutlet [name of a map in GIS] # <- outlet patchID at the inlet location\n",
    "onRoadDraingeDir [name of a map in GIS] # <- drain directions\n",
    "#\n",
    "## ... surface routing -- surface drainage via pipes\n",
    "additionalSurfaceDrainInletMAP [name of a map in GIS] # <- inlet patchID at the inlet location\n",
    "additionalSurfaceDrainOutlet [name of a map in GIS] # <- outlet patchID at the inlet location\n",
    "#\n",
    "## ... surface routing -- housing\n",
    "roofMAP [name of a map in GIS] # <- prevent surrounding surface in-coming water to the rooftops\n",
    "roofDrainMAP [name of a map in GIS] # <- drain directions\n",
    "roofRedirectedInlet [name of a map in GIS] # <- inlet patchID at the inlet location\n",
    "roofRedirectedOutlet [name of a map in GIS] # <- outlet patchID at the inlet location; may be a water tank / raingarden / drainage design; but one outlet per roof grid\n",
    "#\n",
    "## ... subsurface drainages -- pipelines and sewers\n",
    "sewercoverMAP [name of a map in GIS] # <- !isnull() triggers actionSEWER; take out from streamflow\n",
    "pipecoverMAP [name of a map in GIS] # <- !isnull() triggers actionPIPEDRAIN; add back to streamflow but regulating watertable\n",
    "#\n",
    "## ... subsurface -- interrcepts\n",
    "compactedSoilMAP [name of a map in GIS] # wait for future updates\n",
    "unpavedRoadMap [name of a map in GIS] # road that cut the subsurface SAT flow\n",
    "basementFracMAP [name of a map in GIS] # wait for future updates\n",
    "\n",
    "## ... surface/subsurface -- transfer\n",
    "riparianMAP [name of a map in GIS] # <- !isnull() triggers actionRIPARIAN;\n",
    "\n",
    "septicMAP [name of a map in GIS] # <- presence of septic drain field in a patch; !isnull() triggers actionSEPTIC;\n",
    "septicInOutTable # <- csv table for known sources\n",
    "\n",
    "irrigrationMAP [name of a map in GIS] # presence of irrigation in a patch; !isnull() triggers actionIRRIGATION;\n",
    "irrigrationInOutTable  # <- csv table for known sources\n"
   ]
  },
  {
   "cell_type": "markdown",
   "metadata": {},
   "source": [
    "<div class=\"alert alert-block alert-info\">\n",
    "Below is script to write out the initial template. Assume the header has been defined.\n",
    "</div>"
   ]
  },
  {
   "cell_type": "code",
   "execution_count": null,
   "metadata": {},
   "outputs": [],
   "source": [
    "templateFile=\"$PROJDIR\"/\"$RHESSysNAME\"/g2w_template.txt\n",
    "#\n",
    "echo projdir \\\"\"$PROJDIR\"\\\" > \"$templateFile\"\n",
    "echo outputWorldfile \\\"\"$PROJDIR\"/\"$RHESSysNAME\"/worldfiles_soilexplicit/worldfileVegSeptic.csv\\\" 1 >> \"$templateFile\"\n",
    "echo outputWorldfileHDR \\\"\"$PROJDIR\"/\"$RHESSysNAME\"/worldfiles_soilexplicit/worldfileVegSeptic.hdr\\\" 1 >> \"$templateFile\"\n",
    "echo outputDefs \\\"\"$PROJDIR\"/\"$RHESSysNAME\"/defs_soilexplicitVegSeptic\\\" 1 >> \"$templateFile\"\n",
    "echo outputSurfFlow \\\"\"$PROJDIR\"/\"$RHESSysNAME\"/flows_soilexplicitSeptic/surfflow.txt\\\" 1 >> \"$templateFile\"\n",
    "echo outputSubFlow \\\"\"$PROJDIR\"/\"$RHESSysNAME\"/flows_soilexplicitSeptic/subflow.txt\\\" 1 >> \"$templateFile\"\n",
    "#\n",
    "echo zoneCollection \\\"https://raw.githubusercontent.com/laurencelin/GIS2RHESSys/master/zoneCollection.csv\\\" >> \"$templateFile\"\n",
    "echo hillCollection \\\"https://raw.githubusercontent.com/laurencelin/GIS2RHESSys/master/hillCollection.csv\\\" >> \"$templateFile\"\n",
    "echo vegCollection \\\"https://raw.githubusercontent.com/laurencelin/GIS2RHESSys/master/vegCollection.csv\\\" >> \"$templateFile\"\n",
    "echo soilCollection \\\"https://raw.githubusercontent.com/laurencelin/GIS2RHESSys/master/soilCollection.csv\\\" >> \"$templateFile\"\n",
    "echo lulcCollection \\\"https://raw.githubusercontent.com/laurencelin/GIS2RHESSys/master/lulcCollectionEC.csv\\\" >> \"$templateFile\"\n",
    "#\n",
    "# set climate station ID and file name\n",
    "echo stationID 101 >> \"$templateFile\"\n",
    "echo stationFile \\\"\"clim/stan.base\"\\\" >> \"$templateFile\"\n",
    "#\n",
    "# the following maps that must be provided with syntex:\n",
    "echo basinMap basin >> \"$templateFile\"\n",
    "echo hillslopeMap hill >> \"$templateFile\"\n",
    "echo zoneMAP zone_cluster >> \"$templateFile\"\n",
    "echo patchMAP patch >> \"$templateFile\"\n",
    "#\n",
    "echo soiltexture soil_texture >> \"$templateFile\"\n",
    "echo soilidMAP soil_ssurgo >> \"$templateFile\"\n",
    "echo soilksat0 soil_ksat_0 >> \"$templateFile\"\n",
    "echo soilksatdecay soil_ksat_decay >> \"$templateFile\"\n",
    "echo soilpor0 soil_por_0 >> \"$templateFile\"\n",
    "echo soilpordecay soil_por_decay >> \"$templateFile\"\n",
    "echo soilsand soil_sand >> \"$templateFile\"\n",
    "echo soilsilt soil_silt >> \"$templateFile\"\n",
    "echo soilclay soil_clay >> \"$templateFile\"\n",
    "echo soilbulkdensity soil_bulkdensity >> \"$templateFile\"\n",
    "echo soilparticledensity soil_particledensity >> \"$templateFile\"\n",
    "echo soilsoildepth soil_soildepth >> \"$templateFile\"\n",
    "echo soilactivedepth soil_activedepth >> \"$templateFile\"\n",
    "echo soilmaxrootdepth soil_maxrootdepth >> \"$templateFile\"\n",
    "echo soilalbedo soil_albedo >> \"$templateFile\"\n",
    "echo soilpor_size_index soil_por_size_index >> \"$templateFile\"\n",
    "echo soilpsi_air_entry soil_psi_air_entry >> \"$templateFile\"\n",
    "echo soilsoilc soil_soilc >> \"$templateFile\"\n",
    "echo soilomdecay soil_omdecay >> \"$templateFile\"\n",
    "#\n",
    "echo xMAP xmap >> \"$templateFile\"\n",
    "echo yMAP ymap >> \"$templateFile\"\n",
    "echo demMAP dem >> \"$templateFile\"\n",
    "echo slopeMap slope >> \"$templateFile\"\n",
    "echo aspectMAP aspect >> \"$templateFile\"\n",
    "echo twiMAP wetness_index >> \"$templateFile\"\n",
    "echo whorizonMAP west_180 >> \"$templateFile\"\n",
    "echo ehorizonMAP east_000 >> \"$templateFile\"\n",
    "echo isohyetMAP isohyet >> \"$templateFile\"\n",
    "echo rowMap rowmap >> \"$templateFile\"\n",
    "echo colMap colmap >> \"$templateFile\"\n",
    "echo drainMap drain >> \"$templateFile\"\n",
    "# ... patch total impervious\n",
    "echo impFracMAP impFrac >> \"$templateFile\"\n",
    "# ... forest vegetations\n",
    "echo forestFracMAP forestFrac_community >> \"$templateFile\"\n",
    "#\n",
    "echo tree1StratumID pine_vegid >> \"$templateFile\"\n",
    "echo tree1FFrac pine_Ffrac >> \"$templateFile\"\n",
    "echo tree1LAI pine_lai_calc >> \"$templateFile\"\n",
    "#\n",
    "echo tree2StratumID oak_vegid >> \"$templateFile\"\n",
    "echo tree2FFrac oak_Ffrac >> \"$templateFile\"\n",
    "echo tree2LAI oak_lai_calc >> \"$templateFile\"\n",
    "#\n",
    "echo tree3StratumID hemlock_vegid >> \"$templateFile\"\n",
    "echo tree3FFrac hemlock_Ffrac >> \"$templateFile\"\n",
    "echo tree3LAI hemlock_lai_calc >> \"$templateFile\"\n",
    "#\n",
    "echo tree4StratumID maple_vegid >> \"$templateFile\"\n",
    "echo tree4FFrac maple_Ffrac >> \"$templateFile\"\n",
    "echo tree4LAI maple_lai_calc >> \"$templateFile\"\n",
    "#\n",
    "echo tree5StratumID tulip_vegid >> \"$templateFile\"\n",
    "echo tree5FFrac tulip_Ffrac >> \"$templateFile\"\n",
    "echo tree5LAI tulip_lai_calc >> \"$templateFile\"\n",
    "#\n",
    "# ... shrub vegetation\n",
    "echo shrubFracMAP shrubFrac >> \"$templateFile\"\n",
    "echo shrub1StratumID shrub_vegid >> \"$templateFile\"\n",
    "echo shrub1FFrac shrub_Ffrac >> \"$templateFile\"\n",
    "echo shrub1LAI shrub_lai >> \"$templateFile\"\n",
    "# ... crop vegetation\n",
    "#echo cropFracMAP cropFrac >> \"$templateFile\"\n",
    "#echo crop1StratumID crop1StratumID >> \"$templateFile\"\n",
    "#echo crop1FFrac crop1FFrac >> \"$templateFile\"\n",
    "#echo crop1LAI crop1LAI >> \"$templateFile\"\n",
    "# ... lawn/pasture vegetation\n",
    "echo grassFracMAP lawnFrac >> \"$templateFile\"\n",
    "#echo grass1StratumID grass1StratumID >> \"$templateFile\"\n",
    "#echo grass1FFrac grass1FFrac >> \"$templateFile\"\n",
    "#echo grass1LAI grass1LAI >> \"$templateFile\"\n",
    "#\n",
    "# ------------ The following maps are routing related ------------- #\n",
    "#\n",
    "## ... surface routing -- stream \n",
    "echo streamMap str_adj >> \"$templateFile\" # ... modeling stream-grids\n",
    "echo streamFullExtension strExt >> \"$templateFile\" ## --> (non-modeled) stream surface drain\n",
    "#\n",
    "## ... surface routing -- road storm drainage\n",
    "#echo otherImpMAP drivewayFrac >> \"$templateFile\" # e.g., driveway, parking space, private roads, sidewalks, ... etc\n",
    "#echo pavedRoadFracMAP pavedroadFrac >> \"$templateFile\"\n",
    "#echo roadStormDrainInlet roadExit >> \"$templateFile\"\n",
    "#echo roadStormDrainOutlet roadExitOutletPatchID >> \"$templateFile\"\n",
    "#echo onRoadDraingeDir roaddrivewayDrain >> \"$templateFile\"\n",
    "#\n",
    "## ... surface routing -- surface drainage via pipes\n",
    "echo additionalSurfaceDrainInletMAP surfInlet >> \"$templateFile\" # <- inlet patchID at the inlet location\n",
    "echo additionalSurfaceDrainOutlet surfOutlet >> \"$templateFile\" # <- outlet patchID at the inlet location\n",
    "#\n",
    "## ... surface routing -- housing\n",
    "echo roofMAP roofFrac >> \"$templateFile\" # <- prevent surrounding surface in-coming water to the rooftops\n",
    "echo roofDrainMAP roofDrain >> \"$templateFile\" # <- drain directions\n",
    "echo roofRedirectedInlet roofInlet >> \"$templateFile\" # <- inlet patchID at the inlet location\n",
    "echo roofRedirectedOutlet roofOutlet >> \"$templateFile\" # <- outlet patchID at the inlet location; may be a water tank / raingarden / drainage design; but one outlet per roof grid\n",
    "#\n",
    "## ... subsurface drainages -- pipelines and sewers\n",
    "echo sewercoverMAP sewer >> \"$templateFile\" # <- !isnull() triggers actionSEWER; take out from streamflow\n",
    "echo pipecoverMAP pipe >> \"$templateFile\" # <- !isnull() triggers actionPIPEDRAIN; add back to streamflow but regulating watertable\n",
    "#\n",
    "## ... subsurface -- interrcepts\n",
    "echo compactedSoilMAP compactedSoil >> \"$templateFile\"\n",
    "echo unpavedRoadMap dirtRoad >> \"$templateFile\"\n",
    "echo basementFracMAP basement >> \"$templateFile\"\n",
    "#\n",
    "## ... surface/subsurface -- transfer\n",
    "echo riparianMAP riparian_hands >> \"$templateFile\" ## --> gw-to-riparian\n",
    "#\n",
    "echo septicMAP septic >> \"$templateFile\" # <- presence of septic drain field in a patch -> ACTIONSEPTIC \n",
    "echo septicInOutTable septic_IN_OUT.csv >> \"$templateFile\"\n",
    "#\n",
    "echo irrigrationMAP irrigationArea >> \"$templateFile\" # <- presence of irrigation in a patch -> ACTIONIRRIGATION \n",
    "echo irrigrationInOutTable lawnIrrigration_IN_OUT.csv >> \"$templateFile\"\n",
    "#"
   ]
  },
  {
   "cell_type": "markdown",
   "metadata": {},
   "source": [
    "### **Building RHESSysEC model with a template**"
   ]
  },
  {
   "cell_type": "markdown",
   "metadata": {},
   "source": [
    "<div class=\"alert alert-block alert-info\">\n",
    "Use the following commands to build the RHESSys input files from GRASS GIS. Assume the header has been defined.\n",
    "</div>"
   ]
  },
  {
   "cell_type": "code",
   "execution_count": null,
   "metadata": {},
   "outputs": [],
   "source": [
    "curl -s \"$GITHUBLIBRARIES\"/g2w_cf_RHESSysEC_soil_fullextraction.R | grass74 \"$LOCATION\"/$MAPSET --exec R --slave --args \"$templateFile\"\n",
    "curl -s \"$GITHUBLIBRARIES\"/LIB_RHESSys_writeTable2World_soil_fullextraction.R | R --slave --args na \"$PROJDIR\"/\"$RHESSysNAME\"/worldfiles/worldfile.csv \"$PROJDIR\"/\"$RHESSysNAME\"/worldfiles/worldfile"
   ]
  }
 ],
 "metadata": {
  "kernelspec": {
   "display_name": "R 3.4",
   "language": "R",
   "name": "ir34"
  },
  "language_info": {
   "codemirror_mode": "r",
   "file_extension": ".r",
   "mimetype": "text/x-r-source",
   "name": "R",
   "pygments_lexer": "r",
   "version": "3.4.1"
  }
 },
 "nbformat": 4,
 "nbformat_minor": 4
}

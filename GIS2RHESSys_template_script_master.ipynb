{
 "cells": [
  {
   "cell_type": "markdown",
   "metadata": {
    "button": false,
    "deletable": true,
    "new_sheet": false,
    "run_control": {
     "read_only": false
    }
   },
   "source": [
    "# GIS2RHESSys - Template\n",
    "\n"
   ]
  },
  {
   "cell_type": "markdown",
   "metadata": {
    "button": false,
    "deletable": true,
    "new_sheet": false,
    "run_control": {
     "read_only": false
    }
   },
   "source": [
    "**Introduction:**\n",
    "The second part of model setup process, assumed GIS is well setup, is a template listing library files/parameter datasets and GIS maps/layers to build RHESSysEastCoast input files, include, def files, flow tables, worldfiles, and worldfile headers. Users need to provide climate data, obtain and complied the code of RHESSysEastCoast, and set \"tecfile\" to control the model output format. Model calibration is a seperated process (https://github.com/laurencelin/R-coded-scripts-for-RHESSys-calibration). "
   ]
  },
  {
   "cell_type": "markdown",
   "metadata": {
    "button": false,
    "deletable": true,
    "new_sheet": false,
    "run_control": {
     "read_only": false
    }
   },
   "source": [
    "**Software / computer requirements for GIS2RHESSys:**\n",
    "- Max OS / LINUX (e.g., Urbantu) \n",
    "- GRASS 7.x installed and its associated libraries (see GRASS GIS website for details)\n",
    "- R 3.6.x or above\n",
    "- R package “rgrass7” and its dependences"
   ]
  },
  {
   "cell_type": "markdown",
   "metadata": {
    "button": false,
    "deletable": true,
    "new_sheet": false,
    "run_control": {
     "read_only": false
    }
   },
   "source": [
    "## Headers and paths for all scripts"
   ]
  },
  {
   "cell_type": "markdown",
   "metadata": {
    "button": false,
    "deletable": true,
    "new_sheet": false,
    "run_control": {
     "read_only": false
    }
   },
   "source": [
    "<div class=\"alert alert-block alert-info\">\n",
    "The PATH settings below are for MAC OS. Users may need to modify some paths for the LINUX environment.\n",
    "</div>"
   ]
  },
  {
   "cell_type": "code",
   "execution_count": null,
   "metadata": {
    "button": false,
    "collapsed": true,
    "deletable": true,
    "new_sheet": false,
    "run_control": {
     "read_only": false
    }
   },
   "outputs": [],
   "source": [
    "# path setup below is for Mac OS\n",
    "# adding R paths\n",
    "export PATH=$PATH:/usr/local/bin\n",
    "export PATH=$PATH:/Library/Frameworks/R.framework/Resources\n",
    "# adding GRASS bin paths\n",
    "grassApp=$(ls /Applications | grep GRASS)\n",
    "grassVersion=$(ls /Applications | grep GRASS | awk -F'[.-]' '{print $2\".\"$3}')\n",
    "grassCMD=$(ls /Applications/\"$grassApp\"/Contents/Resources/bin | grep grass)\n",
    "export PATH=$PATH:/Applications/\"$grassApp\"/Contents/Resources/bin:/Applications/\"$grassApp\"/Contents/Resources/scripts:/etc:/usr/lib\n",
    "# adding GRASS environment variables: GISBASE_USER and GISBASE_SYSTEM in Grass.sh\n",
    "export PATH=$PATH:~/Library/GRASS/\"$grassVersion\"/Modules/bin:~/Library/GRASS/\"$grassVersion\"/Modules/scripts\n",
    "# adding GDAL and EPSG code lookup paths (Running gdal-config --datadir shows where GDAL searches for gcs.csv)\n",
    "export GDAL_DATA=/Applications/\"$grassApp\"/Contents/Resources/share/gdal\n",
    "GITHUBLIBRARIES=\"https://raw.githubusercontent.com/laurencelin/GIS2RHESSys/master/libraries\"\n"
   ]
  },
  {
   "cell_type": "code",
   "execution_count": null,
   "metadata": {
    "button": false,
    "collapsed": true,
    "deletable": true,
    "new_sheet": false,
    "run_control": {
     "read_only": false
    }
   },
   "outputs": [],
   "source": [
    "# path setup below is for UVA RIVANNA singularity rhessys_v3.img\n",
    "grassCMD='grass'\n",
    "GITHUBLIBRARIES=\"https://raw.githubusercontent.com/laurencelin/GIS2RHESSys/master/libraries\"\n"
   ]
  },
  {
   "cell_type": "markdown",
   "metadata": {
    "button": false,
    "deletable": true,
    "new_sheet": false,
    "run_control": {
     "read_only": false
    }
   },
   "source": [
    "<div class=\"alert alert-block alert-info\">\n",
    "set the project directory path and GRASS GIS databases path, ... \n",
    "</div>"
   ]
  },
  {
   "cell_type": "code",
   "execution_count": null,
   "metadata": {
    "button": false,
    "collapsed": true,
    "deletable": true,
    "new_sheet": false,
    "run_control": {
     "read_only": false
    }
   },
   "outputs": [],
   "source": [
    "PROJDIR='.' # path to the project location;\n",
    "EPSGCODE='EPSG:26918' # EPSG code for NAD83 UTM ##N for the catchment\n",
    "RESOLUTION=10 #spatial resolution (meters) of the grids\n",
    "RHESSysNAME='rhessys' # e.g., rhessys\n",
    "GISDBASE=\"$PROJDIR\"/grass_dataset\n",
    "LOCATION_NAME=\"$RHESSysNAME\"\n",
    "LOCATION=\"$GISDBASE\"/$LOCATION_NAME\n",
    "MAPSET=PERMANENT"
   ]
  },
  {
   "cell_type": "markdown",
   "metadata": {
    "button": false,
    "deletable": true,
    "new_sheet": false,
    "run_control": {
     "read_only": false
    }
   },
   "source": [
    "## Example basic template \n",
    "(further explanations are below the example)"
   ]
  },
  {
   "cell_type": "code",
   "execution_count": null,
   "metadata": {
    "collapsed": true,
    "run_control": {}
   },
   "outputs": [],
   "source": [
    "projdir \".\"\n",
    "outputWorldfile \"./<RHESSysDIR>/worldfiles/worldfile.csv\" 1\n",
    "outputWorldfileHDR \"./<RHESSysDIR>/worldfiles/worldfile.hdr\" 1\n",
    "outputDefs \"./<RHESSysDIR>/defs\" 1\n",
    "outputSurfFlow \"./<RHESSysDIR>/flows/surfflow.txt\" 1\n",
    "outputSubFlow \"./<RHESSysDIR>/flows/subflow.txt\" 1\n",
    "zoneCollection \"https://raw.githubusercontent.com/laurencelin/GIS2RHESSys/master/zoneCollection.csv\"\n",
    "hillCollection \"https://raw.githubusercontent.com/laurencelin/GIS2RHESSys/master/hillCollection.csv\"\n",
    "vegCollection \"https://raw.githubusercontent.com/laurencelin/GIS2RHESSys/master/vegCollection.csv\"\n",
    "soilCollection \"https://raw.githubusercontent.com/laurencelin/GIS2RHESSys/master/soilCollection.csv\"\n",
    "lulcCollection \"https://raw.githubusercontent.com/laurencelin/GIS2RHESSys/master/lulcCollectionEC.csv\"\n",
    "stationID 101\n",
    "stationFile \"clim/<climateStation>.base\"\n",
    "basinMap basin\n",
    "hillslopeMap hill\n",
    "zoneMAP zone_cluster\n",
    "patchMAP patch\n",
    "soiltexture soil_texture\n",
    "xMAP xmap\n",
    "yMAP ymap\n",
    "demMAP dem\n",
    "slopeMap slope\n",
    "aspectMAP aspect\n",
    "twiMAP wetness_index\n",
    "whorizonMAP west_180\n",
    "ehorizonMAP east_000\n",
    "isohyetMAP isohyet\n",
    "rowMap rowmap\n",
    "colMap colmap\n",
    "drainMap drain\n",
    "impFracMAP impFrac\n",
    "forestFracMAP forestFrac\n",
    "tree1StratumID decidous\n",
    "tree1FFrac decidous_Ffracr\n",
    "tree1LAI decidous_LAIr\n",
    "grassFracMAP lawnFrac\n",
    "grass1StratumID grass1StratumID\n",
    "grass1FFrac grass1FFrac\n",
    "grass1LAI grass1LAI\n",
    "streamMap str"
   ]
  },
  {
   "cell_type": "markdown",
   "metadata": {
    "button": false,
    "new_sheet": false,
    "run_control": {
     "read_only": false
    }
   },
   "source": [
    "<div class=\"alert alert-block alert-info\">\n",
    "When the template is completed, run these command lines below to pass the template to R-G2W and start the extraction. the second command is to convert spreadsheet-form worldfile to RHESSys-ready worldfile\n",
    "</div>"
   ]
  },
  {
   "cell_type": "code",
   "execution_count": null,
   "metadata": {
    "button": false,
    "collapsed": true,
    "new_sheet": false,
    "run_control": {
     "read_only": false
    }
   },
   "outputs": [],
   "source": [
    "curl -s \"$GITHUBLIBRARIES\"/g2w_cf_RHESSysEC_soil_fullextraction.R | grass74 \"$LOCATION\"/$MAPSET --exec R --slave --args \"$templateFile\"\n",
    "curl -s \"$GITHUBLIBRARIES\"/LIB_RHESSys_writeTable2World_soil_fullextraction.R | R --slave --args na \"$PROJDIR\"/\"$RHESSysNAME\"/worldfiles/worldfile.csv \"$PROJDIR\"/\"$RHESSysNAME\"/worldfiles/worldfile"
   ]
  },
  {
   "cell_type": "markdown",
   "metadata": {
    "button": false,
    "new_sheet": false,
    "run_control": {
     "read_only": false
    }
   },
   "source": [
    "### Optional information add to the basic template\n",
    "<div class=\"alert alert-block alert-info\">\n",
    "For explicit soil information, we add the following template keywords and maps to the template file\n",
    "</div>"
   ]
  },
  {
   "cell_type": "code",
   "execution_count": null,
   "metadata": {
    "collapsed": true,
    "run_control": {}
   },
   "outputs": [],
   "source": [
    "# these maps are generated from explicit soil extraction R scripts\n",
    "soiltexture soil_texture\n",
    "soilidMAP soil_ssurgo\n",
    "soilksat0 soil_ksat_0\n",
    "soilksatdecay soil_ksat_decay\n",
    "soilpor0 soil_por_0\n",
    "soilpordecay soil_por_decay\n",
    "soilsand soil_sand\n",
    "soilsilt soil_silt\n",
    "soilclay soil_clay\n",
    "soilbulkdensity soil_bulkdensity\n",
    "soilparticledensity soil_particledensity\n",
    "soilsoildepth soil_soildepth\n",
    "soilactivedepth soil_activedepth\n",
    "soilmaxrootdepth soil_maxrootdepth\n",
    "soilalbedo soil_albedo\n",
    "soilpor_size_index soil_por_size_index\n",
    "soilpsi_air_entry soil_psi_air_entry\n",
    "soilsoilc soil_soilc\n",
    "soilomdecay soil_omdecay\n",
    "# some optional soil information (required user to define)\n",
    "soilpH soil_ph \n",
    "soil_theta_mean_std_p1 soil_thetap1 \n",
    "soil_theta_mean_std_p2 soil_thetap2 "
   ]
  },
  {
   "cell_type": "markdown",
   "metadata": {
    "button": false,
    "new_sheet": false,
    "run_control": {
     "read_only": false
    }
   },
   "source": [
    "<div class=\"alert alert-block alert-info\">\n",
    "For urban related routing features, we add the following template keywords and maps to the template file\n",
    "</div>"
   ]
  },
  {
   "cell_type": "code",
   "execution_count": null,
   "metadata": {
    "collapsed": true,
    "run_control": {}
   },
   "outputs": [],
   "source": [
    "# surface waterboyd, e.g., pond\n",
    "waterFracMAP waterFrac # from LULC\n",
    "demMAP demBurn # replace the demMAP from above; this is adjusted for pond depth\n",
    "drainMap drainBurn # replace the drainMAP from above; this is adjusted for pond depth\n",
    "\n",
    "# deep groundwater drainage to riparian \n",
    "riparianMAP riparian # from HAND or other data sources\n",
    "\n",
    "# water drainage along the road network\n",
    "otherImpMAP drivewayFrac  # from LULC\n",
    "pavedRoadFracMAP pavedroadFrac  # from LULC\n",
    "roadStormDrainInlet roadExit  # use storm drainage calculation in GIS step\n",
    "roadStormDrainOutlet roadExitOutletPatchID # use storm drainage calculation in GIS step\n",
    "onRoadDraingeDir roaddrivewayDrain # use storm drainage calculation in GIS step\n",
    "\n",
    "# rooftop drainage\n",
    "roofMAP roofFrac # from LULC\n",
    "roofDrainMAP roofDrain # see rooftop calculation in the GIS step\n",
    "\n",
    "# lawn irrigation / septic drainge field (easy setup)\n",
    "irrigrationMAP irrigration # user identified irrigation locations\n",
    "septicMAP septic # user identified septic drainage field locations\n",
    "\n",
    "# lawn irrigation / septic drainge field (with defined water sources)\n",
    "septicInOutTable ./<RHESSysDir>/rhessys30m/septic_IN_OUT.csv # see irrigation/septic GIS step\n",
    "irrigrationInOutTable ./<RHESSysDir>/lawnIrrigration_IN_OUT.csv # see irrigation/septic GIS step\n"
   ]
  },
  {
   "cell_type": "markdown",
   "metadata": {
    "button": false,
    "new_sheet": false,
    "run_control": {
     "read_only": false
    }
   },
   "source": [
    "## template of listing maps/layers to build RHESSysEC model"
   ]
  },
  {
   "cell_type": "markdown",
   "metadata": {
    "button": false,
    "deletable": true,
    "new_sheet": false,
    "run_control": {
     "read_only": false
    }
   },
   "source": [
    "<div class=\"alert alert-block alert-info\">\n",
    "Below lists keywords in the template. Each keyword should follow by a space and the name of a map in GIS. R-G2W script will output all the modeling .def files, flow tables, worldfile, worldfile header, and initated forest canopy biomass according to the provided LAI. Users need to make their own tecfile and climate time series.\n",
    "</div>"
   ]
  },
  {
   "cell_type": "code",
   "execution_count": null,
   "metadata": {
    "button": false,
    "collapsed": true,
    "deletable": true,
    "new_sheet": false,
    "run_control": {
     "read_only": false
    }
   },
   "outputs": [],
   "source": [
    "# ... paths to ouputs \n",
    "projdir [path to the project directory]\n",
    "outputWorldfile [path to the output] 1 # 1 means make an output that can overwrite existing file\n",
    "outputWorldfileHDR [path to the output] 1 # 1 means make an output that can overwrite existing file\n",
    "outputDefs [path to the output] 1 # 1 means make an output that can overwrite existing file\n",
    "outputSurfFlow [path to the output] 1 # 1 means make an output that can overwrite existing file\n",
    "outputSubFlow [path to the output] 1 # 1 means make an output that can overwrite existing file\n",
    "# set the \"1\" to \"0\" if users do not want to overwrite existing file "
   ]
  },
  {
   "cell_type": "code",
   "execution_count": null,
   "metadata": {
    "button": false,
    "collapsed": true,
    "deletable": true,
    "new_sheet": false,
    "run_control": {
     "read_only": false
    }
   },
   "outputs": [],
   "source": [
    "stationFile [path to the RHESSys climate station base file]\n",
    "stationID [ID in the base file] # normally it's the climate station ID number. (cont. below)\n",
    "# But this input could be a GIS map with station IDs, e.g., Thiessen polygon from mulitple stations"
   ]
  },
  {
   "cell_type": "code",
   "execution_count": null,
   "metadata": {
    "button": false,
    "collapsed": true,
    "deletable": true,
    "new_sheet": false,
    "run_control": {
     "read_only": false
    }
   },
   "outputs": [],
   "source": [
    "# ... paths to parameter libraries\n",
    "zoneCollection [path to the parameter library or online http://]\n",
    "hillCollection [path to the parameter library or online http://]\n",
    "vegCollection [path to the parameter library or online http://]\n",
    "soilCollection [path to the parameter library or online http://]\n",
    "lulcCollection [path to the parameter library or online http://]"
   ]
  },
  {
   "cell_type": "code",
   "execution_count": null,
   "metadata": {
    "button": false,
    "collapsed": true,
    "deletable": true,
    "new_sheet": false,
    "run_control": {
     "read_only": false
    }
   },
   "outputs": [],
   "source": [
    "# user can define multiple strata canopy\n",
    "# ... forest vegetations [1...N]\n",
    "forestFracMAP [name of a map in GIS] \n",
    "tree1StratumID [name of a map in GIS]\n",
    "tree1FFrac [name of a map in GIS]\n",
    "tree1LAI [name of a map in GIS]\n",
    "tree2StratumID [name of a map in GIS]\n",
    "tree2FFrac [name of a map in GIS]\n",
    "tree2LAI [name of a map in GIS]\n",
    "# ... shrub vegetation [1...N]\n",
    "shrubFracMAP [name of a map in GIS]\n",
    "shrub1StratumID [name of a map in GIS]\n",
    "shrub1FFrac [name of a map in GIS]\n",
    "shrub1LAI [name of a map in GIS]\n",
    "shrub2StratumID [name of a map in GIS]\n",
    "shrub2FFrac [name of a map in GIS]\n",
    "shrub2LAI [name of a map in GIS]\n",
    "# ... crop vegetation [1...N]\n",
    "cropFracMAP [name of a map in GIS]\n",
    "crop1StratumID [name of a map in GIS]\n",
    "crop1FFrac [name of a map in GIS]\n",
    "crop1LAI [name of a map in GIS]\n",
    "crop2StratumID [name of a map in GIS]\n",
    "crop2FFrac [name of a map in GIS]\n",
    "crop2LAI [name of a map in GIS]\n",
    "# ... lawn/pasture vegetation [1...N]\n",
    "grassFracMAP [name of a map in GIS]\n",
    "grass1StratumID [name of a map in GIS]\n",
    "grass1FFrac [name of a map in GIS]\n",
    "grass1LAI [name of a map in GIS]\n",
    "grass2StratumID [name of a map in GIS]\n",
    "grass2FFrac [name of a map in GIS]\n",
    "grass2LAI [name of a map in GIS]"
   ]
  },
  {
   "cell_type": "code",
   "execution_count": null,
   "metadata": {
    "button": false,
    "collapsed": true,
    "deletable": true,
    "new_sheet": false,
    "run_control": {
     "read_only": false
    }
   },
   "outputs": [],
   "source": [
    "# ------------ The following maps are routing related ------------- #\n",
    "#\n",
    "# ... surface routing -- stream \n",
    "streamMap [name of a map in GIS]  # <-  (must-have) modeling stream-grids\n",
    "streamFullExtension [name of a map in GIS] # <- non-modeled surface drain in the channel (i.e., very small streams)\n",
    "#\n",
    "# ... surface routing -- road/driveway storm drainage\n",
    "otherImpMAP [name of a map in GIS] # <- e.g., driveway, parking space, private roads, sidewalks, ... etc\n",
    "pavedRoadFracMAP [name of a map in GIS] # <- major paved road network\n",
    "roadStormDrainInlet [name of a map in GIS] # <- inlet patchID at the inlet location; !isnull() triggers actionSTORMDRAIN;\n",
    "roadStormDrainOutlet [name of a map in GIS] # <- outlet patchID at the inlet location\n",
    "onRoadDraingeDir [name of a map in GIS] # <- drain directions\n",
    "#\n",
    "## ... surface routing -- housing\n",
    "roofMAP [name of a map in GIS] # <- prevent surrounding surface in-coming water to the rooftops\n",
    "roofDrainMAP [name of a map in GIS] # <- drain directions\n",
    "roofRedirectedInlet [name of a map in GIS] # <- inlet patchID at the inlet location\n",
    "roofRedirectedOutlet [name of a map in GIS] # <- outlet patchID at the inlet location; may be a water tank / raingarden / drainage design; but one outlet per roof grid\n",
    "#\n",
    "## ... subsurface drainages -- pipelines and sewers\n",
    "sewercoverMAP [name of a map in GIS] # <- !isnull() triggers actionSEWER; take out from streamflow\n",
    "pipecoverMAP [name of a map in GIS] # <- !isnull() triggers actionPIPEDRAIN; add back to streamflow at outlet but regulating watertable\n",
    "#\n",
    "## ... subsurface -- interrcepts\n",
    "compactedSoilMAP [name of a map in GIS] # wait for future updates\n",
    "unpavedRoadMap [name of a map in GIS] # road that cut the subsurface SAT flow\n",
    "basementFracMAP [name of a map in GIS] # wait for future updates\n",
    "\n",
    "## ... surface/subsurface -- transfer\n",
    "riparianMAP [name of a map in GIS] # <- !isnull() triggers actionRIPARIAN;\n",
    "\n",
    "## ... irrigation / septic drainage field (easy setup)\n",
    "irrigrationMAP [name of a map in GIS] # presence of irrigation in a patch; !isnull() triggers actionIRRIGATION;\n",
    "septicMAP [name of a map in GIS] # <- presence of septic drain field in a patch; !isnull() triggers actionSEPTIC;\n",
    "\n",
    "## ... irrigation / septic drainage field with defined water sources\n",
    "septicInOutTable # <- csv table for known sources\n",
    "irrigrationInOutTable  # <- csv table for known sources\n"
   ]
  }
 ],
 "metadata": {
  "kernelspec": {
   "display_name": "R 3.4",
   "language": "R",
   "name": "ir34"
  },
  "language_info": {
   "codemirror_mode": "r",
   "file_extension": ".r",
   "mimetype": "text/x-r-source",
   "name": "R",
   "pygments_lexer": "r",
   "version": "3.4.1"
  }
 },
 "nbformat": 4,
 "nbformat_minor": 4
}
